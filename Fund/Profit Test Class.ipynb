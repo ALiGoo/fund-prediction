{
 "cells": [
  {
   "cell_type": "code",
   "execution_count": 1,
   "metadata": {},
   "outputs": [],
   "source": [
    "import pandas as pd\n",
    "import numpy as np\n",
    "import scipy.cluster.hierarchy as shc\n",
    "import matplotlib.pyplot as plt\n",
    "import statistics as stat\n",
    "\n",
    "from matplotlib.font_manager import FontProperties\n",
    "from sklearn.cluster import KMeans\n",
    "from sklearn.manifold import MDS\n",
    "from sklearn.cluster import AgglomerativeClustering\n",
    "from sklearn import manifold\n",
    "from sqlalchemy import create_engine\n",
    "from sqlalchemy.ext.automap import automap_base\n",
    "from abc import ABCMeta, abstractmethod\n",
    "\n",
    "%matplotlib inline\n",
    "plt.rcParams['axes.unicode_minus']=False\n",
    "engine = create_engine('sqlite:///fund.db')"
   ]
  },
  {
   "cell_type": "code",
   "execution_count": 2,
   "metadata": {},
   "outputs": [],
   "source": [
    "class ProfitVisualize(metaclass=ABCMeta):\n",
    "    \n",
    "    '''\n",
    "    input:\n",
    "        month_NAV：該月所有淨值\n",
    "        random_names：基金池的所有基金名\n",
    "    output:\n",
    "        整理出的features\n",
    "        與features對齊的基金名\n",
    "    '''\n",
    "    @abstractmethod\n",
    "    def getFeatures(self, NAV,names):\n",
    "        pass\n",
    "    \n",
    "    '''\n",
    "    input:回測年\n",
    "    output:基金池（名字）\n",
    "    '''\n",
    "    @abstractmethod\n",
    "    def poolDecide(self, year):\n",
    "        pass\n",
    "    \n",
    "    def getNAV(self,names,start,end):\n",
    "        data = pd.read_sql(sql='select * from price where date between ? and ? order by date asc',\n",
    "                                 con=engine,index_col='date', params=[start,end])\n",
    "        date = pd.read_sql(sql='select distinct date from price where date between ? and ? order by date asc',\n",
    "                                 con=engine,index_col='date', params=[start,end]).index\n",
    "        NAV = np.zeros((len(names),len(date)))\n",
    "        for j in range (len(names)):\n",
    "            temp = data[data['id'] == names[j]]\n",
    "            NAV[j][0] = temp.iloc[0]['NAV']\n",
    "            for i,day in enumerate(date[1:]):\n",
    "                try:\n",
    "                    NAV[j][i+1] = temp.loc[day]['NAV']\n",
    "                except:\n",
    "                    NAV[j][i+1] = NAV[j][i]\n",
    "        return NAV\n",
    "        \n",
    "    def __init__(self,clusterStrategy):\n",
    "        self.clusterStrategy = clusterStrategy\n",
    "    \n",
    "    def getProfitPicture(self):\n",
    "        year = input(\"請輸入欲回測年：\")        \n",
    "        names = self.poolDecide(year)\n",
    "        NAV = self.getNAV(names,year+'-01-01',year+'-01-31')\n",
    "        features,names,dissimilarity = self.getFeatures(NAV,names)\n",
    "        clustering = ClusterMethod(self.clusterStrategy).startClustering(features)\n",
    "        \n",
    "        mds = MDS(n_components=2, dissimilarity=dissimilarity, n_jobs=8).fit(features).embedding_\n",
    "        plt.figure(figsize=(15, 15))\n",
    "        plt.subplots_adjust(bottom=0.1)\n",
    "        plt.scatter(mds[:, 0], mds[:, 1], c=clustering.labels_)\n",
    "        plt.show()\n",
    "        \n",
    "        camp = pd.DataFrame(data=clustering.labels_, index=names,columns=['label'])\n",
    "        choose_name = []\n",
    "        for i in range(4):\n",
    "            choose_name.append(camp[camp['label'] == i].sample(n=1).index[0])\n",
    "        choose_name.append('0050 元大台灣50')\n",
    "        \n",
    "        NAV = self.getNAV(choose_name,year+'-01-01',year+'-12-31')        \n",
    "        rate = np.zeros((len(choose_name),len(NAV[0])-1))\n",
    "        for j in range (len(choose_name)):\n",
    "            for i in range (len(NAV[0])-1):\n",
    "                rate[j][i] = (NAV[j][i+1] - NAV[j][i]) / NAV[j][i]\n",
    "\n",
    "        choose_rate = []\n",
    "        for i in range(len(rate[0])):\n",
    "            temp = (rate[0][i] + rate[1][i] + rate[2][i] + rate[3][i])/4\n",
    "            choose_rate.append(temp)\n",
    "        \n",
    "        plt.figure(figsize=(13, 13))\n",
    "        plt.ylabel('漲跌幅')\n",
    "        plt.title('漲跌幅對比')\n",
    "        plt.plot(choose_rate)\n",
    "        plt.plot(rate[-1])\n",
    "        plt.legend(['choose','compare'])\n",
    "        plt.show()\n",
    "        \n",
    "        choose_profit = []\n",
    "        compare__profit = []\n",
    "        start = (NAV[0][0] + NAV[1][0] + NAV[2][0] + NAV[3][0])/4\n",
    "        for i in range(len(NAV[0])):\n",
    "            temp = (NAV[0][i] + NAV[1][i] + NAV[2][i] + NAV[3][i])/4\n",
    "            temp = (temp-start)/start*100\n",
    "            choose_profit.append(temp)\n",
    "            compare__profit.append((NAV[4][i]-NAV[4][0])/NAV[4][0]*100)\n",
    "            \n",
    "        plt.figure(figsize=(14, 14))\n",
    "        plt.ylabel('收益率')\n",
    "        plt.title('收益率對比')\n",
    "        plt.plot(choose_profit)\n",
    "        plt.plot(compare__profit)\n",
    "        plt.legend(['Choose','Compare'])\n",
    "        plt.show()"
   ]
  },
  {
   "cell_type": "code",
   "execution_count": 3,
   "metadata": {},
   "outputs": [],
   "source": [
    "class ClusterStrategy(metaclass=ABCMeta):\n",
    "    @abstractmethod\n",
    "    def Clustering(self,features):\n",
    "        pass"
   ]
  },
  {
   "cell_type": "code",
   "execution_count": 4,
   "metadata": {},
   "outputs": [],
   "source": [
    "class ClusterMethod:\n",
    "    def __init__(self, clusterStrategy):\n",
    "        self.clusterStrategy = clusterStrategy\n",
    "    \n",
    "    def startClustering(self,features):\n",
    "        return self.clusterStrategy.Clustering(features)"
   ]
  },
  {
   "cell_type": "code",
   "execution_count": 5,
   "metadata": {},
   "outputs": [],
   "source": [
    "class K_Means(ClusterStrategy):\n",
    "    def Clustering(self,features):\n",
    "        return KMeans(n_clusters=4).fit(features)"
   ]
  },
  {
   "cell_type": "code",
   "execution_count": 6,
   "metadata": {},
   "outputs": [],
   "source": [
    "class Hierarchical(ClusterStrategy):\n",
    "    def Clustering(self,features):\n",
    "        return AgglomerativeClustering(n_clusters=4).fit(features)"
   ]
  },
  {
   "cell_type": "markdown",
   "metadata": {},
   "source": [
    "# 實作框架"
   ]
  },
  {
   "cell_type": "code",
   "execution_count": 7,
   "metadata": {},
   "outputs": [],
   "source": [
    "'''\n",
    "每日漲跌幅\n",
    "'''\n",
    "class UpDownRate(ProfitVisualize):\n",
    "\n",
    "    def getFeatures(self, NAV,names):\n",
    "        length = len(NAV[0])-1\n",
    "        rate = np.zeros((len(names),length))\n",
    "        for j in range (len(names)):\n",
    "            for i in range (length):\n",
    "                rate[j][i] = (NAV[j][i+1] - NAV[j][i]) / NAV[j][i]\n",
    "        return rate,names,'euclidean'\n",
    "    \n",
    "    def poolDecide(self,year):\n",
    "        names = pd.read_sql(sql='select distinct id from price where date between ? and ? order by date asc',\n",
    "                                 con=engine, params=[year+'-01-01',year+'-01-31'])\n",
    "#         year = str(int(year)-1)\n",
    "#         temp = []\n",
    "#         for i in names.index:\n",
    "#             try:\n",
    "#                 price_first = pd.read_sql(sql='select NAV from price where date > ? and id = ? order by date asc limit 1',\n",
    "#                                              con=engine ,params=[year+'-01-01',names.iloc[i].id]).NAV.values[0]\n",
    "#                 price_last = pd.read_sql(sql='select NAV from price where date < ? and id = ? order by date desc limit 1',\n",
    "#                                              con=engine ,params=[year+'-12-31',names.iloc[i].id]).NAV.values[0]\n",
    "#                 if (price_last-price_first)/price_first <=-0.1:\n",
    "#                     temp.append(i)\n",
    "#             except:\n",
    "#                 temp.append(i)\n",
    "#         names = names.drop(index=temp,axis=0)\n",
    "        names = names['id'].sample(n=300).values\n",
    "        return names"
   ]
  },
  {
   "cell_type": "code",
   "execution_count": 8,
   "metadata": {},
   "outputs": [],
   "source": [
    "'''\n",
    "每日漲跌幅相關係數\n",
    "'''\n",
    "class UpDownRateSimilarity(ProfitVisualize):\n",
    "        \n",
    "    def getFeatures(self, NAV, names):\n",
    "        length = len(NAV[0])-1\n",
    "        rate = np.zeros((len(names),length))\n",
    "        for j in range (len(names)):\n",
    "            for i in range (length):\n",
    "                rate[j][i] = (NAV[j][i+1] - NAV[j][i]) / NAV[j][i]\n",
    "        \n",
    "        temp = []\n",
    "        for i,j in enumerate(rate):                        \n",
    "            if np.cov(j) == 0:\n",
    "                temp.append(i)                \n",
    "        rate = np.delete(rate,temp,0)\n",
    "        names = np.delete(names,temp,0)\n",
    "        \n",
    "        similarity = np.zeros((len(rate),len(rate)))\n",
    "        for i in range(len(rate)):\n",
    "            for j in range(len(rate)):\n",
    "                corr = np.corrcoef(rate[i],rate[j])[0][-1]\n",
    "                if i == j:\n",
    "                    corr = 1\n",
    "                similarity[i][j] = 1-(corr*0.5+0.5)\n",
    "                \n",
    "        return similarity,names,'precomputed'\n",
    "    \n",
    "    def poolDecide(self,year):\n",
    "        names = pd.read_sql(sql='select distinct id from price where date between ? and ? order by date asc',\n",
    "                                 con=engine, params=[year+'-01-01',year+'-01-31'])\n",
    "#         year = str(int(year)-1)\n",
    "#         temp = []\n",
    "#         for i in names.index:\n",
    "#             try:\n",
    "#                 price_first = pd.read_sql(sql='select NAV from price where date > ? and id = ? order by date asc limit 1',\n",
    "#                                              con=engine ,params=[year+'-01-01',names.iloc[i].id]).NAV.values[0]\n",
    "#                 price_last = pd.read_sql(sql='select NAV from price where date < ? and id = ? order by date desc limit 1',\n",
    "#                                              con=engine ,params=[year+'-12-31',names.iloc[i].id]).NAV.values[0]\n",
    "#                 if (price_last-price_first)/price_first <=-0.1:\n",
    "#                     temp.append(i)\n",
    "#             except:\n",
    "#                 temp.append(i)\n",
    "#         names = names.drop(index=temp,axis=0)\n",
    "        names = names['id'].sample(n=300).values\n",
    "        return names"
   ]
  },
  {
   "cell_type": "code",
   "execution_count": 9,
   "metadata": {},
   "outputs": [],
   "source": [
    "'''\n",
    "平均數\n",
    "'''\n",
    "class Mean(ProfitVisualize):\n",
    "        \n",
    "    def getFeatures(self, NAV,names):\n",
    "        features = pd.DataFrame(NAV)\n",
    "        for i in features:\n",
    "            features.iloc[i] = (features.iloc[i]-(stat.mean(features.iloc[i].values)))/features.iloc[i]           \n",
    "        \n",
    "        return features,names,'euclidean'\n",
    "    \n",
    "    def poolDecide(self,year):\n",
    "        names = pd.read_sql(sql='select distinct id from price where date between ? and ? order by date asc',\n",
    "                                 con=engine, params=[year+'-01-01',year+'-01-31'])\n",
    "#         year = str(int(year)-1)\n",
    "#         temp = []\n",
    "#         for i in names.index:\n",
    "#             try:\n",
    "#                 price_first = pd.read_sql(sql='select NAV from price where date > ? and id = ? order by date asc limit 1',\n",
    "#                                              con=engine ,params=[year+'-01-01',names.iloc[i].id]).NAV.values[0]\n",
    "#                 price_last = pd.read_sql(sql='select NAV from price where date < ? and id = ? order by date desc limit 1',\n",
    "#                                              con=engine ,params=[year+'-12-31',names.iloc[i].id]).NAV.values[0]\n",
    "#                 if (price_last-price_first)/price_first <=-0.1:\n",
    "#                     temp.append(i)\n",
    "#             except:\n",
    "#                 temp.append(i)\n",
    "#         names = names.drop(index=temp,axis=0)\n",
    "        names = names['id'].sample(n=300).values\n",
    "        return names"
   ]
  },
  {
   "cell_type": "code",
   "execution_count": 10,
   "metadata": {},
   "outputs": [],
   "source": [
    "'''\n",
    "平均數相關係數\n",
    "'''\n",
    "\n",
    "class MeanSimilarity(ProfitVisualize):\n",
    "    \n",
    "    def getFeatures(self, NAV,names):\n",
    "        features = pd.DataFrame(NAV)\n",
    "        for i in features:\n",
    "            features.iloc[i] = (features.iloc[i]-(stat.mean(features.iloc[i].values)))/features.iloc[i]           \n",
    "        features = features.values\n",
    "        \n",
    "        temp = []\n",
    "        for i,j in enumerate(features):\n",
    "            if np.cov(j) == 0:\n",
    "                temp.append(i)       \n",
    "        features = np.delete(features,temp,0)\n",
    "        names = np.delete(names,temp,0)\n",
    "        \n",
    "        similarity = np.zeros((len(features),len(features)))\n",
    "        for i in range(len(features)):\n",
    "            for j in range(len(features)):\n",
    "                corr = np.corrcoef(features[i],features[j])[0][-1]\n",
    "                if i == j:\n",
    "                    corr = 1\n",
    "                similarity[i][j] = 1-(corr*0.5+0.5)\n",
    "                \n",
    "        return similarity,names,'precomputed'\n",
    "    \n",
    "    def poolDecide(self,year):\n",
    "        names = pd.read_sql(sql='select distinct id from price where date between ? and ? order by date asc',\n",
    "                                 con=engine, params=[year+'-01-01',year+'-01-31'])\n",
    "#         year = str(int(year)-1)\n",
    "#         temp = []\n",
    "#         for i in names.index:\n",
    "#             try:\n",
    "#                 price_first = pd.read_sql(sql='select NAV from price where date > ? and id = ? order by date asc limit 1',\n",
    "#                                              con=engine ,params=[year+'-01-01',names.iloc[i].id]).NAV.values[0]\n",
    "#                 price_last = pd.read_sql(sql='select NAV from price where date < ? and id = ? order by date desc limit 1',\n",
    "#                                              con=engine ,params=[year+'-12-31',names.iloc[i].id]).NAV.values[0]\n",
    "#                 if (price_last-price_first)/price_first <=-0.1:\n",
    "#                     temp.append(i)\n",
    "#             except:\n",
    "#                 temp.append(i)\n",
    "#         names = names.drop(index=temp,axis=0)\n",
    "        names = names['id'].sample(n=300).values\n",
    "        return names"
   ]
  },
  {
   "cell_type": "raw",
   "metadata": {
    "scrolled": false
   },
   "source": [
    "profitVisualize = UpDownRate(K_Means())\n",
    "profitVisualize.getProfitPicture()"
   ]
  },
  {
   "cell_type": "raw",
   "metadata": {},
   "source": [
    "profitVisualize = UpDownRate(Hierarchical())\n",
    "profitVisualize.getProfitPicture()"
   ]
  },
  {
   "cell_type": "raw",
   "metadata": {},
   "source": [
    "profitVisualize = UpDownRateSimilarity(K_Means())\n",
    "profitVisualize.getProfitPicture()"
   ]
  },
  {
   "cell_type": "raw",
   "metadata": {
    "scrolled": false
   },
   "source": [
    "profitVisualize = UpDownRateSimilarity(Hierarchical())\n",
    "profitVisualize.getProfitPicture()"
   ]
  },
  {
   "cell_type": "raw",
   "metadata": {
    "scrolled": false
   },
   "source": [
    "profitVisualize = Mean(K_Means())\n",
    "profitVisualize.getProfitPicture()"
   ]
  },
  {
   "cell_type": "raw",
   "metadata": {},
   "source": [
    "profitVisualize = Mean(Hierarchical())\n",
    "profitVisualize.getProfitPicture()"
   ]
  },
  {
   "cell_type": "raw",
   "metadata": {
    "scrolled": false
   },
   "source": [
    "profitVisualize = MeanSimilarity(K_Means())\n",
    "profitVisualize.getProfitPicture()"
   ]
  },
  {
   "cell_type": "raw",
   "metadata": {
    "scrolled": false
   },
   "source": [
    "profitVisualize = MeanSimilarity(Hierarchical())\n",
    "profitVisualize.getProfitPicture()"
   ]
  },
  {
   "cell_type": "code",
   "execution_count": null,
   "metadata": {},
   "outputs": [],
   "source": []
  }
 ],
 "metadata": {
  "kernelspec": {
   "display_name": "Python 3",
   "language": "python",
   "name": "python3"
  },
  "language_info": {
   "codemirror_mode": {
    "name": "ipython",
    "version": 3
   },
   "file_extension": ".py",
   "mimetype": "text/x-python",
   "name": "python",
   "nbconvert_exporter": "python",
   "pygments_lexer": "ipython3",
   "version": "3.7.0"
  }
 },
 "nbformat": 4,
 "nbformat_minor": 2
}
