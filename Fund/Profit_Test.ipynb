{
 "cells": [
  {
   "cell_type": "raw",
   "metadata": {},
   "source": [
    "import pandas as pd\n",
    "import numpy as np\n",
    "import scipy.cluster.hierarchy as shc\n",
    "import matplotlib.pyplot as plt\n",
    "import statistics as stat\n",
    "import time\n",
    "\n",
    "from matplotlib.font_manager import FontProperties\n",
    "from sklearn.cluster import KMeans\n",
    "from sklearn.manifold import MDS\n",
    "from sklearn.cluster import AgglomerativeClustering\n",
    "from sklearn import manifold\n",
    "from sklearn.decomposition import PCA\n",
    "from sqlalchemy import create_engine\n",
    "from sqlalchemy.ext.automap import automap_base\n",
    "from datetime import datetime\n",
    "from dateutil.relativedelta import relativedelta\n",
    "\n",
    "from bokeh.io import output_notebook, show\n",
    "from bokeh.plotting import figure, output_file, show, ColumnDataSource\n",
    "from bokeh.models import HoverTool\n",
    "\n",
    "%matplotlib inline\n",
    "plt.rcParams['axes.unicode_minus']=False\n",
    "engine = create_engine('sqlite:///fund2.db')\n",
    "output_notebook()"
   ]
  },
  {
   "cell_type": "raw",
   "metadata": {},
   "source": [
    "def getTimeStamp(date):\n",
    "    return int(pd.read_sql(sql='select strftime(\"%s\",?)', con=engine, params=[date]).loc[0][0])"
   ]
  },
  {
   "cell_type": "raw",
   "metadata": {},
   "source": [
    "def getNAV(names,start,end):\n",
    "    date = pd.read_sql(sql='select distinct date from price where date between ? and ? order by date asc',\n",
    "                       con=engine,index_col='date', params=[start,end]).index\n",
    "    NAV = np.zeros((len(names),len(date)))\n",
    "    for j in range (len(names)):\n",
    "        temp = pd.read_sql(sql='select * from price where id = ? and date between ? and ? order by date asc',\n",
    "                   con=engine,index_col='date', params=[names[j],start,end])\n",
    "        NAV[j][0] = temp.iloc[0]['NAV']\n",
    "        for i,day in enumerate(date[1:]):\n",
    "            try:\n",
    "                NAV[j][i+1] = temp.loc[day]['NAV']\n",
    "            except:\n",
    "                NAV[j][i+1] = NAV[j][i]\n",
    "    return NAV"
   ]
  },
  {
   "cell_type": "raw",
   "metadata": {},
   "source": [
    "def poolDecide(year):\n",
    "    start = getTimeStamp(year + '-12-01')\n",
    "    end = getTimeStamp(year + '-12-31')\n",
    "    names = pd.read_sql(sql='select distinct id from price where date between ? and ?',\n",
    "                        con=engine, params=[start,end])\n",
    "    names = names['id'].sample(n=300).values\n",
    "    return names"
   ]
  },
  {
   "cell_type": "raw",
   "metadata": {},
   "source": [
    "year = input(\"請輸入欲回測年：\")\n",
    "past_year = str(int(year)-1)\n",
    "start = getTimeStamp(year+'-01-01')\n",
    "end = getTimeStamp(year+'-12-31')"
   ]
  },
  {
   "cell_type": "raw",
   "metadata": {},
   "source": [
    "# 0. 抓出0050各項數據"
   ]
  },
  {
   "cell_type": "raw",
   "metadata": {},
   "source": [
    "## 一. 淨值"
   ]
  },
  {
   "cell_type": "raw",
   "metadata": {},
   "source": [
    "NAV_0050 = getNAV(['0050 元大台灣50'], start, end)[0]"
   ]
  },
  {
   "cell_type": "raw",
   "metadata": {
    "scrolled": true
   },
   "source": [
    "NAV_0050"
   ]
  },
  {
   "cell_type": "raw",
   "metadata": {},
   "source": [
    "## 二.配息"
   ]
  },
  {
   "cell_type": "raw",
   "metadata": {},
   "source": [
    "interest_0050 = (pd.read_sql(sql='select interest from interest where date between ? and ? and id = \"0050 元大台灣50\"'\n",
    "                                ,con = engine, params=[start,end])['interest'].sum())"
   ]
  },
  {
   "cell_type": "raw",
   "metadata": {},
   "source": [
    "interest_0050"
   ]
  },
  {
   "cell_type": "raw",
   "metadata": {},
   "source": [
    "## 三. 漲跌幅"
   ]
  },
  {
   "cell_type": "raw",
   "metadata": {},
   "source": [
    "rate_0050 = []\n",
    "rate_0050.append(0)\n",
    "for i in range (len(NAV_0050)-1):\n",
    "    rate_0050.append((NAV_0050[i+1] - NAV_0050[i]) / NAV_0050[i])"
   ]
  },
  {
   "cell_type": "raw",
   "metadata": {},
   "source": [
    "rate_0050"
   ]
  },
  {
   "cell_type": "raw",
   "metadata": {},
   "source": [
    "## 四. 收益率"
   ]
  },
  {
   "cell_type": "raw",
   "metadata": {},
   "source": [
    "profit_0050 = []\n",
    "for i in range(len(NAV_0050)):\n",
    "    profit_0050.append((NAV_0050[i] - NAV_0050[0]) / NAV_0050[0] * 100)\n",
    "profit_0050[-1] += interest_0050"
   ]
  },
  {
   "cell_type": "raw",
   "metadata": {},
   "source": [
    "profit_0050"
   ]
  },
  {
   "cell_type": "raw",
   "metadata": {},
   "source": [
    "# 1. 決定基金池"
   ]
  },
  {
   "cell_type": "raw",
   "metadata": {},
   "source": [
    "start = getTimeStamp(past_year + '-12-01')\n",
    "end = getTimeStamp(past_year + '-12-31')\n",
    "names = pd.read_sql(sql='select distinct id from price where date between ? and ?',\n",
    "                        con=engine, params=[start,end])\n",
    "names = names['id'].sample(n=300).values"
   ]
  },
  {
   "cell_type": "raw",
   "metadata": {
    "scrolled": true
   },
   "source": [
    "names"
   ]
  },
  {
   "cell_type": "raw",
   "metadata": {},
   "source": [
    "# 抓出淨值"
   ]
  },
  {
   "cell_type": "raw",
   "metadata": {},
   "source": [
    "NAV = getNAV(names, start, end)"
   ]
  },
  {
   "cell_type": "raw",
   "metadata": {
    "scrolled": true
   },
   "source": [
    "NAV"
   ]
  },
  {
   "cell_type": "raw",
   "metadata": {},
   "source": [
    "# 2.抓出Features"
   ]
  },
  {
   "cell_type": "raw",
   "metadata": {},
   "source": [
    "## 一. 抓出漲跌幅"
   ]
  },
  {
   "cell_type": "raw",
   "metadata": {},
   "source": [
    "length = len(NAV[0])-1\n",
    "rate = np.zeros((len(names),length))\n",
    "for j in range (len(names)):\n",
    "    for i in range (length):\n",
    "        rate[j][i] = (NAV[j][i+1] - NAV[j][i]) / NAV[j][i]"
   ]
  },
  {
   "cell_type": "raw",
   "metadata": {},
   "source": [
    "rate"
   ]
  },
  {
   "cell_type": "raw",
   "metadata": {},
   "source": [
    "## 二. 刪除協方差為零之基金"
   ]
  },
  {
   "cell_type": "raw",
   "metadata": {},
   "source": [
    "temp = []\n",
    "for i,j in enumerate(rate):\n",
    "    if np.cov(j) == 0:\n",
    "        temp.append(i)\n",
    "\n",
    "rate = np.delete(rate,temp,0)\n",
    "names = np.delete(names,temp,0)\n",
    "NAV = np.delete(NAV,temp,0)"
   ]
  },
  {
   "cell_type": "raw",
   "metadata": {},
   "source": [
    "## 三. 計算相關係數"
   ]
  },
  {
   "cell_type": "raw",
   "metadata": {},
   "source": [
    "similarity = np.zeros((len(rate),len(rate)))\n",
    "for i in range(len(rate)):\n",
    "    for j in range(len(rate)):\n",
    "        corr = np.corrcoef(rate[i], rate[j])[0][-1]\n",
    "        similarity[i][j] = 1-(corr*0.5+0.5)\n",
    "for i in range(len(rate)):\n",
    "    similarity[i][i] = 0"
   ]
  },
  {
   "cell_type": "raw",
   "metadata": {
    "scrolled": true
   },
   "source": [
    "similarity"
   ]
  },
  {
   "cell_type": "raw",
   "metadata": {},
   "source": [
    "features = []\n",
    "for i in range (len(NAV)): \n",
    "    features.append(np.append(similarity[i], np.std(NAV[i], ddof=1)))"
   ]
  },
  {
   "cell_type": "raw",
   "metadata": {},
   "source": [
    "features"
   ]
  },
  {
   "cell_type": "raw",
   "metadata": {},
   "source": [
    "# 4.進行分群"
   ]
  },
  {
   "cell_type": "raw",
   "metadata": {},
   "source": [
    "clustering = AgglomerativeClustering(n_clusters=4).fit(similarity)"
   ]
  },
  {
   "cell_type": "raw",
   "metadata": {
    "scrolled": true
   },
   "source": [
    "clustering.labels_"
   ]
  },
  {
   "cell_type": "raw",
   "metadata": {},
   "source": [
    "# 繪製分群圖"
   ]
  },
  {
   "cell_type": "raw",
   "metadata": {},
   "source": [
    "## 一. MDS壓縮"
   ]
  },
  {
   "cell_type": "raw",
   "metadata": {},
   "source": [
    "mds = MDS(n_components=2, dissimilarity='precomputed', n_jobs=-1).fit(similarity).embedding_"
   ]
  },
  {
   "cell_type": "raw",
   "metadata": {},
   "source": [
    "pca=PCA(n_components=2)\n",
    "pca_picture=pca.fit_transform(features)\n",
    "pca_picture"
   ]
  },
  {
   "cell_type": "raw",
   "metadata": {},
   "source": [
    "pca.explained_variance_ratio_"
   ]
  },
  {
   "cell_type": "raw",
   "metadata": {},
   "source": [
    "pca.explained_variance_"
   ]
  },
  {
   "cell_type": "raw",
   "metadata": {},
   "source": [
    "pca.components_"
   ]
  },
  {
   "cell_type": "raw",
   "metadata": {},
   "source": [
    "## 二. 繪圖"
   ]
  },
  {
   "cell_type": "raw",
   "metadata": {},
   "source": [
    "plt.figure(figsize=(15, 10))\n",
    "plt.subplots_adjust(bottom=0.1)\n",
    "plt.scatter(mds[:, 0], mds[:, 1], c=clustering.labels_)\n",
    "plt.show()"
   ]
  },
  {
   "cell_type": "raw",
   "metadata": {},
   "source": [
    "plt.figure(figsize=(15, 10))\n",
    "plt.subplots_adjust(bottom=0.1)\n",
    "plt.scatter(pca_picture[:, 0], pca_picture[:, 1], c=clustering.labels_)\n",
    "plt.show()"
   ]
  },
  {
   "cell_type": "raw",
   "metadata": {},
   "source": [
    "# 繪製盒鬚圖"
   ]
  },
  {
   "cell_type": "raw",
   "metadata": {},
   "source": [
    "## 一. 抓出標準差"
   ]
  },
  {
   "cell_type": "raw",
   "metadata": {},
   "source": [
    "SD = np.std(NAV, axis=1, ddof=1)\n",
    "SD = pd.DataFrame(data={'SD':SD, 'label':clustering.labels_})"
   ]
  },
  {
   "cell_type": "raw",
   "metadata": {
    "scrolled": true
   },
   "source": [
    "SD"
   ]
  },
  {
   "cell_type": "raw",
   "metadata": {},
   "source": [
    "mean = np.mean(rate, axis=1)\n",
    "mean = pd.DataFrame(data={'mean':mean, 'label':clustering.labels_})"
   ]
  },
  {
   "cell_type": "raw",
   "metadata": {
    "scrolled": true
   },
   "source": [
    "mean"
   ]
  },
  {
   "cell_type": "raw",
   "metadata": {},
   "source": [
    "## 二.繪圖"
   ]
  },
  {
   "cell_type": "raw",
   "metadata": {},
   "source": [
    "plt.figure(figsize=(15, 10))\n",
    "plt.grid(axis='y')\n",
    "plt.boxplot([SD[SD['label'] == 0]['SD'].values,\n",
    "             SD[SD['label'] == 1]['SD'].values,\n",
    "             SD[SD['label'] == 2]['SD'].values,\n",
    "             SD[SD['label'] == 3]['SD'].values])\n",
    "plt.show()"
   ]
  },
  {
   "cell_type": "raw",
   "metadata": {},
   "source": [
    "plt.figure(figsize=(15, 10))\n",
    "plt.grid(axis='y')\n",
    "plt.boxplot([mean[mean['label'] == 0]['mean'].values,\n",
    "             mean[mean['label'] == 1]['mean'].values,\n",
    "             mean[mean['label'] == 2]['mean'].values,\n",
    "             mean[mean['label'] == 3]['mean'].values])\n",
    "plt.show()"
   ]
  },
  {
   "cell_type": "raw",
   "metadata": {},
   "source": [
    "# 5.抓出四支基金"
   ]
  },
  {
   "cell_type": "raw",
   "metadata": {},
   "source": [
    "camp = pd.DataFrame(data=clustering.labels_, index=names,columns=['label'])\n",
    "name_choose = []\n",
    "start = getTimeStamp(year+'-01-01')\n",
    "end = getTimeStamp(year+'-12-31')\n",
    "for i in range(4):\n",
    "    name_choose.append(camp[camp['label'] == i].sample(n=1).index[0])"
   ]
  },
  {
   "cell_type": "raw",
   "metadata": {},
   "source": [
    "name_choose"
   ]
  },
  {
   "cell_type": "raw",
   "metadata": {},
   "source": [
    "# 抓出四支基金各項數據"
   ]
  },
  {
   "cell_type": "raw",
   "metadata": {},
   "source": [
    "## 一. 淨值"
   ]
  },
  {
   "cell_type": "raw",
   "metadata": {},
   "source": [
    "NAV_choose = getNAV(name_choose, start, end)"
   ]
  },
  {
   "cell_type": "raw",
   "metadata": {},
   "source": [
    "NAV_choose"
   ]
  },
  {
   "cell_type": "raw",
   "metadata": {},
   "source": [
    "## 二.配息"
   ]
  },
  {
   "cell_type": "raw",
   "metadata": {},
   "source": [
    "interest_choose = 0\n",
    "for name in name_choose:\n",
    "    interest_choose += (pd.read_sql(sql='select interest from interest where date between ? and ? and id = ?'\n",
    "                                ,con = engine, params=[start,end,name])['interest'].sum())"
   ]
  },
  {
   "cell_type": "raw",
   "metadata": {},
   "source": [
    "interest_choose"
   ]
  },
  {
   "cell_type": "raw",
   "metadata": {},
   "source": [
    "## 三. 漲跌幅"
   ]
  },
  {
   "cell_type": "raw",
   "metadata": {},
   "source": [
    "temp = np.zeros((len(name_choose), len(NAV_choose[0])-1))\n",
    "for j in range (len(name_choose)):\n",
    "    for i in range (len(NAV_choose[0])-1):\n",
    "        temp[j][i] = (NAV_choose[j][i+1] - NAV_choose[j][i]) / NAV_choose[j][i]\n",
    "\n",
    "rate_choose = []\n",
    "for i in range(len(temp[0])):\n",
    "    rate_choose.append((temp[0][i] + temp[1][i] + temp[2][i] + temp[3][i])/4)"
   ]
  },
  {
   "cell_type": "raw",
   "metadata": {},
   "source": [
    "rate_choose"
   ]
  },
  {
   "cell_type": "raw",
   "metadata": {},
   "source": [
    "## 四. 收益率"
   ]
  },
  {
   "cell_type": "raw",
   "metadata": {},
   "source": [
    "profit_choose = []\n",
    "temp = NAV_choose[0][0] + NAV_choose[1][0] + NAV_choose[2][0] + NAV_choose[3][0]\n",
    "for i in range(len(NAV_choose[0])):\n",
    "    profit_choose.append((NAV_choose[0][i] + NAV_choose[1][i] + NAV_choose[2][i] + NAV_choose[3][i] - temp) / temp * 100)\n",
    "profit_choose[-1] += interest_choose / temp * 100 "
   ]
  },
  {
   "cell_type": "raw",
   "metadata": {},
   "source": [
    "profit_choose"
   ]
  },
  {
   "cell_type": "raw",
   "metadata": {},
   "source": [
    "# 繪製漲跌幅對比圖"
   ]
  },
  {
   "cell_type": "raw",
   "metadata": {},
   "source": [
    "plt.figure(figsize=(15, 10))\n",
    "plt.ylabel('漲跌幅')\n",
    "plt.title('漲跌幅對比')\n",
    "plt.plot(rate_choose)\n",
    "plt.plot(rate_0050)\n",
    "plt.legend(['choose','0050'])\n",
    "plt.show()"
   ]
  },
  {
   "cell_type": "raw",
   "metadata": {},
   "source": [
    "# 繪製收益率對比圖"
   ]
  },
  {
   "cell_type": "raw",
   "metadata": {},
   "source": [
    "plt.figure(figsize=(15, 10))\n",
    "plt.ylabel('收益率')\n",
    "plt.title('收益率對比')\n",
    "plt.plot(profit_choose)\n",
    "plt.plot(profit_0050)\n",
    "plt.legend(['choose','0050'])\n",
    "plt.show()"
   ]
  },
  {
   "cell_type": "raw",
   "metadata": {
    "scrolled": true
   },
   "source": [
    "date = pd.read_sql(sql='select distinct date as date from price where date between ? and ? order by date asc',\n",
    "                    con=engine, params=[start, end], parse_dates=['date'], index_col=['date'])\n",
    "date"
   ]
  },
  {
   "cell_type": "raw",
   "metadata": {
    "scrolled": true
   },
   "source": [
    "date['profit'] = profit_choose"
   ]
  },
  {
   "cell_type": "raw",
   "metadata": {
    "scrolled": true
   },
   "source": [
    "date"
   ]
  },
  {
   "cell_type": "raw",
   "metadata": {
    "scrolled": true
   },
   "source": [
    "p = figure(x_axis_type=\"datetime\", plot_width=500, plot_height=500, title=\"Profit\")\n",
    "p.line(x='date',y= 'profit', line_width=2, source=date)\n",
    "p.add_tools(HoverTool(tooltips=[(\"datetime\", \"@date{%F}\"), (\"profit\", \"@profit\")], formatters={'date':'datetime',},\n",
    "                     mode='vline'))\n",
    "show(p)"
   ]
  },
  {
   "cell_type": "raw",
   "metadata": {
    "scrolled": true
   },
   "source": [
    "data_df = pd.read_sql(sql='select * from price where date between ? and ? order by date asc',\n",
    "               con=engine, params=[start,end])\n",
    "data_df = data_df.pivot(index='id', columns='date', values='NAV')\n",
    "data_df = data_df.fillna(method=\"bfill\", axis=1)"
   ]
  },
  {
   "cell_type": "raw",
   "metadata": {},
   "source": [
    "data_df"
   ]
  },
  {
   "cell_type": "raw",
   "metadata": {},
   "source": [
    "data_df = data_df.pct_change(axis='columns')"
   ]
  },
  {
   "cell_type": "raw",
   "metadata": {
    "scrolled": true
   },
   "source": [
    "data_df = pd.read_sql(sql='select * from price where date between ? and ? order by date asc',\n",
    "               con=engine, params=[start,end])\n",
    "data_df = data_df.pivot(index='date', columns='id', values='NAV')\n",
    "data_df = data_df.fillna(method=\"ffill\")\n",
    "data_df = data_df.fillna(method=\"bfill\")"
   ]
  },
  {
   "cell_type": "raw",
   "metadata": {
    "scrolled": true
   },
   "source": [
    "data_df"
   ]
  },
  {
   "cell_type": "raw",
   "metadata": {
    "scrolled": true
   },
   "source": [
    "data_df = data_df.T[((data_df.iloc[-1] - data_df.iloc[0]) / data_df.iloc[0]) / data_df.std(ddof=1) > 0.5].T"
   ]
  },
  {
   "cell_type": "raw",
   "metadata": {
    "scrolled": true
   },
   "source": [
    "data_df = data_df.T[data_df.std(ddof=1) < 0.1].T"
   ]
  },
  {
   "cell_type": "raw",
   "metadata": {
    "scrolled": true
   },
   "source": [
    "data_df"
   ]
  },
  {
   "cell_type": "raw",
   "metadata": {},
   "source": [
    "data_df = data_df.pct_change(fill_method='bfill')"
   ]
  },
  {
   "cell_type": "raw",
   "metadata": {
    "scrolled": true
   },
   "source": [
    "data_df_corr = data_df.corr()"
   ]
  },
  {
   "cell_type": "raw",
   "metadata": {},
   "source": [
    "data_df_corr = 1 - data_df_corr * 0.5 - 0.5"
   ]
  },
  {
   "cell_type": "raw",
   "metadata": {},
   "source": [
    "mds = MDS(n_components=2, dissimilarity='precomputed', n_jobs=-1).fit(data_df_corr).embedding_\n",
    "plt.figure(figsize=(15, 10))\n",
    "plt.subplots_adjust(bottom=0.1)\n",
    "plt.scatter(mds[:, 0], mds[:, 1])\n",
    "plt.show()"
   ]
  },
  {
   "cell_type": "raw",
   "metadata": {
    "scrolled": true
   },
   "source": [
    "data_df.std(axis=1, ddof=1)"
   ]
  },
  {
   "cell_type": "raw",
   "metadata": {},
   "source": [
    "time.localtime(1425225600)"
   ]
  },
  {
   "cell_type": "raw",
   "metadata": {
    "scrolled": true
   },
   "source": [
    "pd.read_sql(sql='select fund_id,datetime(date,\"unixepoch\", \"localtime\") from price where date = 1435766400', con=engine)"
   ]
  },
  {
   "cell_type": "raw",
   "metadata": {},
   "source": [
    "tk = \"2015-07-02\"\n",
    "print (time.mktime(time.strptime(tk, '%Y-%m-%d')))\n",
    "print (pd.read_sql(sql='select strftime(\"%s\", ?, \"UTC\")', con=engine, params=[tk]).loc[0][0])\n",
    "print (time.asctime(time.localtime(time.mktime(time.strptime(tk, '%Y-%m-%d')))))"
   ]
  },
  {
   "cell_type": "raw",
   "metadata": {},
   "source": [
    "(datetime.strptime(\"2017-12\",\"%Y-%m\").month - datetime.strptime(\"2017-01\",\"%Y-%m\").month)"
   ]
  },
  {
   "cell_type": "markdown",
   "metadata": {},
   "source": [
    "# NEW TEST "
   ]
  },
  {
   "cell_type": "code",
   "execution_count": 1,
   "metadata": {},
   "outputs": [
    {
     "data": {
      "text/html": [
       "\n",
       "    <div class=\"bk-root\">\n",
       "        <a href=\"https://bokeh.pydata.org\" target=\"_blank\" class=\"bk-logo bk-logo-small bk-logo-notebook\"></a>\n",
       "        <span id=\"1001\">Loading BokehJS ...</span>\n",
       "    </div>"
      ]
     },
     "metadata": {},
     "output_type": "display_data"
    },
    {
     "data": {
      "application/javascript": [
       "\n",
       "(function(root) {\n",
       "  function now() {\n",
       "    return new Date();\n",
       "  }\n",
       "\n",
       "  var force = true;\n",
       "\n",
       "  if (typeof (root._bokeh_onload_callbacks) === \"undefined\" || force === true) {\n",
       "    root._bokeh_onload_callbacks = [];\n",
       "    root._bokeh_is_loading = undefined;\n",
       "  }\n",
       "\n",
       "  var JS_MIME_TYPE = 'application/javascript';\n",
       "  var HTML_MIME_TYPE = 'text/html';\n",
       "  var EXEC_MIME_TYPE = 'application/vnd.bokehjs_exec.v0+json';\n",
       "  var CLASS_NAME = 'output_bokeh rendered_html';\n",
       "\n",
       "  /**\n",
       "   * Render data to the DOM node\n",
       "   */\n",
       "  function render(props, node) {\n",
       "    var script = document.createElement(\"script\");\n",
       "    node.appendChild(script);\n",
       "  }\n",
       "\n",
       "  /**\n",
       "   * Handle when an output is cleared or removed\n",
       "   */\n",
       "  function handleClearOutput(event, handle) {\n",
       "    var cell = handle.cell;\n",
       "\n",
       "    var id = cell.output_area._bokeh_element_id;\n",
       "    var server_id = cell.output_area._bokeh_server_id;\n",
       "    // Clean up Bokeh references\n",
       "    if (id != null && id in Bokeh.index) {\n",
       "      Bokeh.index[id].model.document.clear();\n",
       "      delete Bokeh.index[id];\n",
       "    }\n",
       "\n",
       "    if (server_id !== undefined) {\n",
       "      // Clean up Bokeh references\n",
       "      var cmd = \"from bokeh.io.state import curstate; print(curstate().uuid_to_server['\" + server_id + \"'].get_sessions()[0].document.roots[0]._id)\";\n",
       "      cell.notebook.kernel.execute(cmd, {\n",
       "        iopub: {\n",
       "          output: function(msg) {\n",
       "            var id = msg.content.text.trim();\n",
       "            if (id in Bokeh.index) {\n",
       "              Bokeh.index[id].model.document.clear();\n",
       "              delete Bokeh.index[id];\n",
       "            }\n",
       "          }\n",
       "        }\n",
       "      });\n",
       "      // Destroy server and session\n",
       "      var cmd = \"import bokeh.io.notebook as ion; ion.destroy_server('\" + server_id + \"')\";\n",
       "      cell.notebook.kernel.execute(cmd);\n",
       "    }\n",
       "  }\n",
       "\n",
       "  /**\n",
       "   * Handle when a new output is added\n",
       "   */\n",
       "  function handleAddOutput(event, handle) {\n",
       "    var output_area = handle.output_area;\n",
       "    var output = handle.output;\n",
       "\n",
       "    // limit handleAddOutput to display_data with EXEC_MIME_TYPE content only\n",
       "    if ((output.output_type != \"display_data\") || (!output.data.hasOwnProperty(EXEC_MIME_TYPE))) {\n",
       "      return\n",
       "    }\n",
       "\n",
       "    var toinsert = output_area.element.find(\".\" + CLASS_NAME.split(' ')[0]);\n",
       "\n",
       "    if (output.metadata[EXEC_MIME_TYPE][\"id\"] !== undefined) {\n",
       "      toinsert[toinsert.length - 1].firstChild.textContent = output.data[JS_MIME_TYPE];\n",
       "      // store reference to embed id on output_area\n",
       "      output_area._bokeh_element_id = output.metadata[EXEC_MIME_TYPE][\"id\"];\n",
       "    }\n",
       "    if (output.metadata[EXEC_MIME_TYPE][\"server_id\"] !== undefined) {\n",
       "      var bk_div = document.createElement(\"div\");\n",
       "      bk_div.innerHTML = output.data[HTML_MIME_TYPE];\n",
       "      var script_attrs = bk_div.children[0].attributes;\n",
       "      for (var i = 0; i < script_attrs.length; i++) {\n",
       "        toinsert[toinsert.length - 1].firstChild.setAttribute(script_attrs[i].name, script_attrs[i].value);\n",
       "      }\n",
       "      // store reference to server id on output_area\n",
       "      output_area._bokeh_server_id = output.metadata[EXEC_MIME_TYPE][\"server_id\"];\n",
       "    }\n",
       "  }\n",
       "\n",
       "  function register_renderer(events, OutputArea) {\n",
       "\n",
       "    function append_mime(data, metadata, element) {\n",
       "      // create a DOM node to render to\n",
       "      var toinsert = this.create_output_subarea(\n",
       "        metadata,\n",
       "        CLASS_NAME,\n",
       "        EXEC_MIME_TYPE\n",
       "      );\n",
       "      this.keyboard_manager.register_events(toinsert);\n",
       "      // Render to node\n",
       "      var props = {data: data, metadata: metadata[EXEC_MIME_TYPE]};\n",
       "      render(props, toinsert[toinsert.length - 1]);\n",
       "      element.append(toinsert);\n",
       "      return toinsert\n",
       "    }\n",
       "\n",
       "    /* Handle when an output is cleared or removed */\n",
       "    events.on('clear_output.CodeCell', handleClearOutput);\n",
       "    events.on('delete.Cell', handleClearOutput);\n",
       "\n",
       "    /* Handle when a new output is added */\n",
       "    events.on('output_added.OutputArea', handleAddOutput);\n",
       "\n",
       "    /**\n",
       "     * Register the mime type and append_mime function with output_area\n",
       "     */\n",
       "    OutputArea.prototype.register_mime_type(EXEC_MIME_TYPE, append_mime, {\n",
       "      /* Is output safe? */\n",
       "      safe: true,\n",
       "      /* Index of renderer in `output_area.display_order` */\n",
       "      index: 0\n",
       "    });\n",
       "  }\n",
       "\n",
       "  // register the mime type if in Jupyter Notebook environment and previously unregistered\n",
       "  if (root.Jupyter !== undefined) {\n",
       "    var events = require('base/js/events');\n",
       "    var OutputArea = require('notebook/js/outputarea').OutputArea;\n",
       "\n",
       "    if (OutputArea.prototype.mime_types().indexOf(EXEC_MIME_TYPE) == -1) {\n",
       "      register_renderer(events, OutputArea);\n",
       "    }\n",
       "  }\n",
       "\n",
       "  \n",
       "  if (typeof (root._bokeh_timeout) === \"undefined\" || force === true) {\n",
       "    root._bokeh_timeout = Date.now() + 5000;\n",
       "    root._bokeh_failed_load = false;\n",
       "  }\n",
       "\n",
       "  var NB_LOAD_WARNING = {'data': {'text/html':\n",
       "     \"<div style='background-color: #fdd'>\\n\"+\n",
       "     \"<p>\\n\"+\n",
       "     \"BokehJS does not appear to have successfully loaded. If loading BokehJS from CDN, this \\n\"+\n",
       "     \"may be due to a slow or bad network connection. Possible fixes:\\n\"+\n",
       "     \"</p>\\n\"+\n",
       "     \"<ul>\\n\"+\n",
       "     \"<li>re-rerun `output_notebook()` to attempt to load from CDN again, or</li>\\n\"+\n",
       "     \"<li>use INLINE resources instead, as so:</li>\\n\"+\n",
       "     \"</ul>\\n\"+\n",
       "     \"<code>\\n\"+\n",
       "     \"from bokeh.resources import INLINE\\n\"+\n",
       "     \"output_notebook(resources=INLINE)\\n\"+\n",
       "     \"</code>\\n\"+\n",
       "     \"</div>\"}};\n",
       "\n",
       "  function display_loaded() {\n",
       "    var el = document.getElementById(\"1001\");\n",
       "    if (el != null) {\n",
       "      el.textContent = \"BokehJS is loading...\";\n",
       "    }\n",
       "    if (root.Bokeh !== undefined) {\n",
       "      if (el != null) {\n",
       "        el.textContent = \"BokehJS \" + root.Bokeh.version + \" successfully loaded.\";\n",
       "      }\n",
       "    } else if (Date.now() < root._bokeh_timeout) {\n",
       "      setTimeout(display_loaded, 100)\n",
       "    }\n",
       "  }\n",
       "\n",
       "\n",
       "  function run_callbacks() {\n",
       "    try {\n",
       "      root._bokeh_onload_callbacks.forEach(function(callback) { callback() });\n",
       "    }\n",
       "    finally {\n",
       "      delete root._bokeh_onload_callbacks\n",
       "    }\n",
       "    console.info(\"Bokeh: all callbacks have finished\");\n",
       "  }\n",
       "\n",
       "  function load_libs(js_urls, callback) {\n",
       "    root._bokeh_onload_callbacks.push(callback);\n",
       "    if (root._bokeh_is_loading > 0) {\n",
       "      console.log(\"Bokeh: BokehJS is being loaded, scheduling callback at\", now());\n",
       "      return null;\n",
       "    }\n",
       "    if (js_urls == null || js_urls.length === 0) {\n",
       "      run_callbacks();\n",
       "      return null;\n",
       "    }\n",
       "    console.log(\"Bokeh: BokehJS not loaded, scheduling load and callback at\", now());\n",
       "    root._bokeh_is_loading = js_urls.length;\n",
       "    for (var i = 0; i < js_urls.length; i++) {\n",
       "      var url = js_urls[i];\n",
       "      var s = document.createElement('script');\n",
       "      s.src = url;\n",
       "      s.async = false;\n",
       "      s.onreadystatechange = s.onload = function() {\n",
       "        root._bokeh_is_loading--;\n",
       "        if (root._bokeh_is_loading === 0) {\n",
       "          console.log(\"Bokeh: all BokehJS libraries loaded\");\n",
       "          run_callbacks()\n",
       "        }\n",
       "      };\n",
       "      s.onerror = function() {\n",
       "        console.warn(\"failed to load library \" + url);\n",
       "      };\n",
       "      console.log(\"Bokeh: injecting script tag for BokehJS library: \", url);\n",
       "      document.getElementsByTagName(\"head\")[0].appendChild(s);\n",
       "    }\n",
       "  };var element = document.getElementById(\"1001\");\n",
       "  if (element == null) {\n",
       "    console.log(\"Bokeh: ERROR: autoload.js configured with elementid '1001' but no matching script tag was found. \")\n",
       "    return false;\n",
       "  }\n",
       "\n",
       "  var js_urls = [\"https://cdn.pydata.org/bokeh/release/bokeh-1.0.2.min.js\", \"https://cdn.pydata.org/bokeh/release/bokeh-widgets-1.0.2.min.js\", \"https://cdn.pydata.org/bokeh/release/bokeh-tables-1.0.2.min.js\", \"https://cdn.pydata.org/bokeh/release/bokeh-gl-1.0.2.min.js\"];\n",
       "\n",
       "  var inline_js = [\n",
       "    function(Bokeh) {\n",
       "      Bokeh.set_log_level(\"info\");\n",
       "    },\n",
       "    \n",
       "    function(Bokeh) {\n",
       "      \n",
       "    },\n",
       "    function(Bokeh) {\n",
       "      console.log(\"Bokeh: injecting CSS: https://cdn.pydata.org/bokeh/release/bokeh-1.0.2.min.css\");\n",
       "      Bokeh.embed.inject_css(\"https://cdn.pydata.org/bokeh/release/bokeh-1.0.2.min.css\");\n",
       "      console.log(\"Bokeh: injecting CSS: https://cdn.pydata.org/bokeh/release/bokeh-widgets-1.0.2.min.css\");\n",
       "      Bokeh.embed.inject_css(\"https://cdn.pydata.org/bokeh/release/bokeh-widgets-1.0.2.min.css\");\n",
       "      console.log(\"Bokeh: injecting CSS: https://cdn.pydata.org/bokeh/release/bokeh-tables-1.0.2.min.css\");\n",
       "      Bokeh.embed.inject_css(\"https://cdn.pydata.org/bokeh/release/bokeh-tables-1.0.2.min.css\");\n",
       "    }\n",
       "  ];\n",
       "\n",
       "  function run_inline_js() {\n",
       "    \n",
       "    if ((root.Bokeh !== undefined) || (force === true)) {\n",
       "      for (var i = 0; i < inline_js.length; i++) {\n",
       "        inline_js[i].call(root, root.Bokeh);\n",
       "      }if (force === true) {\n",
       "        display_loaded();\n",
       "      }} else if (Date.now() < root._bokeh_timeout) {\n",
       "      setTimeout(run_inline_js, 100);\n",
       "    } else if (!root._bokeh_failed_load) {\n",
       "      console.log(\"Bokeh: BokehJS failed to load within specified timeout.\");\n",
       "      root._bokeh_failed_load = true;\n",
       "    } else if (force !== true) {\n",
       "      var cell = $(document.getElementById(\"1001\")).parents('.cell').data().cell;\n",
       "      cell.output_area.append_execute_result(NB_LOAD_WARNING)\n",
       "    }\n",
       "\n",
       "  }\n",
       "\n",
       "  if (root._bokeh_is_loading === 0) {\n",
       "    console.log(\"Bokeh: BokehJS loaded, going straight to plotting\");\n",
       "    run_inline_js();\n",
       "  } else {\n",
       "    load_libs(js_urls, function() {\n",
       "      console.log(\"Bokeh: BokehJS plotting callback run at\", now());\n",
       "      run_inline_js();\n",
       "    });\n",
       "  }\n",
       "}(window));"
      ],
      "application/vnd.bokehjs_load.v0+json": "\n(function(root) {\n  function now() {\n    return new Date();\n  }\n\n  var force = true;\n\n  if (typeof (root._bokeh_onload_callbacks) === \"undefined\" || force === true) {\n    root._bokeh_onload_callbacks = [];\n    root._bokeh_is_loading = undefined;\n  }\n\n  \n\n  \n  if (typeof (root._bokeh_timeout) === \"undefined\" || force === true) {\n    root._bokeh_timeout = Date.now() + 5000;\n    root._bokeh_failed_load = false;\n  }\n\n  var NB_LOAD_WARNING = {'data': {'text/html':\n     \"<div style='background-color: #fdd'>\\n\"+\n     \"<p>\\n\"+\n     \"BokehJS does not appear to have successfully loaded. If loading BokehJS from CDN, this \\n\"+\n     \"may be due to a slow or bad network connection. Possible fixes:\\n\"+\n     \"</p>\\n\"+\n     \"<ul>\\n\"+\n     \"<li>re-rerun `output_notebook()` to attempt to load from CDN again, or</li>\\n\"+\n     \"<li>use INLINE resources instead, as so:</li>\\n\"+\n     \"</ul>\\n\"+\n     \"<code>\\n\"+\n     \"from bokeh.resources import INLINE\\n\"+\n     \"output_notebook(resources=INLINE)\\n\"+\n     \"</code>\\n\"+\n     \"</div>\"}};\n\n  function display_loaded() {\n    var el = document.getElementById(\"1001\");\n    if (el != null) {\n      el.textContent = \"BokehJS is loading...\";\n    }\n    if (root.Bokeh !== undefined) {\n      if (el != null) {\n        el.textContent = \"BokehJS \" + root.Bokeh.version + \" successfully loaded.\";\n      }\n    } else if (Date.now() < root._bokeh_timeout) {\n      setTimeout(display_loaded, 100)\n    }\n  }\n\n\n  function run_callbacks() {\n    try {\n      root._bokeh_onload_callbacks.forEach(function(callback) { callback() });\n    }\n    finally {\n      delete root._bokeh_onload_callbacks\n    }\n    console.info(\"Bokeh: all callbacks have finished\");\n  }\n\n  function load_libs(js_urls, callback) {\n    root._bokeh_onload_callbacks.push(callback);\n    if (root._bokeh_is_loading > 0) {\n      console.log(\"Bokeh: BokehJS is being loaded, scheduling callback at\", now());\n      return null;\n    }\n    if (js_urls == null || js_urls.length === 0) {\n      run_callbacks();\n      return null;\n    }\n    console.log(\"Bokeh: BokehJS not loaded, scheduling load and callback at\", now());\n    root._bokeh_is_loading = js_urls.length;\n    for (var i = 0; i < js_urls.length; i++) {\n      var url = js_urls[i];\n      var s = document.createElement('script');\n      s.src = url;\n      s.async = false;\n      s.onreadystatechange = s.onload = function() {\n        root._bokeh_is_loading--;\n        if (root._bokeh_is_loading === 0) {\n          console.log(\"Bokeh: all BokehJS libraries loaded\");\n          run_callbacks()\n        }\n      };\n      s.onerror = function() {\n        console.warn(\"failed to load library \" + url);\n      };\n      console.log(\"Bokeh: injecting script tag for BokehJS library: \", url);\n      document.getElementsByTagName(\"head\")[0].appendChild(s);\n    }\n  };var element = document.getElementById(\"1001\");\n  if (element == null) {\n    console.log(\"Bokeh: ERROR: autoload.js configured with elementid '1001' but no matching script tag was found. \")\n    return false;\n  }\n\n  var js_urls = [\"https://cdn.pydata.org/bokeh/release/bokeh-1.0.2.min.js\", \"https://cdn.pydata.org/bokeh/release/bokeh-widgets-1.0.2.min.js\", \"https://cdn.pydata.org/bokeh/release/bokeh-tables-1.0.2.min.js\", \"https://cdn.pydata.org/bokeh/release/bokeh-gl-1.0.2.min.js\"];\n\n  var inline_js = [\n    function(Bokeh) {\n      Bokeh.set_log_level(\"info\");\n    },\n    \n    function(Bokeh) {\n      \n    },\n    function(Bokeh) {\n      console.log(\"Bokeh: injecting CSS: https://cdn.pydata.org/bokeh/release/bokeh-1.0.2.min.css\");\n      Bokeh.embed.inject_css(\"https://cdn.pydata.org/bokeh/release/bokeh-1.0.2.min.css\");\n      console.log(\"Bokeh: injecting CSS: https://cdn.pydata.org/bokeh/release/bokeh-widgets-1.0.2.min.css\");\n      Bokeh.embed.inject_css(\"https://cdn.pydata.org/bokeh/release/bokeh-widgets-1.0.2.min.css\");\n      console.log(\"Bokeh: injecting CSS: https://cdn.pydata.org/bokeh/release/bokeh-tables-1.0.2.min.css\");\n      Bokeh.embed.inject_css(\"https://cdn.pydata.org/bokeh/release/bokeh-tables-1.0.2.min.css\");\n    }\n  ];\n\n  function run_inline_js() {\n    \n    if ((root.Bokeh !== undefined) || (force === true)) {\n      for (var i = 0; i < inline_js.length; i++) {\n        inline_js[i].call(root, root.Bokeh);\n      }if (force === true) {\n        display_loaded();\n      }} else if (Date.now() < root._bokeh_timeout) {\n      setTimeout(run_inline_js, 100);\n    } else if (!root._bokeh_failed_load) {\n      console.log(\"Bokeh: BokehJS failed to load within specified timeout.\");\n      root._bokeh_failed_load = true;\n    } else if (force !== true) {\n      var cell = $(document.getElementById(\"1001\")).parents('.cell').data().cell;\n      cell.output_area.append_execute_result(NB_LOAD_WARNING)\n    }\n\n  }\n\n  if (root._bokeh_is_loading === 0) {\n    console.log(\"Bokeh: BokehJS loaded, going straight to plotting\");\n    run_inline_js();\n  } else {\n    load_libs(js_urls, function() {\n      console.log(\"Bokeh: BokehJS plotting callback run at\", now());\n      run_inline_js();\n    });\n  }\n}(window));"
     },
     "metadata": {},
     "output_type": "display_data"
    }
   ],
   "source": [
    "import pandas as pd\n",
    "import numpy as np\n",
    "import time\n",
    "\n",
    "from sklearn.manifold import MDS\n",
    "from sklearn.cluster import AgglomerativeClustering\n",
    "from sqlalchemy import create_engine\n",
    "from datetime import datetime\n",
    "from dateutil.relativedelta import relativedelta\n",
    "\n",
    "from bokeh.io import output_notebook, show\n",
    "from bokeh.plotting import figure, output_file, show, ColumnDataSource\n",
    "from bokeh.models import HoverTool\n",
    "\n",
    "engine = create_engine('sqlite:///fund2.db')\n",
    "output_notebook()"
   ]
  },
  {
   "cell_type": "code",
   "execution_count": 2,
   "metadata": {},
   "outputs": [],
   "source": [
    "start = \"2015-01\"\n",
    "end = \"2015-12\"\n",
    "investement_type = \"不分類\"\n",
    "sharpe_ratio = 0.4\n",
    "std = 0.3\n",
    "beta = 0.2\n",
    "treynor_ratio = 0.3\n",
    "money = 10000\n",
    "buy_ratio = np.asarray((0.3,0.4,0.2,0.1), dtype=np.float)\n",
    "strategy = 1\n",
    "frequency = 3\n",
    "profit = pd.DataFrame()\n",
    "hold = np.zeros([4], dtype=np.float)\n",
    "choose = np.asarray([\" \", \" \", \" \", \" \"], dtype='<U32')"
   ]
  },
  {
   "cell_type": "code",
   "execution_count": 3,
   "metadata": {},
   "outputs": [],
   "source": [
    "start_unix = time.mktime((datetime.strptime(start, '%Y-%m') - relativedelta(years=+1)).timetuple())\n",
    "end_unix = time.mktime((datetime.strptime(start, '%Y-%m') - relativedelta(days=+1)).timetuple())\n",
    "data_df = pd.read_sql(sql='select * from price where date between ? and ? order by date asc',\n",
    "               con=engine, params=[start_unix, end_unix])\n",
    "data_df = data_df.pivot(index='date', columns='fund_id', values='nav')\n",
    "data_df = data_df.fillna(method=\"ffill\")\n",
    "data_df = data_df.fillna(method=\"bfill\")"
   ]
  },
  {
   "cell_type": "code",
   "execution_count": 4,
   "metadata": {},
   "outputs": [],
   "source": [
    "indicator_Rp = (data_df - data_df.iloc[0]) / data_df.iloc[0]\n",
    "indicator_σp = indicator_Rp.std(ddof=1)\n",
    "indicator_ρpm = indicator_Rp.corr()[\"0050 元大台灣50\"]\n",
    "indicator_σm = indicator_σp[\"0050 元大台灣50\"]\n",
    "indicator_βp = indicator_ρpm * indicator_σp / indicator_σm\n",
    "bl = data_df.iloc[0] > 0"
   ]
  },
  {
   "cell_type": "code",
   "execution_count": 5,
   "metadata": {},
   "outputs": [],
   "source": [
    "bl = bl & ((indicator_Rp.iloc[-1] - 0.01) / indicator_σp > sharpe_ratio)\n",
    "bl = bl & (data_df.std(ddof=1) < std)\n",
    "bl = bl & (indicator_βp < beta)\n",
    "bl = bl & ((indicator_Rp.iloc[-1] - 0.01) / indicator_βp > treynor_ratio)\n",
    "data_df = data_df.T[bl].T"
   ]
  },
  {
   "cell_type": "code",
   "execution_count": 6,
   "metadata": {},
   "outputs": [],
   "source": [
    "data_df = data_df.pct_change()"
   ]
  },
  {
   "cell_type": "code",
   "execution_count": 7,
   "metadata": {},
   "outputs": [],
   "source": [
    "data_df = data_df.corr()"
   ]
  },
  {
   "cell_type": "raw",
   "metadata": {},
   "source": [
    "data_df"
   ]
  },
  {
   "cell_type": "code",
   "execution_count": 8,
   "metadata": {},
   "outputs": [],
   "source": [
    "camp = pd.DataFrame(AgglomerativeClustering(n_clusters=4).fit(data_df).labels_,index=data_df.index,columns=['label'])"
   ]
  },
  {
   "cell_type": "code",
   "execution_count": 9,
   "metadata": {
    "scrolled": true
   },
   "outputs": [],
   "source": [
    "for i,ch in enumerate(choose):\n",
    "    if ch in camp.index:\n",
    "        camp = camp.drop(camp[camp.label == camp.loc[ch].label].index ,axis=0)\n",
    "    else:\n",
    "        temp = camp.sample(n=1)\n",
    "        camp = camp.drop(camp[camp.label == temp.label[0]].index, axis=0)\n",
    "        choose[i] = temp.index[0]"
   ]
  },
  {
   "cell_type": "code",
   "execution_count": 10,
   "metadata": {},
   "outputs": [],
   "source": [
    "a = pd.DataFrame()"
   ]
  },
  {
   "cell_type": "code",
   "execution_count": 11,
   "metadata": {
    "scrolled": true
   },
   "outputs": [],
   "source": [
    "i = 0\n",
    "start_unix = time.mktime((datetime.strptime(start, '%Y-%m') + relativedelta(months=i)).timetuple())\n",
    "end_unix = time.mktime((datetime.strptime(start, '%Y-%m') + relativedelta(months=i+1, days=-1)).timetuple())\n",
    "data_df = pd.read_sql(sql='select * from price where date between ? and ? order by date asc',\n",
    "               con=engine, params=[start_unix, end_unix])\n",
    "data_df = data_df.pivot(index='date', columns='fund_id', values='nav')\n",
    "data_df = data_df.fillna(method=\"ffill\")\n",
    "data_df = data_df.fillna(method=\"bfill\")"
   ]
  },
  {
   "cell_type": "code",
   "execution_count": 12,
   "metadata": {},
   "outputs": [],
   "source": [
    "if strategy == 0:\n",
    "    hold += (buy_ratio * money / data_df[choose].iloc[0].T).values\n",
    "    profit = pd.concat(\n",
    "        [profit, (data_df[choose] * hold).T.sum() / (money*(i+1))], axis=0)\n",
    "else:\n",
    "    if i == 0:\n",
    "        hold = (buy_ratio * money / data_df[choose].iloc[0].T).values\n",
    "    elif strategy != 1 and i % frequency == frequency - 1:\n",
    "        temp = (hold * data_df[choose].iloc[0]).sum()\n",
    "        if strategy == 3:\n",
    "            choose = selection(start, investement_type, i, sharpe_ratio,std, beta, treynor_ratio, choose)\n",
    "        hold = (buy_ratio * temp /\n",
    "                data_df[choose].iloc[0].T).values\n",
    "    profit = pd.concat(\n",
    "        [profit, (data_df[choose] * hold).T.sum() / money], axis=0)"
   ]
  },
  {
   "cell_type": "code",
   "execution_count": 13,
   "metadata": {},
   "outputs": [],
   "source": [
    "choose[3] = \"0050 元大台灣50\""
   ]
  },
  {
   "cell_type": "code",
   "execution_count": 14,
   "metadata": {},
   "outputs": [],
   "source": [
    "a = pd.concat([a,data_df[choose]], sort=False)"
   ]
  },
  {
   "cell_type": "code",
   "execution_count": 15,
   "metadata": {
    "scrolled": true
   },
   "outputs": [],
   "source": [
    "for j,ch in enumerate(choose):\n",
    "    interest = pd.read_sql(sql='select sum(interest) from interest where date between ? and ? and fund_id == ? order by date asc',\n",
    "                con=engine, params=[start_unix, end_unix, ch])\n",
    "    hold[j] +=(interest * hold[j] / data_df[ch].iloc[-1]).fillna(0).loc[0][0]"
   ]
  },
  {
   "cell_type": "code",
   "execution_count": 16,
   "metadata": {
    "scrolled": true
   },
   "outputs": [
    {
     "data": {
      "text/plain": [
       "0.5409105642482758"
      ]
     },
     "execution_count": 16,
     "metadata": {},
     "output_type": "execute_result"
    }
   ],
   "source": [
    "a.std().mean()"
   ]
  },
  {
   "cell_type": "code",
   "execution_count": 17,
   "metadata": {
    "scrolled": true
   },
   "outputs": [],
   "source": [
    "data_df = pd.concat([data_df[choose], data_df.T.sample(n=296).T], axis=1).T.drop_duplicates().T"
   ]
  },
  {
   "cell_type": "code",
   "execution_count": 18,
   "metadata": {},
   "outputs": [],
   "source": [
    "data_df = data_df.pct_change()"
   ]
  },
  {
   "cell_type": "code",
   "execution_count": 19,
   "metadata": {
    "scrolled": true
   },
   "outputs": [],
   "source": [
    "data_df = data_df.corr()"
   ]
  },
  {
   "cell_type": "code",
   "execution_count": 20,
   "metadata": {},
   "outputs": [],
   "source": [
    "data_df = 1 - data_df * 0.5 - 0.5"
   ]
  },
  {
   "cell_type": "code",
   "execution_count": 21,
   "metadata": {},
   "outputs": [],
   "source": [
    "data_df = data_df.fillna(-1)"
   ]
  },
  {
   "cell_type": "code",
   "execution_count": 29,
   "metadata": {},
   "outputs": [
    {
     "data": {
      "text/plain": [
       "0.5393197417968485"
      ]
     },
     "execution_count": 29,
     "metadata": {},
     "output_type": "execute_result"
    }
   ],
   "source": [
    "data_df[choose].T[choose].sum().sum()/12"
   ]
  },
  {
   "cell_type": "code",
   "execution_count": 75,
   "metadata": {},
   "outputs": [],
   "source": [
    "color = np.asarray([\"yellow\" for i in range(len(data_df))])\n",
    "color[0:4] = \"purple\""
   ]
  },
  {
   "cell_type": "code",
   "execution_count": 76,
   "metadata": {
    "scrolled": true
   },
   "outputs": [
    {
     "data": {
      "text/html": [
       "\n",
       "\n",
       "\n",
       "\n",
       "\n",
       "\n",
       "  <div class=\"bk-root\" id=\"1079f239-005f-4c8e-8126-fff7a24ed375\"></div>\n"
      ]
     },
     "metadata": {},
     "output_type": "display_data"
    },
    {
     "data": {
      "application/javascript": [
       "(function(root) {\n",
       "  function embed_document(root) {\n",
       "    \n",
       "  var docs_json = {\"a2831e6b-2278-4ea8-8375-d221fc84914a\":{\"roots\":{\"references\":[{\"attributes\":{\"below\":[{\"id\":\"1178\",\"type\":\"LinearAxis\"}],\"left\":[{\"id\":\"1183\",\"type\":\"LinearAxis\"}],\"plot_height\":300,\"plot_width\":300,\"renderers\":[{\"id\":\"1178\",\"type\":\"LinearAxis\"},{\"id\":\"1182\",\"type\":\"Grid\"},{\"id\":\"1183\",\"type\":\"LinearAxis\"},{\"id\":\"1187\",\"type\":\"Grid\"},{\"id\":\"1194\",\"type\":\"GlyphRenderer\"}],\"title\":{\"id\":\"1167\",\"type\":\"Title\"},\"toolbar\":{\"id\":\"1189\",\"type\":\"Toolbar\"},\"toolbar_location\":null,\"x_range\":{\"id\":\"1170\",\"type\":\"DataRange1d\"},\"x_scale\":{\"id\":\"1174\",\"type\":\"LinearScale\"},\"y_range\":{\"id\":\"1172\",\"type\":\"DataRange1d\"},\"y_scale\":{\"id\":\"1176\",\"type\":\"LinearScale\"}},\"id\":\"1168\",\"subtype\":\"Figure\",\"type\":\"Plot\"},{\"attributes\":{\"fill_alpha\":{\"value\":0.1},\"fill_color\":{\"value\":\"#1f77b4\"},\"line_alpha\":{\"value\":0.1},\"line_color\":{\"value\":\"#1f77b4\"},\"size\":{\"units\":\"screen\",\"value\":6.5},\"x\":{\"field\":\"x\"},\"y\":{\"field\":\"y\"}},\"id\":\"1193\",\"type\":\"Circle\"},{\"attributes\":{\"callback\":null},\"id\":\"1172\",\"type\":\"DataRange1d\"},{\"attributes\":{},\"id\":\"1179\",\"type\":\"BasicTicker\"},{\"attributes\":{\"formatter\":{\"id\":\"1216\",\"type\":\"BasicTickFormatter\"},\"plot\":{\"id\":\"1168\",\"subtype\":\"Figure\",\"type\":\"Plot\"},\"ticker\":{\"id\":\"1184\",\"type\":\"BasicTicker\"}},\"id\":\"1183\",\"type\":\"LinearAxis\"},{\"attributes\":{},\"id\":\"1221\",\"type\":\"UnionRenderers\"},{\"attributes\":{},\"id\":\"1174\",\"type\":\"LinearScale\"},{\"attributes\":{},\"id\":\"1176\",\"type\":\"LinearScale\"},{\"attributes\":{},\"id\":\"1218\",\"type\":\"BasicTickFormatter\"},{\"attributes\":{},\"id\":\"1220\",\"type\":\"Selection\"},{\"attributes\":{\"callback\":null,\"tooltips\":[[\"fund_id\",\"@name\"]]},\"id\":\"1188\",\"type\":\"HoverTool\"},{\"attributes\":{},\"id\":\"1216\",\"type\":\"BasicTickFormatter\"},{\"attributes\":{\"active_drag\":\"auto\",\"active_inspect\":\"auto\",\"active_multi\":null,\"active_scroll\":\"auto\",\"active_tap\":\"auto\",\"tools\":[{\"id\":\"1188\",\"type\":\"HoverTool\"}]},\"id\":\"1189\",\"type\":\"Toolbar\"},{\"attributes\":{\"plot\":{\"id\":\"1168\",\"subtype\":\"Figure\",\"type\":\"Plot\"},\"ticker\":{\"id\":\"1179\",\"type\":\"BasicTicker\"}},\"id\":\"1182\",\"type\":\"Grid\"},{\"attributes\":{\"fill_color\":{\"field\":\"color\"},\"line_color\":{\"field\":\"color\"},\"size\":{\"units\":\"screen\",\"value\":6.5},\"x\":{\"field\":\"x\"},\"y\":{\"field\":\"y\"}},\"id\":\"1192\",\"type\":\"Circle\"},{\"attributes\":{\"formatter\":{\"id\":\"1218\",\"type\":\"BasicTickFormatter\"},\"plot\":{\"id\":\"1168\",\"subtype\":\"Figure\",\"type\":\"Plot\"},\"ticker\":{\"id\":\"1179\",\"type\":\"BasicTicker\"}},\"id\":\"1178\",\"type\":\"LinearAxis\"},{\"attributes\":{\"callback\":null,\"data\":{\"color\":[\"purple\",\"purple\",\"purple\",\"purple\",\"yellow\",\"yellow\",\"yellow\",\"yellow\",\"yellow\",\"yellow\",\"yellow\",\"yellow\",\"yellow\",\"yellow\",\"yellow\",\"yellow\",\"yellow\",\"yellow\",\"yellow\",\"yellow\",\"yellow\",\"yellow\",\"yellow\",\"yellow\",\"yellow\",\"yellow\",\"yellow\",\"yellow\",\"yellow\",\"yellow\",\"yellow\",\"yellow\",\"yellow\",\"yellow\",\"yellow\",\"yellow\",\"yellow\",\"yellow\",\"yellow\",\"yellow\",\"yellow\",\"yellow\",\"yellow\",\"yellow\",\"yellow\",\"yellow\",\"yellow\",\"yellow\",\"yellow\",\"yellow\",\"yellow\",\"yellow\",\"yellow\",\"yellow\",\"yellow\",\"yellow\",\"yellow\",\"yellow\",\"yellow\",\"yellow\",\"yellow\",\"yellow\",\"yellow\",\"yellow\",\"yellow\",\"yellow\",\"yellow\",\"yellow\",\"yellow\",\"yellow\",\"yellow\",\"yellow\",\"yellow\",\"yellow\",\"yellow\",\"yellow\",\"yellow\",\"yellow\",\"yellow\",\"yellow\",\"yellow\",\"yellow\",\"yellow\",\"yellow\",\"yellow\",\"yellow\",\"yellow\",\"yellow\",\"yellow\",\"yellow\",\"yellow\",\"yellow\",\"yellow\",\"yellow\",\"yellow\",\"yellow\",\"yellow\",\"yellow\",\"yellow\",\"yellow\",\"yellow\",\"yellow\",\"yellow\",\"yellow\",\"yellow\",\"yellow\",\"yellow\",\"yellow\",\"yellow\",\"yellow\",\"yellow\",\"yellow\",\"yellow\",\"yellow\",\"yellow\",\"yellow\",\"yellow\",\"yellow\",\"yellow\",\"yellow\",\"yellow\",\"yellow\",\"yellow\",\"yellow\",\"yellow\",\"yellow\",\"yellow\",\"yellow\",\"yellow\",\"yellow\",\"yellow\",\"yellow\",\"yellow\",\"yellow\",\"yellow\",\"yellow\",\"yellow\",\"yellow\",\"yellow\",\"yellow\",\"yellow\",\"yellow\",\"yellow\",\"yellow\",\"yellow\",\"yellow\",\"yellow\",\"yellow\",\"yellow\",\"yellow\",\"yellow\",\"yellow\",\"yellow\",\"yellow\",\"yellow\",\"yellow\",\"yellow\",\"yellow\",\"yellow\",\"yellow\",\"yellow\",\"yellow\",\"yellow\",\"yellow\",\"yellow\",\"yellow\",\"yellow\",\"yellow\",\"yellow\",\"yellow\",\"yellow\",\"yellow\",\"yellow\",\"yellow\",\"yellow\",\"yellow\",\"yellow\",\"yellow\",\"yellow\",\"yellow\",\"yellow\",\"yellow\",\"yellow\",\"yellow\",\"yellow\",\"yellow\",\"yellow\",\"yellow\",\"yellow\",\"yellow\",\"yellow\",\"yellow\",\"yellow\",\"yellow\",\"yellow\",\"yellow\",\"yellow\",\"yellow\",\"yellow\",\"yellow\",\"yellow\",\"yellow\",\"yellow\",\"yellow\",\"yellow\",\"yellow\",\"yellow\",\"yellow\",\"yellow\",\"yellow\",\"yellow\",\"yellow\",\"yellow\",\"yellow\",\"yellow\",\"yellow\",\"yellow\",\"yellow\",\"yellow\",\"yellow\",\"yellow\",\"yellow\",\"yellow\",\"yellow\",\"yellow\",\"yellow\",\"yellow\",\"yellow\",\"yellow\",\"yellow\",\"yellow\",\"yellow\",\"yellow\",\"yellow\",\"yellow\",\"yellow\",\"yellow\",\"yellow\",\"yellow\",\"yellow\",\"yellow\",\"yellow\",\"yellow\",\"yellow\",\"yellow\",\"yellow\",\"yellow\",\"yellow\",\"yellow\",\"yellow\",\"yellow\",\"yellow\",\"yellow\",\"yellow\",\"yellow\",\"yellow\",\"yellow\",\"yellow\",\"yellow\",\"yellow\",\"yellow\",\"yellow\",\"yellow\",\"yellow\",\"yellow\",\"yellow\",\"yellow\",\"yellow\",\"yellow\",\"yellow\",\"yellow\",\"yellow\",\"yellow\",\"yellow\",\"yellow\",\"yellow\",\"yellow\",\"yellow\",\"yellow\",\"yellow\",\"yellow\",\"yellow\",\"yellow\",\"yellow\",\"yellow\",\"yellow\",\"yellow\",\"yellow\",\"yellow\",\"yellow\",\"yellow\",\"yellow\",\"yellow\",\"yellow\",\"yellow\",\"yellow\",\"yellow\",\"yellow\",\"yellow\"],\"name\":[\"ISZK8 \\u666f\\u9806\\u5168\\u6b50\\u6d32AUSDh$\",\"T0595A \\u5143\\u5927\\u4eba\\u6c11\\u5e63\\u8ca8\\u5e63\\u5e02\",\"T2289Y \\u5fa9\\u83ef\\u5168\\u7403\\u6230\\u7565\\u914d\\u7f6e\",\"0050 \\u5143\\u5927\\u53f0\\u706350\",\"DWS57 DWS\\u4e9e\\u4e2d\\u5c0f$LC\",\"TLZ26 \\u5b89\\u806f\\u65b0\\u8208\\u4e9e\\u6d32\\u57fa\\u91d1\",\"T3328A \\u806f\\u90a6\\u592a\\u5e73\\u6d0b\\u5e73\\u8861A\",\"PYZQ8 \\u65bd\\u7f85\\u5fb7\\u5730\\u7522Cd$\",\"CPA38 \\u701a\\u4e9e\\u516c\\u53f8\\u50b5Aadm\",\"CTY28 \\u897f\\u8cc7\\u7522A.USD.Dist\",\"INZA6 NN \\u65b0\\u8208\\u50b5X$\",\"MGF22 \\u5b8f\\u5229\\u7f8e\\u7279\\u5225\\u6a5f\\u6703T\",\"T1655F \\u7fa4\\u76ca\\u74b0\\u7403\\u91d1\\u7dbbBA\",\"PYZ55 \\u65bd\\u7f85\\u5fb7\\u9999\\u6e2fA1aHK\",\"SGF80 \\u5148\\u6a5f\\u4e2d\\u570bAa$\",\"ALZ33 \\u806f\\u535a\\u7f8e\\u570b\\u6210\\u9577BUSD\",\"INZE7 NN \\u6b50\\u9ad8\\u606fXed\",\"JFZAX JPM \\u4e9e\\u592a\\u5165\\u606fAaui\",\"PIZF6 \\u92d2\\u88d5\\u6b50\\u6d32\\u7814\\u7a76I2\",\"T0927Y \\u7d71\\u4e00\\u4e9e\\u6d32\\u5927\\u91d1\\u78da\",\"FLZB9 \\u5bcc\\u862d\\u5766\\u5929\\u7136eA.a\",\"ALZ30 \\u806f\\u535a\\u5168\\u7403\\u79d1\\u6280AEUR\",\"PYZ48 \\u65bd\\u7f85\\u5fb7\\u4f01\\u50b5A1a$\",\"006205 \\u5bcc\\u90a6\\u4e0a\\u8a3c\",\"T0326A \\u7b2c\\u4e00\\u91d1\\u5168\\u7403\\u4e0d\\u52d5 A\",\"JAZ68 \\u99ff\\u5229\\u74b0\\u5730\\u7522AUSD.a\",\"PYZ45 \\u65bd\\u7f85\\u5fb7\\u4e9e\\u50b5A1a$\",\"CPA74 \\u701a\\u4e9e\\u4e9e\\u6d32\\u80a1Aadmc1\",\"GSFD3 \\u5929\\u65b0\\u516c\\u53f8\\u50b5C2zmh\",\"ARZ17 \\u5b89\\u76db\\u7f8e\\u570b\\u9ad8\\u6536\\u50b5Ah\",\"SGA0001 GAM\\u91ab\\u7642\\u5275\\u65b0E$\",\"FLZG7 \\u5bcc\\u862d\\u5766\\u5168\\u50b5\\u7e3deA.M\",\"ISZ95 \\u666f\\u9806\\u5927\\u4e2d\\u83efA$\",\"JFZAH JPM \\u591a\\u91cd\\u6536\\u76caAed\",\"FTZP5 \\u5bcc\\u9054\\u6b50\\u6d32\\u5165\\u606fAae\",\"SBZ28 \\u745e\\u9280\\u7f8e\\u570b\\u5c0f\\u578b\\u80a1\",\"01003T \\u5146\\u8c50\\u65b0\\u5149R1\",\"T1034B \\u5bcc\\u90a6\\u5168\\u7403\\u6295\\u8cc7 B\",\"PYZD0 \\u65bd\\u7f85\\u65b0\\u8208\\u4e9eA1aEU\",\"CPAA0 \\u701a\\u4e9e\\u65e5\\u672cAdmc1NZD\",\"PYZN1 \\u65bd\\u7f85\\u5fb7\\u7f8e\\u5927Aa$\",\"T0810Y \\u4fdd\\u5fb7\\u4fe1\\u4e2d\\u5c0f\\u578b\",\"T1146D \\u6469\\u6839\\u591a\\u5143\\u606f\\u6210\\u9577BC\",\"MFZI9 MFS\\u65b0\\u5e02\\u50b5I1.USD\",\"PTZ20 \\u767e\\u9054\\u975e\\u5c08\\u91ab\\u85e5HR.e\",\"PIZ40 \\u92d2\\u88d5\\u7b56\\u6536\\u76caA2\",\"FTZB0 \\u5bcc\\u9054\\u5168\\u7403\\u805a\\u7126\",\"PIZG0 \\u92d2\\u88d5\\u6b50\\u9678\\u80a1\\u7968I2\",\"T2724D \\u5b8f\\u5229\\u4e9e\\u592a\\u5165A CNY\",\"PYZM0 \\u65bd\\u7f85\\u5927\\u4e2d\\u83efAa$\",\"T3518Y \\u672a\\u4f86\\u4e9e\\u6d32\\u65b0\\u5bcc\",\"FLZC0 \\u5bcc\\u862d\\u5766\\u7cbe\\u9078$A.d\",\"T0335Y \\u7b2c\\u4e00\\u91d1\\u4e9e\\u6d32\\u65b0\\u8208\\u5e02\",\"PYZW5 \\u65bd\\u7f85\\u5fb7\\u65e5\\u512aCa$h\",\"POZ20 \\u7f85\\u7d20\\u591a\\u514390 W\",\"T0828Y \\u4fdd\\u5fb7\\u4fe1\\u5168\\u7403\\u6d88\\u8cbb\\u5546\",\"AIZ68 \\u67cf\\u745e\\u62c9\\u7f8e\\u4e2d\\u5c0fY\",\"FLZ97 \\u5bcc\\u5766\\u5168\\u7403\\u57fa\\u91d1A$a\",\"UOB01 \\u65b0\\u52a0\\u5761\\u5927\\u83ef\\u6771\\u5354-S\",\"MFZJ2 MFS\\u6b50\\u7814I1$\",\"UBA08 \\u745e\\u806f\\u7f8e\\u6295\\u8cc7\\u53f8\\u50b5RC\",\"T4512B \\u5bcc\\u862d\\u5168\\u9ad8\\u6536\\u50b5B\",\"ANZ11 \\u5b89\\u672c\\u82f1\\u570b\\u80a1\\u7968AG\",\"PYZCJ \\u65bd\\u7f85\\u901a\\u81a8\\u50b5CdEU\",\"HHZ04 \\u4ea8\\u5fb7\\u68ee\\u65e5\\u6a5f\\u6703A2$\",\"ALZII \\u806f\\u535a\\u6b50\\u6d32\\u6536\\u76caSAum\",\"GSFB9 \\u5929\\u9054\\u74b0\\u7403\\u80fd\\u6e90Ia\",\"MSZ13 \\u6469\\u58eb\\u74b0\\u7403\\u623f\\u5730\\u7522A\",\"FLZC2 \\u5bcc\\u862d\\u5766\\u7cbe\\u9078eB.d\",\"ALZ0002 \\u806f\\u535a\\u5168\\u7403\\u6536\\u76caAT$\",\"FSZ11 \\u9996\\u57df\\u5168\\u7403\\u8cc7\\u6e90\",\"T0815Y \\u4fdd\\u5fb7\\u4fe1\\u53f0\\u5546\\u5168\\u65b9\\u4f4d\",\"T1124Y \\u6469\\u6839\\u7d55\\u5c0d\\u65e5\\u672c\",\"T3620Y \\u5b89\\u806f\\u56db\\u5b63\\u56de\\u5831A\",\"INZC0 NN \\u65b0\\u8208\\u50b5Y$d\",\"FHA20 CG\\u5168\\u7403\\u80a1T$\",\"T3256F \\u91ce\\u6751\\u4e9e\\u592a\\u8907\\u5408\\u50b5BC\",\"ALZFR \\u806f\\u535a\\u5168\\u7403\\u50b5BA$m\",\"ISZG9 \\u666f\\u9806\\u65e5\\u52d5\\u529bCd$\",\"GSFG8 \\u5929\\u9054\\u7279\\u8a31\\u724cIacc$h\",\"ARZ11 \\u5b89\\u76db\\u6700\\u4f73\\u6536\\u76ca\",\"T1233B \\u83ef\\u5357\\u4eba\\u6c11\\u5e63\\u9ad8\\u6536 B\",\"ALZ56 \\u806f\\u535a\\u623f\\u8cb8\\u6536\\u76caB2X$\",\"PIZH1 \\u92d2\\u88d5\\u7f8e\\u9ad8\\u606fAaud\\u606f\",\"POZ05 \\u7f85\\u7d20\\u5168\\u7403\\u80a1\\u7968\",\"ALZDM \\u806f\\u535a\\u7cbe\\u9078\\u7f8e\\u80a1S1.$\",\"NBZ10 NB\\u7f8e\\u570b\\u623f\\u7522I$a\",\"FLZ86 \\u5bcc\\u862d\\u5766\\u79d1\\u6280B$acc\",\"ISZB9 \\u666f\\u9806\\u7f8e\\u50f9\\u503cA$\",\"PIZI3 \\u92d2\\u88d5\\u74b0\\u9ad8\\u6536Aaud\\u606f\",\"SGFA1 \\u5148\\u6a5f\\u7f8e\\u5165\\u606fCd$\",\"T3737B \\u570b\\u6cf0\\u7b56\\u7565\\u9ad8\\u6536\\u50b5 B\",\"AIZ25 \\u67cf\\u745e\\u7f8e\\u7814\\u589eYa$\",\"PYZD3 \\u65bd\\u7f85\\u5fb7\\u65b0\\u6b50A1a$\",\"AFZ07 \\u92d2\\u88d5\\u5168\\u901a\\u81a8\\u9023SHU\",\"GSFC1 \\u5929\\u9054\\u74b0\\u7403\\u52d5\\u529bIi\",\"PYZX0 \\u65bd\\u7f85\\u4e9e\\u6536\\u76caCd$\",\"SBZ85 \\u745e\\u9280\\u6fb3\\u5e63\\u57fa\\u91d1-KC\",\"UOB24 \\u5927\\u83ef\\u5168\\u7403\\u623f\\u5730-SGD\",\"T0603Y \\u666f\\u9806\\u5168\\u7403\\u79d1\\u6280\",\"SGFA6 \\u5148\\u6a5f\\u65b0\\u8ca8Ca$\",\"FLZG1 \\u5bcc\\u862d\\u5766\\u7cbe\\u9078audAMH\",\"EUZ45 \\u6b50\\u7fa9\\u74b0\\u667a\\u6167\\u80a1RH\",\"ALZHH \\u806f\\u535a\\u4e2d\\u570b\\u6642BDnzmH\",\"MGF19 \\u5b8f\\u5229\\u4fc4\\u7f85\\u65af\\u80a1\\u7968AA\",\"DWS50 DWSN\\u65b0\\u9ad8\\u80a1\\u606fFC\",\"T4012F \\u5fb7\\u9280\\u4e9e\\u6d32\\u9ad8\\u6536\\u50b5BC\",\"ALZAP \\u806f\\u535a\\u7f8e\\u570b\\u6210\\u9577Ieh\",\"CPA86 \\u701a\\u4e9e\\u4e2d\\u80a1Admc1\",\"PLZ72 \\u9738\\u83f1\\u719f\\u65b0\\u9ad8\\u50b5I$a\",\"VON10 \\u745e\\u842c\\u65b0\\u8208\\u6771\\u6b50AM$\",\"TLZ22 \\u5b89\\u806f\\u6cf0\\u570b\\u57fa\\u91d1\",\"MFZE8 MFS\\u5168\\u8cc7\\u914dC1-USD\",\"ISZL0 \\u666f\\u9806\\u6b50\\u6307\\u6a19\\u589eAH$\",\"SGF16 \\u5148\\u6a5f\\u74b0\\u7b56\\u50b5Ba$\",\"GSF39 \\u5929\\u9054\\u65b0\\u8ca8\\u5e63\\u50b5C\",\"T3252A \\u91ce\\u6751\\u65b0\\u8208\\u9ad8\\u6536\\u50b5 A\",\"PIZD0 \\u92d2\\u88d5\\u4e9e\\u6d32\\u65e5\\u672cI2\",\"TLZ06 \\u5b89\\u806f\\u8cc7\\u6e90\\u7522\\u696d\\u57fa\\u91d1\",\"T0332C \\u7b2c\\u4e00\\u91d1\\u5168\\u7403\\u9ad8\\u6536A$\",\"006201 \\u5143\\u5927\\u5bcc\\u6ac350\",\"NBZ88 NB\\u7f8e\\u623f\\u7522E aud ac\",\"ALZX9 \\u806f\\u535a\\u65b0\\u5e02\\u50b5AT.$\",\"PYZJ2 \\u65bd\\u7f85\\u5fb7\\u9999\\u6e2fA1a$\",\"FLZB7 \\u5bcc\\u5766\\u7f8e\\u5143\\u77ed\\u7968A$a\",\"T1810E \\u806f\\u535a\\u50b5\\u5238\\u6536\\u76caA2 C\",\"ALZW4 \\u806f\\u535a\\u4e2d\\u570b\\u6642I.e\",\"ALZD3 \\u806f\\u535a\\u5168\\u50b5B2 EUR\",\"INZ95 NN \\u4e9e\\u6d32\\u50b5P$\",\"CPA85 \\u701a\\u4e9e\\u5317\\u7f8e\\u50f9\\u503cA$\",\"CPA52 \\u701a\\u4e9e\\u516c\\u53f8\\u50b5B\",\"CPA49 \\u701a\\u4e9e\\u4e9e\\u7576\\u5e63\\u50b5C\",\"ALZ22 \\u806f\\u535a\\u5168\\u9ad8\\u6536\\u50b5EUR\",\"T2263Y \\u5fa9\\u83ef\\u5168\\u7403\\u77ed\\u671f\\u6536\\u76ca\",\"FLZD6 \\u5bcc\\u862d\\u5766\\u5168\\u9818\\u822aeA.a\",\"ALZU6 \\u806f\\u535a\\u5370\\u6210\\u9577I-USD\",\"TLZ73 \\u5b89\\u806f\\u4e9e\\u7e3d\\u56de\\u5831AMah\",\"DWS08 DWS\\u6b50\\u6d32\\u5c0fLC\",\"PYZZ1 \\u65bd\\u7f85\\u5fb7\\u62c9\\u7f8eCaEU\",\"PYZFN \\u65bd\\u7f85\\u74b0\\u80a1\\u606fAdAUh\",\"PYZ50 \\u65bd\\u7f85\\u5fb7\\u6b50\\u77edA1aEU\",\"T1213Y \\u83ef\\u5357\\u6c38\\u660c\\u5168\\u7403\\u4ea8\\u5229\",\"INZ53 NN \\u6b50\\u6d32\\u80a1Pe\",\"T0502Y \\u5143\\u591a\\u798f\",\"PIZB7 \\u92d2\\u88d5\\u74b0\\u7403\\u751f\\u614bA2e\",\"T0546B \\u5143\\u5927\\u5168\\u7403\\u516c\\u7528\\u80fd B\",\"PYZFI \\u65bd\\u7f85\\u4e9e\\u5730\\u7522CaEU\",\"CPA93 \\u701a\\u4e9e\\u4e2d\\u80a1Aadmc1\",\"UOB15 \\u5927\\u83ef\\u5168\\u7403\\u79d1\\u6280USD\",\"ALZHK \\u806f\\u535a\\u4e2d\\u570b\\u6642BDaumH\",\"SGF51 \\u5148\\u6a5f\\u7f8e\\u5143Cd$\",\"ALZGL \\u806f\\u535a\\u65e5\\u672c\\u50f9BD$mh\",\"T3502Y \\u672a\\u4f86\\u6240\\u7f85\\u9580\\u8ca8\\u5e63\",\"T3259B \\u91ce\\u6751\\u74b0\\u9ad8\\u50b5 B\",\"T1131Y \\u6469\\u6839\\u91d1\\u9f8d\\u6536\\u6210\",\"FTZ14 \\u5bcc\\u9054\\u6fb3\\u6d32\\u57fa\\u91d1\",\"ISZ79 \\u666f\\u9806\\u65b0\\u8ca8\\u5e63\\u50b5C$\",\"T2502Y \\u6c38\\u8c50\\u8ca8\\u5e63\\u5e02\\u5834\",\"TLZ67 \\u5b89\\u806f\\u6536\\u76ca\\u6210\\u9577AT$a\",\"PTZ11 \\u767e\\u9054\\u7f8e\\u80a1\\u7cbeRe\",\"PYZH8 \\u65bd\\u7f85\\u5927\\u4e2d\\u83efA1a$\",\"INZ11 NN \\u74b0\\u9ad8\\u80a1\\u606fXe\",\"T0827Y \\u4fdd\\u5fb7\\u4fe1\\u5168\\u7403\\u57fa\\u790e\\u5efa\",\"CTYO3 \\u7f8e\\u76db\\u7f8e\\u5c0f\\u6a5f\\u6703Aaah\",\"FLZ13 \\u5bcc\\u862d\\u5766\\u4f2f\\u6210\\u9577\\u57fa\\u91d1\",\"ALZCP \\u806f\\u535a\\u65b0\\u8208\\u50f9\\u503cS$\",\"PYZG3 \\u65bd\\u7f85\\u74b0\\u6b50\\u6536A1dEU\",\"PAZ74 \\u6cd5\\u767e\\u7f8e\\u9ad8\\u50b5C$\",\"T1430Y \\u65b0\\u5149\\u5168\\u7403\\u751f\\u6280\\u91ab\\u7642\",\"NBZ45 NB\\u7f8e\\u570b\\u623f\\u7522Tmz\",\"INZ29 NN \\u539f\\u7269\\u6599Xe\",\"PYZU4 \\u65bd\\u7f85\\u74b0\\u80a1\\u50b5Aa$\",\"ALZGJ \\u806f\\u535a\\u65e5\\u672c\\u50f9ADJPYm\",\"CTYK1 \\u7f8e\\u76db\\u5168\\u7403\\u56fa\\u5b9aA$a\",\"T1004Y \\u5bcc\\u90a6\\u7cbe\\u6e96\",\"MFZ26 MFS\\u5168\\u76db\\u7f8e\\u5bc6\\u6210B1$\",\"T3628B \\u5b89\\u806f\\u56db\\u5b63\\u6210\\u7d44\\u5408 $\",\"ANZ01 \\u5b89\\u672c\\u5317\\u7f8e\\u80a1\\u7968A$\",\"T1814E \\u806f\\u535a\\u5168\\u7403\\u9ad8\\u6536\\u50b5AA\",\"FTZQ5 \\u5bcc\\u9054\\u6b50\\u6d32\\u5e73\\u8861Aa$h\",\"GSF65 \\u5929\\u9054\\u65b0\\u8ca8\\u5e63\\u50b5Ca\",\"T3731Y \\u570b\\u6cf0\\u4e2d\\u570b\\u5167\\u9700\\u589e\\u9577\",\"FLZE3 \\u5bcc\\u862d\\u5766\\u65b0\\u8208$A.a\",\"INZG2 NN \\u74b0\\u9ad8\\u6536X$dh\",\"FHA22 CG\\u5168\\u9ad8\\u76ca\\u6a5fTfd\",\"PYZT2 \\u65bd\\u7f85\\u5fb7\\u74b0\\u50b5Cd$\",\"T0901Y \\u7d71\\u4e00\\u7d71\\u4fe1\",\"PYZT6 \\u65bd\\u7f85\\u5fb7\\u65e5\\u512aAa$h\",\"PIZM5 \\u92d2\\u88d5\\u6b50\\u6d32\\u6f5b\\u529bU2\",\"AIZ67 \\u67cf\\u745e\\u62c9\\u7f8e\\u4e2d\\u5c0fA\",\"T0306Y \\u7b2c\\u4e00\\u91d1\\u5168\\u5bb6\\u798f\\u8ca8\\u5e63\",\"T2727B \\u5b8f\\u5229\\u65b0\\u8208\\u5e02\\u5834\\u9ad8-B\",\"INZG5 NN \\u4e9e\\u6d32\\u50b5Xzdh\",\"JAZB3 \\u99ff\\u5229\\u9748\\u6d3bVa.i H\",\"T3726Y \\u570b\\u6cf0\\u4e2d\\u6e2f\\u53f0\",\"T1649B \\u7fa4\\u76ca\\u5168\\u7403\\u751f\\u6280$\",\"T1652F \\u7fa4\\u76ca\\u5de5\\u696d\\u570bBC\",\"T3219Y \\u91ce\\u6751\\u9d3b\\u904b\",\"UBA02 \\u745e\\u806f\\u7f8e\\u570b\\u6295\\u8cc7\\u516c\\u50b5\",\"SGF47 \\u5148\\u6a5f\\u65b0\\u50b5Ba$\",\"JAZ47 \\u99ff\\u5229\\u7f8e\\u7b56\\u7565AUSD.a\",\"ISZ77 \\u666f\\u9806\\u65b0\\u8ca8\\u5e63\\u50b5A$\",\"JAZ85 \\u99ff\\u5229\\u7b56\\u7565Alpha I$\",\"T2541B \\u6c38\\u8c50\\u65b0\\u8208\\u4f01\\u696d\\u50b5 B\",\"ALZ03 \\u806f\\u535a\\u5168\\u7403\\u79d1\\u6280\\u57fa\\u91d1\",\"T2109B \\u67cf\\u745e\\u4e9e\\u592a\\u9ad8\\u80a1\\u606f B\",\"EDM08 EDM \\u4e2d\\u570bA USD\",\"FLZ69 \\u5bcc\\u862d\\u5766\\u7f8e\\u570b$AX.ac\",\"ISZH7 \\u666f\\u9806\\u65e5\\u52d5\\u529bAH$\",\"JAZ10 \\u99ff\\u5229\\u5e73\\u8861B$.a\",\"PLZ31 \\u9738\\u83f1\\u719f&\\u65b0\\u9ad8\\u50b5Aeq\",\"SBZ51 \\u745e\\u9280\\u7b56\\u7565\\u5e73\\u8861\\u6b50\\u5143\",\"T1655E \\u7fa4\\u76ca\\u74b0\\u7403\\u91d1\\u7dbbAA\",\"FLZ61 \\u5bcc\\u862d\\u5766\\u4e92\\u5229\\u7f8eAe.a\",\"DWS66 DWS\\u6b50\\u9ad8\\u53f8\\u50b5FC\",\"PYZA3 \\u65bd\\u7f85\\u745e\\u58eb\\u80a1A1aCH\",\"UBA04 \\u745e\\u806f\\u65b0\\u6a5f\\u6703\\u50b5$AD\",\"PIZ25 \\u92d2\\u88d5\\u7f8e\\u570b\\u57fa\\u91d1A2\",\"MGF05 \\u5b8f\\u5229\\u4e9e\\u6d32\\u80a1\\u7968A\",\"ALZZ9 \\u806f\\u535a\\u9ad8\\u6536\\u50b5S1$\",\"T0583A \\u5143\\u5927\\u5168\\u7403\\u9748\\u6d3b\\u914d A\",\"PYZ60 \\u65bd\\u7f85\\u6b50\\u5143\\u4f01A1aEU\",\"INZ70 NN \\u6295\\u8cc7\\u516c\\u53f8\\u50b5P$\",\"TLZ70 \\u5b89\\u806f\\u6536\\u6210\\u9577AMaH2\",\"T1431Y \\u65b0\\u5149\\u5357\\u975e\\u5e63\\u4fdd\\u672c\",\"FPZ13 \\u6cd5\\u76db\\u65b0\\u6b50R/A.e\",\"T2740A \\u5b8f\\u5229\\u5168\\u5165\\u606f\\u7d44\\u5408A\",\"T3729Y \\u570b\\u6cf0\\u5168\\u7403\\u8cc7\\u6e90\",\"PAZS2 \\u6cd5\\u767e\\u5370\\u5ea6C$\",\"MFZ29 MFS\\u5168\\u76db\\u5168\\u7403\\u80a1A1e\",\"FTZP1 \\u5bcc\\u9054\\u6b50\\u6d32 Aa$h\",\"T2045E \\u65e5\\u76db\\u4e2d\\u570b\\u9ad8\\u6536\\u50b5A$\",\"T2030Y \\u65e5\\u76db\\u9996\\u9078\",\"JAZ75 \\u99ff\\u5229\\u74b0\\u7814\\u7a76IUSD.a\",\"0056 \\u5143\\u5927\\u9ad8\\u80a1\\u606f\",\"UBA20 \\u745e\\u806f\\u65e5\\u50f9\\u503c\\u80a1eAHC\",\"PIZC5 \\u92d2\\u88d5\\u65b0\\u5e02\\u8ca8\\u50b5BXD\",\"T4218B \\u65bd\\u7f85\\u5fb7\\u4e2d\\u570b\\u50b5\\u5238B$\",\"PYZDL \\u65bd\\u7f85\\u5fb7\\u65b0\\u8208CaAU\",\"FTZ69 \\u5bcc\\u9054\\u6b50\\u6d32\\u9ad8\\u6536\\u76ca\\u57fa\",\"JAZ23 \\u99ff\\u5229\\u5e73\\u8861Ae.a H\",\"ALZDE \\u806f\\u535a\\u65b0\\u5e02\\u50b5ATNZDH\",\"T0591Y \\u5143\\u5927\\u4e2d\\u5e73\\u8861 NTD\",\"PIZ06 \\u92d2\\u88d5\\u6b50\\u6d32\\u7814\\u7a76A2e\",\"EDM22 EDM \\u5168\\u7403\\u65b0\\u8208 B\",\"JAZ32 \\u99ff\\u5229\\u9ad8\\u6536B$.i\",\"PYZW4 \\u65bd\\u7f85\\u5fb7\\u65e5\\u512aCaJP\",\"SPZ09 \\u5229\\u5b89\\u65b0\\u99acUSD\",\"EUZ41 \\u6b50\\u7fa9\\u4e2d\\u570b\\u80a1\\u7968R2\",\"PIZ41 \\u92d2\\u88d5\\u7b56\\u6536\\u76caA2e\",\"PIZ98 \\u92d2\\u88d5\\u7f8e\\u5143\\u77ed\\u50b5A2\",\"PAZ69 \\u6cd5\\u767e\\u6b50\\u5143\\u50b5Ce\",\"T0449C \\u532f\\u8c50\\u4e2d\\u9ad8\\u6536B\",\"ALZL7 \\u806f\\u535a\\u5168\\u7403\\u4e0d\\u52d5IEUR\",\"GSFB2 \\u5929\\u9054\\u6b50\\u6d32\\u80a1\\u7968Ia\",\"PYZFJ \\u65bd\\u7f85\\u74b0\\u6b50\\u6536A1a$h\",\"ALZX5 \\u806f\\u535a\\u65e5\\u672c\\u50f9\\u503cI.$\",\"ALZQ7 \\u806f\\u535a\\u5168\\u7403\\u50f9B\\u6b50\\u5143\",\"T0576B \\u5143\\u5927\\u5168\\u7403\\u4e0d\\u52d5\\u7522 B\",\"T2006Y \\u65e5\\u76db\\u9ad8\\u79d1\\u6280\",\"T4119Y \\u51f1\\u57fa\\u96f2\\u7aef\\u8da8\\u52e2\",\"PYZBN \\u65bd\\u7f85\\u5fb7\\u7cbe\\u9078CaEUh\",\"FLZ45 \\u5bcc\\u862d\\u5766\\u67cf\\u5168\\u50b5\\u5238e\",\"T2216Y \\u5fa9\\u83ef\\u5168\\u65b9\\u4f4d\",\"JAZ28 \\u99ff\\u5229\\u9748\\u6d3bB$.i\",\"PYZ0003 \\u65bd\\u7f85\\u8208\\u80a1\\u50b5Aa$\",\"JAZ96 \\u99ff\\u5229\\u7f8e\\u7b56\\u7565IEUR H\",\"FTZB5 \\u5bcc\\u5168\\u7403\\u4e0d\\u52d5\\u7522-EUR\",\"MGF15 \\u5b8f\\u5229\\u62c9\\u4e01\\u7f8e\\u6d32AA\",\"FTZC7 \\u5bcc\\u9054\\u4e9e\\u6d32\\u805a\\u7126Ae\",\"JAZ35 \\u99ff\\u5229\\u7f8e\\u5275\\u696dAE.acH\",\"PIZG1 \\u92d2\\u88d5\\u6b50\\u9678\\u80a1\\u7968I2eu\",\"ALZF6 \\u806f\\u535a\\u5168\\u9ad8\\u76caB2 EUR\",\"ALZ29 \\u806f\\u535a\\u570b\\u969b\\u91ab\\u7642BUSD\",\"INZ76 NN \\u7f8e\\u9ad8\\u606fX$\",\"T1809D \\u806f\\u535a\\u65b0\\u4f01\\u696d\\u50b5 AA$\",\"SBZ45 \\u745e\\u9280\\u6fb3\\u5e63\\u57fa\\u91d1\",\"T3303Y \\u806f\\u90a6\\u7cbe\\u9078\\u79d1\\u6280\",\"006208 \\u5bcc\\u90a6\\u53f050\",\"JAZA4 \\u99ff\\u5229\\u74b0\\u79d1IEUR.acH\",\"CTY57 \\u897f\\u8cc7\\u9ad8\\u6536\\u50b5A(G)$A\",\"PYZM3 \\u65bd\\u7f85\\u5fb7\\u65e5\\u672cAaJP\",\"FPZ34 \\u6cd5\\u76db\\u65b0\\u4e9eR/D.$\",\"SGA06 GAM\\u591a\\u5143\\u6536\\u5165\\u50b5E\",\"FLZ28 \\u5bcc\\u862d\\u5766\\u4f2f\\u62c9\\u4e01\\u7f8e\\u6d32\",\"T0538Y \\u5143\\u5927\\u6cdb\\u6b50\\u6210\\u9577\\u57fa\\u91d1\",\"CTY60 \\u51f1\\u5229\\u7f8e\\u5927\\u6210A(G)$A\",\"FLZ06 \\u5bcc\\u862d\\u514b\\u6797\\u6210\\u9577\\u57fa\\u91d1\",\"MGF21 \\u5b8f\\u5229\\u7f8e\\u570b\\u50b5\\u5238AA\",\"T2727D \\u5b8f\\u5229\\u65b0\\u8208\\u5e02\\u5834\\u9ad8AC\",\"FLZ27 \\u5bcc\\u862d\\u5766\\u5168\\u6c23\\u5019Ae.Y\",\"ISZ52 \\u666f\\u9806\\u5168\\u6b50\\u6d32\\u4f01\\u696dCe\",\"PYZDS \\u65bd\\u7f85\\u5fb7\\u65b0\\u50b5CdEUh\",\"AIZ40 \\u67cf\\u745e\\u74b0\\u7403\\u80a1Y\",\"PAZU0 \\u6cd5\\u767e\\u7f8e\\u570b\\u589e\\u9577I$\",\"MFZI6 MFS\\u91cd\\u9ede\\u7814\\u7a76I1$\",\"T1148A \\u6469\\u6839\\u65b0\\u8208\\u96d9\\u5229A\",\"PYZFL \\u65bd\\u7f85\\u4e9e\\u9ad8\\u606fCa$\",\"GSF83 \\u5929\\u9054\\u6b50\\u9ad8\\u6536\\u50b5C2AH\"],\"x\":{\"__ndarray__\":\"5+ahP4I3vb9PsoJYrRbZv8J+nZ6EDLa/L5CbjIBBuD8JTWEttTzLPzSU4rQhHcS/x86n1f98sr8sgwse5EbNP1vJKJGh+7A/OZPQDmdbuj/URGKWGtGrv5Cg3A6n5aw/J+OkFntm07+rTE9VZVzCvxNwEd/WOsm/U1gKvY2Nwr//GAr7LIiyvwzoJDnUOaK/r8xThroRwD+Vbnxkak+tP83YeqPx77C/V4hDl0lvxL9xYHNH6LCjP/crM3e5mbs/W9rCx9oht78PdVsOCwTFPyYyeUSNEJ6/H9FWDnxuqL9+JqBeaSPSP9NmByZDPJa/xkC4dS9X0b/YS8TDYcDGv/AMxoacmsK/WxrZ2d0kx7/vxRIHXeKyv/zG32JVv9C/RFTNkUtpxz8qT5VVDWvSPwRjucHzMci/YSRBS8xCvz/npmXMYE9dPxp4LQIqWNw/pi4FuB5JzL+sriCUYbWWP1X7cmDHudC/qxDEdAR0qT/SniPddtt6P4qH8Yw+Nbw/9q/tJpqQ3T9KkPZ9LWjAv5ptXuXxZsW/GLwAEkIYyD9Fi3igiA6QP1EVQF2v/cY/nNJT7ttCrb8I2u6vqRrJv8jaZta6qcc/ILsrrC7jsL9EBWjQ4RiRv0XPSTfKIMI/PZAPPanwzj8X49+SrM6QP4vM99MllIW/cDcibGQJmb9Bw1IgRGTFP18lK480Ury/jpTGnJamtj/SkVZbRoPTP38Auu3JNsq/5GPgPmO9zD8+5CejwmPUP2+verl6XNY/FnhJLrmtgj/BPh7Rx1/Bv+05TQPBj6y/PTZpDC48tT/Z+Sp2XK3XP6tYHdcr2M8/g3PK3qRf0j90sNGjhIqgv1sYKse2ori/fhv3YYui3r+pNUBLHPvWP2EGrS9dHZs/tEaUVJMvo78dcM/1jxjMv96ZP6VAaNI/ZP80ZQnnxr980drrrf+3P2Eq/gh0sLw/aFAxI1R7uD90XGhekW6Ov9V8zODticS/B7JBvjniuz/R/E+OEoHOP7GpUki5U7q/fNNDDlEAwj+1EjZJVmbCPxskji4KrMu/6ayQax+Iyb+/uDzVqeLTP2aZFgpcP8g/ZsAfhJsEwL8n24bDzz7Gv7dQofxnorE/SkfEhBqtwr8lQ2Cjyn7Sv2MEOl2G78K/D6+ZqPlDxb9Psx3qUO67PxzdePDd4Ns/Je0qMkMgrT/qqciBJm2pP51WpPAFQ7e/oknXAzFZ3z9fguuEFyXVP4lS8n9HlrG/h3vBwRFau78IzAtwqAm/P0xjqcwytZk/RnlF5uL40T8Qdp9cv5XSP7CSBIfkkpU/8IuHWrhJwr9mtPG/xsvRv2toZmI8rbE/tM5vOxnnxr9C7u4pPenJv3yr5bzbN8E/XZE8tmcUh79f12ror5ywPyarpmCyIdk/aXqCpdkdyL/Y4DB0h8LQv1nkHmUuNMO/vsRYuXXKvL+HGs48OZS8v22lrNtVpsK/TNV0+Pu9qz/Hh99Qu8G1P7wtDjksicU/5ov9iZd2wL+5aY/mTs20vyb9NPX0TtQ/0Nh0lfxgwb/1IqKNuo2FP5KRK2Uwqs2/xJlOvmRvxb8CwC76kLu4v9CtouSvfca/gia2g0tJ1T8DGmqoV8S7Pz6lJkUD0Mg/LNHbett9yj/ZoCv9XIHDv13JLrfft6I/YjwNTyWC0z8sClrlN6fGP21B5UUipbK/PtYiUe6Vyb9EjU0OcXLAvyKz+rSSI8K/77HHo6VSw7/vNQc+KqzKv7OrjhWBhI2/88Se7K7HwL9CPRhuPo6Ov+mXQdYhmog/jj3b4hTp0L/tRxRQndfSPwfYpDMgerO/oVZGuHcimr9ArdOJfcS7P7612bDTENc/x9SsZXrY0j8jg7fJtEG/v/8t5pLI7Lq//o3atGPPrz/sTP8/WfmUv+QMQG7SdLC//ip0okP31D9QzbvjQduYvwRlL2KakJi/x3K4yJshob/GplDpAoTNvy81oQLK8tc/kvQRTJ9D1j85yhy1qkKpP+pDv1dDkMe/ljjSmaelxz/Tyi04v1HHPwxckwp7i8G/WLztY8U1sz9D+XvUyMzPP2qGJ9MKE66/LNpgX9yD0b8fp58hiJfHvzLG5WhNxdM/1pYB7Hh1zj/ktmF6vKe1P2RVKvXNX8S/aRJGI4aC0z8w5OYzxbfUv0ugguSNb9W/I4I0XT8awb8pD/Ds05S1v4x+MTyzkMS/F/+dfATQzz8VDVcJBmnGP5P2GJhNrpm/0xs9xcmA1b/UglVye0izv5OlPbHC68K/UgqinxRYyL8mVuxOvQXDv9YLlvCAYcG/Q9zH8OZt1D9XUfwMP7zDv+6mTB7B6Li/nFo0MNYpjj/U4FKljizVv4jfQC3IuLQ/uURNueXpyz9sRtsqQPCxv7fJH3OFadO/5mSk1FTfsb9H/tiTf81qP5ju8WgYaL6/6ycUuegJz7+dwC59yWTIv9f6gNXDB7C/JLGPrVS01r/xW9rVr33VP8i2amCtc76/SPBkxBm50D8Il/XwUsjLP1N1dm+BHNg/grKbkTTD1b/CjYrWDNXJvwGPWQSif82/oHv0qqgupb+3XsimzLKcP4+9c/JKwKI/eGzs2TEasr8OLWVRAPGUv3y1IklvRLc/H5A0JFyzxz/0ql+QMqnYP5TnNGhX1qO/8BbbJJiSzb/IwQSNoAvrv++A6jI4PpY/xs5fWVBB0j/IRDWg16i4v1FP6hh/77Y/MhCAF2Qlh79FE0s2HlPCP60hPk+x/MC/OT8EGlsnwD+NGw8aGzLNP4A0OnFeDsq/V62KV9XQg7+4yXyJ/TzHv4DAKw2cO9M//Clr7NPS0j9/NBH932q1P1U/tcJR+MO/PHl+KqUOwb/1QInLhljEPw4PimtSOsi/lIC/6OXD0L/+WJ3x9G+wvwz+1Q2jpsa/zvduwkSSzb+vsh7YYyvBv9K/q5sTpLs/LLYbdXpqxD93siZcR5jXP/nREzRkAc4/ycuRIF7ivL+bycFYrGvAPwiJEh4GJMI/lpwQ1BUxur/U8qYikaCpv+XmmVjYdb4/nWIfe1hmpr9Qot+umne/v/AAXZ1zxsO//PqTK3W/xD/Txh9kp0yWv7TiECJt7cK/uF85utwhvb99LDEBb+3IP1C2bXyrkL+/IheettQ3w7+LsjvQera5vzJsiEFe9Li/vo7DjSMFk7+enUjjGQe6vw==\",\"dtype\":\"float64\",\"shape\":[299]},\"y\":{\"__ndarray__\":\"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\",\"dtype\":\"float64\",\"shape\":[299]}},\"selected\":{\"id\":\"1220\",\"type\":\"Selection\"},\"selection_policy\":{\"id\":\"1221\",\"type\":\"UnionRenderers\"}},\"id\":\"1166\",\"type\":\"ColumnDataSource\"},{\"attributes\":{\"callback\":null},\"id\":\"1170\",\"type\":\"DataRange1d\"},{\"attributes\":{\"dimension\":1,\"plot\":{\"id\":\"1168\",\"subtype\":\"Figure\",\"type\":\"Plot\"},\"ticker\":{\"id\":\"1184\",\"type\":\"BasicTicker\"}},\"id\":\"1187\",\"type\":\"Grid\"},{\"attributes\":{\"plot\":null,\"text\":\"MDS\"},\"id\":\"1167\",\"type\":\"Title\"},{\"attributes\":{},\"id\":\"1184\",\"type\":\"BasicTicker\"},{\"attributes\":{\"source\":{\"id\":\"1166\",\"type\":\"ColumnDataSource\"}},\"id\":\"1195\",\"type\":\"CDSView\"},{\"attributes\":{\"data_source\":{\"id\":\"1166\",\"type\":\"ColumnDataSource\"},\"glyph\":{\"id\":\"1192\",\"type\":\"Circle\"},\"hover_glyph\":null,\"muted_glyph\":null,\"nonselection_glyph\":{\"id\":\"1193\",\"type\":\"Circle\"},\"selection_glyph\":null,\"view\":{\"id\":\"1195\",\"type\":\"CDSView\"}},\"id\":\"1194\",\"type\":\"GlyphRenderer\"}],\"root_ids\":[\"1168\"]},\"title\":\"Bokeh Application\",\"version\":\"1.0.2\"}};\n",
       "  var render_items = [{\"docid\":\"a2831e6b-2278-4ea8-8375-d221fc84914a\",\"roots\":{\"1168\":\"1079f239-005f-4c8e-8126-fff7a24ed375\"}}];\n",
       "  root.Bokeh.embed.embed_items_notebook(docs_json, render_items);\n",
       "\n",
       "  }\n",
       "  if (root.Bokeh !== undefined) {\n",
       "    embed_document(root);\n",
       "  } else {\n",
       "    var attempts = 0;\n",
       "    var timer = setInterval(function(root) {\n",
       "      if (root.Bokeh !== undefined) {\n",
       "        embed_document(root);\n",
       "        clearInterval(timer);\n",
       "      }\n",
       "      attempts++;\n",
       "      if (attempts > 100) {\n",
       "        console.log(\"Bokeh: ERROR: Unable to run BokehJS code because BokehJS library is missing\");\n",
       "        clearInterval(timer);\n",
       "      }\n",
       "    }, 10, root)\n",
       "  }\n",
       "})(window);"
      ],
      "application/vnd.bokehjs_exec.v0+json": ""
     },
     "metadata": {
      "application/vnd.bokehjs_exec.v0+json": {
       "id": "1168"
      }
     },
     "output_type": "display_data"
    }
   ],
   "source": [
    "mds = MDS(n_components=2, dissimilarity='precomputed', n_jobs=-1).fit(data_df).embedding_\n",
    "source = ColumnDataSource(data=dict(x=mds[:, 0],\n",
    "                                    y=mds[:, 1],\n",
    "                                    name=data_df.index,\n",
    "                                    color=color,\n",
    "))\n",
    "TOOLTIPS = [\n",
    "    (\"fund_id\", \"@name\"),\n",
    "]\n",
    "p = figure(plot_width=300, plot_height=300, tooltips=TOOLTIPS,\n",
    "           title=\"MDS\", toolbar_location=None, tools=\"\")\n",
    "p.circle(x='x', y='y', color='color', size=6.5, source=source)\n",
    "show(p)"
   ]
  },
  {
   "cell_type": "code",
   "execution_count": 78,
   "metadata": {
    "scrolled": true
   },
   "outputs": [],
   "source": [
    "profit = profit.rename(columns={0:\"profit\"})\n",
    "profit[\"profit\"] = profit[\"profit\"]-1\n",
    "profit.index.name = \"date\"\n",
    "profit.index = profit.index + 28800\n",
    "profit.index = pd.to_datetime(profit.index, unit='s')"
   ]
  },
  {
   "cell_type": "code",
   "execution_count": 49,
   "metadata": {
    "scrolled": true
   },
   "outputs": [
    {
     "data": {
      "text/html": [
       "\n",
       "\n",
       "\n",
       "\n",
       "\n",
       "\n",
       "  <div class=\"bk-root\" id=\"efbc759b-8d17-423d-b6e2-bacc8d7114c8\"></div>\n"
      ]
     },
     "metadata": {},
     "output_type": "display_data"
    },
    {
     "data": {
      "application/javascript": [
       "(function(root) {\n",
       "  function embed_document(root) {\n",
       "    \n",
       "  var docs_json = {\"9f63f5ba-5e1f-4c77-987e-d945ed8da69b\":{\"roots\":{\"references\":[{\"attributes\":{\"below\":[{\"id\":\"1013\",\"type\":\"DatetimeAxis\"}],\"left\":[{\"id\":\"1018\",\"type\":\"LinearAxis\"}],\"plot_height\":300,\"plot_width\":900,\"renderers\":[{\"id\":\"1013\",\"type\":\"DatetimeAxis\"},{\"id\":\"1017\",\"type\":\"Grid\"},{\"id\":\"1018\",\"type\":\"LinearAxis\"},{\"id\":\"1022\",\"type\":\"Grid\"},{\"id\":\"1028\",\"type\":\"GlyphRenderer\"}],\"title\":{\"id\":\"1002\",\"type\":\"Title\"},\"toolbar\":{\"id\":\"1023\",\"type\":\"Toolbar\"},\"toolbar_location\":null,\"x_range\":{\"id\":\"1005\",\"type\":\"DataRange1d\"},\"x_scale\":{\"id\":\"1009\",\"type\":\"LinearScale\"},\"y_range\":{\"id\":\"1007\",\"type\":\"DataRange1d\"},\"y_scale\":{\"id\":\"1011\",\"type\":\"LinearScale\"}},\"id\":\"1003\",\"subtype\":\"Figure\",\"type\":\"Plot\"},{\"attributes\":{\"formatter\":{\"id\":\"1035\",\"type\":\"DatetimeTickFormatter\"},\"plot\":{\"id\":\"1003\",\"subtype\":\"Figure\",\"type\":\"Plot\"},\"ticker\":{\"id\":\"1014\",\"type\":\"DatetimeTicker\"}},\"id\":\"1013\",\"type\":\"DatetimeAxis\"},{\"attributes\":{\"days\":[1,4,7,10,13,16,19,22,25,28]},\"id\":\"1041\",\"type\":\"DaysTicker\"},{\"attributes\":{\"base\":60,\"mantissas\":[1,2,5,10,15,20,30],\"max_interval\":1800000.0,\"min_interval\":1000.0,\"num_minor_ticks\":0},\"id\":\"1038\",\"type\":\"AdaptiveTicker\"},{\"attributes\":{\"data_source\":{\"id\":\"1024\",\"type\":\"ColumnDataSource\"},\"glyph\":{\"id\":\"1026\",\"type\":\"Line\"},\"hover_glyph\":null,\"muted_glyph\":null,\"nonselection_glyph\":{\"id\":\"1027\",\"type\":\"Line\"},\"selection_glyph\":null,\"view\":{\"id\":\"1029\",\"type\":\"CDSView\"}},\"id\":\"1028\",\"type\":\"GlyphRenderer\"},{\"attributes\":{\"num_minor_ticks\":5,\"tickers\":[{\"id\":\"1037\",\"type\":\"AdaptiveTicker\"},{\"id\":\"1038\",\"type\":\"AdaptiveTicker\"},{\"id\":\"1039\",\"type\":\"AdaptiveTicker\"},{\"id\":\"1040\",\"type\":\"DaysTicker\"},{\"id\":\"1041\",\"type\":\"DaysTicker\"},{\"id\":\"1042\",\"type\":\"DaysTicker\"},{\"id\":\"1043\",\"type\":\"DaysTicker\"},{\"id\":\"1044\",\"type\":\"MonthsTicker\"},{\"id\":\"1045\",\"type\":\"MonthsTicker\"},{\"id\":\"1046\",\"type\":\"MonthsTicker\"},{\"id\":\"1047\",\"type\":\"MonthsTicker\"},{\"id\":\"1048\",\"type\":\"YearsTicker\"}]},\"id\":\"1014\",\"type\":\"DatetimeTicker\"},{\"attributes\":{\"days\":[1,15]},\"id\":\"1043\",\"type\":\"DaysTicker\"},{\"attributes\":{\"line_alpha\":0.1,\"line_color\":\"#1f77b4\",\"line_width\":3,\"x\":{\"field\":\"date\"},\"y\":{\"field\":\"profit\"}},\"id\":\"1027\",\"type\":\"Line\"},{\"attributes\":{\"days\":[1,8,15,22]},\"id\":\"1042\",\"type\":\"DaysTicker\"},{\"attributes\":{},\"id\":\"1050\",\"type\":\"UnionRenderers\"},{\"attributes\":{\"plot\":null,\"text\":\"Profit\"},\"id\":\"1002\",\"type\":\"Title\"},{\"attributes\":{},\"id\":\"1019\",\"type\":\"BasicTicker\"},{\"attributes\":{\"active_drag\":\"auto\",\"active_inspect\":\"auto\",\"active_multi\":null,\"active_scroll\":\"auto\",\"active_tap\":\"auto\",\"tools\":[{\"id\":\"1030\",\"type\":\"HoverTool\"}]},\"id\":\"1023\",\"type\":\"Toolbar\"},{\"attributes\":{\"callback\":null,\"formatters\":{\"date\":\"datetime\"},\"mode\":\"vline\",\"tooltips\":[[\"date\",\"@date{%F}\"],[\"profit\",\"@profit%\"]]},\"id\":\"1030\",\"type\":\"HoverTool\"},{\"attributes\":{\"months\":[0,1,2,3,4,5,6,7,8,9,10,11]},\"id\":\"1044\",\"type\":\"MonthsTicker\"},{\"attributes\":{\"months\":[0,4,8]},\"id\":\"1046\",\"type\":\"MonthsTicker\"},{\"attributes\":{\"callback\":null},\"id\":\"1007\",\"type\":\"DataRange1d\"},{\"attributes\":{\"callback\":null},\"id\":\"1005\",\"type\":\"DataRange1d\"},{\"attributes\":{},\"id\":\"1033\",\"type\":\"BasicTickFormatter\"},{\"attributes\":{\"months\":[0,6]},\"id\":\"1047\",\"type\":\"MonthsTicker\"},{\"attributes\":{},\"id\":\"1049\",\"type\":\"Selection\"},{\"attributes\":{},\"id\":\"1009\",\"type\":\"LinearScale\"},{\"attributes\":{\"days\":[1,2,3,4,5,6,7,8,9,10,11,12,13,14,15,16,17,18,19,20,21,22,23,24,25,26,27,28,29,30,31]},\"id\":\"1040\",\"type\":\"DaysTicker\"},{\"attributes\":{\"formatter\":{\"id\":\"1033\",\"type\":\"BasicTickFormatter\"},\"plot\":{\"id\":\"1003\",\"subtype\":\"Figure\",\"type\":\"Plot\"},\"ticker\":{\"id\":\"1019\",\"type\":\"BasicTicker\"}},\"id\":\"1018\",\"type\":\"LinearAxis\"},{\"attributes\":{\"line_color\":\"#1f77b4\",\"line_width\":3,\"x\":{\"field\":\"date\"},\"y\":{\"field\":\"profit\"}},\"id\":\"1026\",\"type\":\"Line\"},{\"attributes\":{\"source\":{\"id\":\"1024\",\"type\":\"ColumnDataSource\"}},\"id\":\"1029\",\"type\":\"CDSView\"},{\"attributes\":{\"callback\":null,\"data\":{\"date\":{\"__ndarray__\":\"AAAAQnardEIAAMCnyKt0QgAAgA0brHRCAABAc22sdEIAAADZv6x0QgAAQAq3rXRCAAAAcAmudEIAAMDVW650QgAAgDuurnRCAABAoQCvdEIAAIDS9690QgAAQDhKsHRCAAAAnpywdEIAAMAD77B0QgAAgGlBsXRCAADAmjiydEIAAIAAi7J0QgAAQGbdsnRCAAAAzC+zdEIAAMAxgrN0QgAAAGN5tHRCAADAyMu0dEIAAIAuHrV0QgAAQJRwtXRCAAAA+sK1dEIAAEArurZ0QgAAAJEMt3RCAADA9l63dEIAAIBcsbd0QgAAQMIDuHRCAACAIY67dEIAAECH4Lt0QgAAAO0yvHRCAAAAhHy9dEIAAMDpzr10QgAAgE8hvnRCAABAtXO+dEIAAAAbxr50QgAAQEy9v3RCAAAAsg/AdEIAAMAXYsB0QgAAgH20wHRCAABA4wbBdEIAAIAU/sF0QgAAQHpQwnRCAAAA4KLCdEIAAMBF9cJ0QgAAgKtHw3RCAADA3D7EdEIAAIBCkcR0QgAAQKjjxHRCAAAADjbFdEIAAMBziMV0QgAAAKV/xnRCAADACtLGdEIAAIBwJMd0QgAAQNZ2x3RCAAAA0xLJdEIAAMA4Zcl0QgAAgJ63yXRCAABABArKdEIAAIA1Act0QgAAQJtTy3RCAAAAAabLdEIAAMBm+Mt0QgAAgMxKzHRCAADA/UHNdEIAAIBjlM10QgAAQMnmzXRCAAAALznOdEIAAMCUi850QgAAAMaCz3RCAADAK9XPdEIAAICRJ9B0QgAAQPd50HRC\",\"dtype\":\"float64\",\"shape\":[75]},\"profit\":{\"__ndarray__\":\"AAAAAAAAAACAp4kGbHVxv4Bgkl4xq36/APiANC+WQL+AUCMtDIxwvwDZ9vXman6/gJSl89Q9fb/AYBFvRrODvwA0mbA/FIS/QKkWWHYbhr9AyPZ7I6SLv0C/YUVkP4W/QEvDqQi6h7+ACUqiNwOEv0DK4dTm2Yi/gCZKLhUQjL9gkelo0DSQv8BsNO/pnpO/wDuK2M6ojL/ggueBPV6Rv4ARXUjCN3G/ANzN8cJLW7+AhyW0QTh6vwB8XjOBC2O/gI5aXpSof7+ALwSl3l9/v4Cy2OR9znq/AEOvWMTPd78AwIr94+M9vwCUitBCv2i/AE7eIeBygD8ASDaIkFtxPwBXidPz2HA/AGE6mxoUez8ALlOLaWFiPwCWRyf2r2C/AFAaDokjRL8A6260SECBvwCwgE6Pu3m/gMC185DBhr9AR/UxAq+CvwBpUttC3XC/gAXo3vsCdr8AwAYx6XUUvwBk83pTI2C/ALSRLaYSfD8AdCePecFRP4AAfVM1DIA/AHxBjE2Dez8AesT410dnPwACSVj4ZFa/AAHPXUx1dr+AhTaRC/pzvwAwYjKU2zs/AEONdXikY78ANNJO0zJVvwCc+EI8HkC/ABgn8TPbXL8AyAVW90lTPwBgZfsGvF4/AO7cczy6dD8AcKWjPcZ7PwA8gi9k8Xo/gCem31qcgj+A0HtplHKBPwA6h7PFc2A/ACj0jl/sVz8AXBJDq+JpPwAWykG15Wc/AJExj4Gccj8AztQtghdzPwDwh1HveDE/AOCAofEXMr8AJsfkhsJ7v8AOSN/FgIS/\",\"dtype\":\"float64\",\"shape\":[75]}},\"selected\":{\"id\":\"1049\",\"type\":\"Selection\"},\"selection_policy\":{\"id\":\"1050\",\"type\":\"UnionRenderers\"}},\"id\":\"1024\",\"type\":\"ColumnDataSource\"},{\"attributes\":{\"dimension\":1,\"plot\":{\"id\":\"1003\",\"subtype\":\"Figure\",\"type\":\"Plot\"},\"ticker\":{\"id\":\"1019\",\"type\":\"BasicTicker\"}},\"id\":\"1022\",\"type\":\"Grid\"},{\"attributes\":{\"base\":24,\"mantissas\":[1,2,4,6,8,12],\"max_interval\":43200000.0,\"min_interval\":3600000.0,\"num_minor_ticks\":0},\"id\":\"1039\",\"type\":\"AdaptiveTicker\"},{\"attributes\":{},\"id\":\"1048\",\"type\":\"YearsTicker\"},{\"attributes\":{},\"id\":\"1011\",\"type\":\"LinearScale\"},{\"attributes\":{},\"id\":\"1035\",\"type\":\"DatetimeTickFormatter\"},{\"attributes\":{\"months\":[0,2,4,6,8,10]},\"id\":\"1045\",\"type\":\"MonthsTicker\"},{\"attributes\":{\"plot\":{\"id\":\"1003\",\"subtype\":\"Figure\",\"type\":\"Plot\"},\"ticker\":{\"id\":\"1014\",\"type\":\"DatetimeTicker\"}},\"id\":\"1017\",\"type\":\"Grid\"},{\"attributes\":{\"mantissas\":[1,2,5],\"max_interval\":500.0,\"num_minor_ticks\":0},\"id\":\"1037\",\"type\":\"AdaptiveTicker\"}],\"root_ids\":[\"1003\"]},\"title\":\"Bokeh Application\",\"version\":\"1.0.2\"}};\n",
       "  var render_items = [{\"docid\":\"9f63f5ba-5e1f-4c77-987e-d945ed8da69b\",\"roots\":{\"1003\":\"efbc759b-8d17-423d-b6e2-bacc8d7114c8\"}}];\n",
       "  root.Bokeh.embed.embed_items_notebook(docs_json, render_items);\n",
       "\n",
       "  }\n",
       "  if (root.Bokeh !== undefined) {\n",
       "    embed_document(root);\n",
       "  } else {\n",
       "    var attempts = 0;\n",
       "    var timer = setInterval(function(root) {\n",
       "      if (root.Bokeh !== undefined) {\n",
       "        embed_document(root);\n",
       "        clearInterval(timer);\n",
       "      }\n",
       "      attempts++;\n",
       "      if (attempts > 100) {\n",
       "        console.log(\"Bokeh: ERROR: Unable to run BokehJS code because BokehJS library is missing\");\n",
       "        clearInterval(timer);\n",
       "      }\n",
       "    }, 10, root)\n",
       "  }\n",
       "})(window);"
      ],
      "application/vnd.bokehjs_exec.v0+json": ""
     },
     "metadata": {
      "application/vnd.bokehjs_exec.v0+json": {
       "id": "1003"
      }
     },
     "output_type": "display_data"
    }
   ],
   "source": [
    "p = figure(x_axis_type=\"datetime\", plot_width=900,\n",
    "           plot_height=300, title=\"Profit\", toolbar_location=None, tools=\"\")\n",
    "p.line(x='date', y='profit', line_width=3, source=profit)\n",
    "p.add_tools(HoverTool(tooltips=[(\"date\", \"@date{%F}\"), (\"profit\", \"@profit%\")],\n",
    "                      formatters={'date': 'datetime', }, mode='vline'))\n",
    "show(p)"
   ]
  },
  {
   "cell_type": "code",
   "execution_count": 85,
   "metadata": {},
   "outputs": [
    {
     "data": {
      "text/plain": [
       "fund_id\n",
       "ISZK8 景順全歐洲AUSDh$    0.0\n",
       "T0595A 元大人民幣貨幣市      0.0\n",
       "T2289Y 復華全球戰略配置      0.0\n",
       "0050 元大台灣50          0.0\n",
       "Name: GSF83 天達歐高收債C2AH, dtype: float64"
      ]
     },
     "execution_count": 85,
     "metadata": {},
     "output_type": "execute_result"
    }
   ],
   "source": [
    "(hold * data_df.iloc[-1][choose])"
   ]
  },
  {
   "cell_type": "raw",
   "metadata": {},
   "source": [
    "st1 = time.time()\n",
    "print ('總花費時間為：' + str(st1-st))"
   ]
  },
  {
   "cell_type": "raw",
   "metadata": {},
   "source": [
    "st1 = time.time()\n",
    "print ('總花費時間為：' + str(st1-st))"
   ]
  },
  {
   "cell_type": "raw",
   "metadata": {
    "scrolled": true
   },
   "source": [
    "pd.read_sql(sql='select distinct(subject_matter) from overseas_information',\n",
    "               con=engine)"
   ]
  },
  {
   "cell_type": "raw",
   "metadata": {
    "scrolled": true
   },
   "source": [
    "pd.read_sql(sql='select distinct(investment_target) from domestic_information',con=engine)"
   ]
  },
  {
   "cell_type": "raw",
   "metadata": {},
   "source": [
    "pd.read_sql(sql='select * from basic_information where fund_id == \"T0101Y 兆豐國際寶鑽貨幣\"',con=engine)"
   ]
  },
  {
   "cell_type": "raw",
   "metadata": {
    "scrolled": true
   },
   "source": [
    "st = time.time()\n",
    "pd.read_sql(sql='select price.fund_id,price.date,price.nav \\\n",
    "            from price,overseas_information \\\n",
    "            where overseas_information.subject_matter == \"對沖型基金\" \\\n",
    "            and price.fund_id == overseas_information.fund_id \\\n",
    "            group by price.fund_id limit 10',\n",
    "               con=engine)\n",
    "st1 = time.time()\n",
    "print ('總花費時間為：' + str(st1-st))"
   ]
  },
  {
   "cell_type": "raw",
   "metadata": {},
   "source": [
    "a = \"境外 科技股\".split(\" \")\n",
    "st = time.time()\n",
    "if a[0] == \"不分類\":\n",
    "    b = pd.read_sql(sql='select * from price where date between ? and ? order by date asc',\n",
    "               con=engine, params=[start_unix, end_unix])\n",
    "elif a[0] == \"境內\":\n",
    "    b = pd.read_sql(sql='SELECT * FROM price WHERE EXISTS\\\n",
    "            (SELECT fund_id FROM domestic_information\\\n",
    "            WHERE investment_target == ? and price.date between ? and ?\\\n",
    "            and fund_id == price.fund_id)', con=engine, params=[a[1], start_unix, end_unix])\n",
    "else:\n",
    "    b = pd.read_sql(sql='SELECT * FROM price WHERE EXISTS\\\n",
    "                (SELECT fund_id FROM overseas_information\\\n",
    "                WHERE subject_matter == ? and price.date between ? and ?\\\n",
    "                and fund_id == price.fund_id)', con=engine, params=[a[1], start_unix, end_unix])\n",
    "st1 = time.time()\n",
    "print ('總花費時間為：' + str(st1-st))\n",
    "b"
   ]
  },
  {
   "cell_type": "raw",
   "metadata": {},
   "source": [
    "import multiprocessing as mp\n",
    "import os \n",
    "from time import sleep \n",
    "\n",
    "def worker(msg,i):\n",
    "    msg = pd.DataFrame([i*i,i*2], columns=['q']) \n",
    "    return msg\n",
    "\n",
    "#創建進程池對象\n",
    "p = mp.Pool(processes = 4) #創建4條進程\n",
    "\n",
    "pool_result = []\n",
    "for i in range(10):\n",
    "    msg = \"hello\" + str(i)\n",
    "    r = p.apply_async(worker,(msg,i)) #向進程池中添加事件\n",
    "    pool_result.append(r)\n",
    "\n",
    "#獲取事件函數的返回值\n",
    "for r in pool_result:\n",
    "    print(r.get())\n",
    "\n",
    "p.close()#關閉進程池,不再接受請求\n",
    "p.join()# 等待進程池中的事件執行完畢，回收進程池"
   ]
  },
  {
   "cell_type": "code",
   "execution_count": 70,
   "metadata": {
    "scrolled": true
   },
   "outputs": [
    {
     "data": {
      "text/html": [
       "<div>\n",
       "<style scoped>\n",
       "    .dataframe tbody tr th:only-of-type {\n",
       "        vertical-align: middle;\n",
       "    }\n",
       "\n",
       "    .dataframe tbody tr th {\n",
       "        vertical-align: top;\n",
       "    }\n",
       "\n",
       "    .dataframe thead th {\n",
       "        text-align: right;\n",
       "    }\n",
       "</style>\n",
       "<table border=\"1\" class=\"dataframe\">\n",
       "  <thead>\n",
       "    <tr style=\"text-align: right;\">\n",
       "      <th></th>\n",
       "      <th>0</th>\n",
       "      <th>1</th>\n",
       "      <th>2</th>\n",
       "      <th>0</th>\n",
       "      <th>1</th>\n",
       "    </tr>\n",
       "  </thead>\n",
       "  <tbody>\n",
       "    <tr>\n",
       "      <th>0</th>\n",
       "      <td>1</td>\n",
       "      <td>2</td>\n",
       "      <td>3</td>\n",
       "      <td>1</td>\n",
       "      <td>2</td>\n",
       "    </tr>\n",
       "  </tbody>\n",
       "</table>\n",
       "</div>"
      ],
      "text/plain": [
       "   0  1  2  0  1\n",
       "0  1  2  3  1  2"
      ]
     },
     "execution_count": 70,
     "metadata": {},
     "output_type": "execute_result"
    }
   ],
   "source": [
    "a = pd.DataFrame([[1,2,3]])\n",
    "b = pd.DataFrame([[1,2],[1,2]])\n",
    "pd.concat([a, b], axis=1, join=\"inner\")"
   ]
  },
  {
   "cell_type": "code",
   "execution_count": 71,
   "metadata": {},
   "outputs": [
    {
     "data": {
      "text/html": [
       "<div>\n",
       "<style scoped>\n",
       "    .dataframe tbody tr th:only-of-type {\n",
       "        vertical-align: middle;\n",
       "    }\n",
       "\n",
       "    .dataframe tbody tr th {\n",
       "        vertical-align: top;\n",
       "    }\n",
       "\n",
       "    .dataframe thead th {\n",
       "        text-align: right;\n",
       "    }\n",
       "</style>\n",
       "<table border=\"1\" class=\"dataframe\">\n",
       "  <thead>\n",
       "    <tr style=\"text-align: right;\">\n",
       "      <th></th>\n",
       "      <th>0</th>\n",
       "      <th>1</th>\n",
       "    </tr>\n",
       "  </thead>\n",
       "  <tbody>\n",
       "    <tr>\n",
       "      <th>0</th>\n",
       "      <td>1</td>\n",
       "      <td>2</td>\n",
       "    </tr>\n",
       "    <tr>\n",
       "      <th>1</th>\n",
       "      <td>1</td>\n",
       "      <td>2</td>\n",
       "    </tr>\n",
       "  </tbody>\n",
       "</table>\n",
       "</div>"
      ],
      "text/plain": [
       "   0  1\n",
       "0  1  2\n",
       "1  1  2"
      ]
     },
     "execution_count": 71,
     "metadata": {},
     "output_type": "execute_result"
    }
   ],
   "source": [
    "pd.DataFrame([[1,2],[1,2]])"
   ]
  },
  {
   "cell_type": "code",
   "execution_count": 87,
   "metadata": {},
   "outputs": [],
   "source": [
    "buy_ratio = np.asarray([float(1 + i) for i in range(4)], dtype=np.float)"
   ]
  },
  {
   "cell_type": "code",
   "execution_count": 88,
   "metadata": {},
   "outputs": [
    {
     "data": {
      "text/plain": [
       "array([1., 2., 3., 4.])"
      ]
     },
     "execution_count": 88,
     "metadata": {},
     "output_type": "execute_result"
    }
   ],
   "source": [
    "buy_ratio"
   ]
  },
  {
   "cell_type": "code",
   "execution_count": 17,
   "metadata": {},
   "outputs": [],
   "source": [
    "from collections import OrderedDict, defaultdict"
   ]
  },
  {
   "cell_type": "code",
   "execution_count": 3,
   "metadata": {},
   "outputs": [],
   "source": [
    "df = pd.read_sql(sql='select * from basic_information limit 10', con=engine)"
   ]
  },
  {
   "cell_type": "code",
   "execution_count": 30,
   "metadata": {
    "scrolled": true
   },
   "outputs": [
    {
     "data": {
      "text/plain": [
       "[defaultdict(list,\n",
       "             {'fund_id': '0050 元大台灣50',\n",
       "              'chinese_name': '元大台灣卓越50證券投資信託基金',\n",
       "              'english_name': 'Yuanta/P-shares Taiwan Top 50 ETF',\n",
       "              'isin_code': 'TW0000050004',\n",
       "              'entry_day': '2003-06-25',\n",
       "              'manager_fee': 0.32,\n",
       "              'custody_fee': 0.035,\n",
       "              'sales_fee': 2.0,\n",
       "              'area': '境內'}),\n",
       " defaultdict(list,\n",
       "             {'fund_id': '0051 元大中型100',\n",
       "              'chinese_name': '元大台灣中型 100證券投資信託基金',\n",
       "              'english_name': 'Yuanta/P-shares Taiwan Mid-Cap 100 ETF',\n",
       "              'isin_code': 'TW0000051002',\n",
       "              'entry_day': '2006-08-24',\n",
       "              'manager_fee': 0.4,\n",
       "              'custody_fee': 0.035,\n",
       "              'sales_fee': 2.0,\n",
       "              'area': '境內'}),\n",
       " defaultdict(list,\n",
       "             {'fund_id': '0052 富邦科技',\n",
       "              'chinese_name': '富邦台灣科技指數證券投資信託基金',\n",
       "              'english_name': 'FUBON TAIWAN TECHNOLOGY TRACKER FUND',\n",
       "              'isin_code': 'TW0000052000',\n",
       "              'entry_day': '2006-08-28',\n",
       "              'manager_fee': 0.15,\n",
       "              'custody_fee': 0.035,\n",
       "              'sales_fee': 0.0,\n",
       "              'area': '境內'}),\n",
       " defaultdict(list,\n",
       "             {'fund_id': '0053 元大電子',\n",
       "              'chinese_name': '元大台灣 ETF傘型證券投資信託基金之電子科技證券投資信託基金',\n",
       "              'english_name': 'Yuanta/P-shares Taiwan Electronics Tech ETF',\n",
       "              'isin_code': 'TW0000053008',\n",
       "              'entry_day': '2007-07-04',\n",
       "              'manager_fee': 0.4,\n",
       "              'custody_fee': 0.035,\n",
       "              'sales_fee': 2.0,\n",
       "              'area': '境內'}),\n",
       " defaultdict(list,\n",
       "             {'fund_id': '0054 元大台商50',\n",
       "              'chinese_name': '元大台灣 ETF傘型證券投資信託基金之台商收成證券投資信託基金',\n",
       "              'english_name': 'Yuanta/P-shares S&P Custom China Play 50 ETF',\n",
       "              'isin_code': 'TW0000054006',\n",
       "              'entry_day': '2007-07-04',\n",
       "              'manager_fee': 0.4,\n",
       "              'custody_fee': 0.035,\n",
       "              'sales_fee': 2.0,\n",
       "              'area': '境內'}),\n",
       " defaultdict(list,\n",
       "             {'fund_id': '0055 元大MSCI金融',\n",
       "              'chinese_name': '元大台灣 ETF傘型證券投資信託基金之金融證券投資信託基金',\n",
       "              'english_name': 'Yuanta/P-shares MSCI Taiwan Financials ETF',\n",
       "              'isin_code': 'TW0000055003',\n",
       "              'entry_day': '2007-07-04',\n",
       "              'manager_fee': 0.4,\n",
       "              'custody_fee': 0.035,\n",
       "              'sales_fee': 2.0,\n",
       "              'area': '境內'}),\n",
       " defaultdict(list,\n",
       "             {'fund_id': '0056 元大高股息',\n",
       "              'chinese_name': '元大台灣高股息證券投資信託基金',\n",
       "              'english_name': 'Yuanta/P-shares Taiwan Dividend Plus ETF',\n",
       "              'isin_code': 'TW0000056001',\n",
       "              'entry_day': '2007-12-13',\n",
       "              'manager_fee': 0.4,\n",
       "              'custody_fee': 0.035,\n",
       "              'sales_fee': 2.0,\n",
       "              'area': '境內'}),\n",
       " defaultdict(list,\n",
       "             {'fund_id': '0057 富邦摩台',\n",
       "              'chinese_name': '富邦台灣 ETF傘型證券投資信託基金之富邦台灣摩根指數股票型基金',\n",
       "              'english_name': 'Fubon MSCI Taiwan ETF',\n",
       "              'isin_code': 'TW0000057009',\n",
       "              'entry_day': '2008-02-14',\n",
       "              'manager_fee': 0.15,\n",
       "              'custody_fee': 0.035,\n",
       "              'sales_fee': 0.6,\n",
       "              'area': '境內'}),\n",
       " defaultdict(list,\n",
       "             {'fund_id': '0058 富邦發達',\n",
       "              'chinese_name': '富邦台灣 ETF傘型證券投資信託基金之富邦台灣發達指數股票型基金',\n",
       "              'english_name': 'Fubon Taiwan Eight Industries ETF',\n",
       "              'isin_code': 'TW0000058007',\n",
       "              'entry_day': '2008-02-14',\n",
       "              'manager_fee': 0.15,\n",
       "              'custody_fee': 0.035,\n",
       "              'sales_fee': 0.6,\n",
       "              'area': '境內'}),\n",
       " defaultdict(list,\n",
       "             {'fund_id': '0059 富邦金融',\n",
       "              'chinese_name': '富邦台灣 ETF傘型證券投資信託基金之富邦台灣金融指數股票型基金',\n",
       "              'english_name': 'Fubon Taiwan Finance ETF',\n",
       "              'isin_code': 'TW0000059005',\n",
       "              'entry_day': '2008-02-14',\n",
       "              'manager_fee': 0.15,\n",
       "              'custody_fee': 0.035,\n",
       "              'sales_fee': 0.6,\n",
       "              'area': '境內'})]"
      ]
     },
     "execution_count": 30,
     "metadata": {},
     "output_type": "execute_result"
    }
   ],
   "source": [
    "dd = defaultdict(list)\n",
    "df.to_dict('records', into=dd)"
   ]
  }
 ],
 "metadata": {
  "kernelspec": {
   "display_name": "Python 3",
   "language": "python",
   "name": "python3"
  },
  "language_info": {
   "codemirror_mode": {
    "name": "ipython",
    "version": 3
   },
   "file_extension": ".py",
   "mimetype": "text/x-python",
   "name": "python",
   "nbconvert_exporter": "python",
   "pygments_lexer": "ipython3",
   "version": "3.7.1"
  }
 },
 "nbformat": 4,
 "nbformat_minor": 2
}
