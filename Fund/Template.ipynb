{
 "cells": [
  {
   "cell_type": "code",
   "execution_count": 1,
   "metadata": {},
   "outputs": [],
   "source": [
    "import Profit_Test_Class as pt\n",
    "import pandas as pd\n",
    "import numpy as np\n",
    "import scipy.cluster.hierarchy as shc\n",
    "import matplotlib.pyplot as plt\n",
    "import statistics as stat\n",
    "\n",
    "from matplotlib.font_manager import FontProperties\n",
    "from sklearn.cluster import KMeans\n",
    "from sklearn.manifold import MDS\n",
    "from sklearn.cluster import AgglomerativeClustering\n",
    "from sklearn import manifold\n",
    "from sqlalchemy import create_engine\n",
    "from sqlalchemy.ext.automap import automap_base\n",
    "from abc import ABCMeta, abstractmethod\n",
    "\n",
    "%matplotlib inline\n",
    "plt.rcParams['axes.unicode_minus']=False\n",
    "engine = create_engine('sqlite:///fund.db')"
   ]
  },
  {
   "cell_type": "markdown",
   "metadata": {},
   "source": [
    "# 樣板"
   ]
  },
  {
   "cell_type": "code",
   "execution_count": 2,
   "metadata": {},
   "outputs": [
    {
     "ename": "SyntaxError",
     "evalue": "invalid syntax (<ipython-input-2-8ca5f347c96b>, line 2)",
     "output_type": "error",
     "traceback": [
      "\u001b[0;36m  File \u001b[0;32m\"<ipython-input-2-8ca5f347c96b>\"\u001b[0;36m, line \u001b[0;32m2\u001b[0m\n\u001b[0;31m    class (pt.ProfitVisualize):\u001b[0m\n\u001b[0m          ^\u001b[0m\n\u001b[0;31mSyntaxError\u001b[0m\u001b[0;31m:\u001b[0m invalid syntax\n"
     ]
    }
   ],
   "source": [
    "\n",
    "class (pt.ProfitVisualize):\n",
    "    \n",
    "    '''\n",
    "    input:\n",
    "        NAV:一個月的淨值\n",
    "        names:與淨值對齊的名字\n",
    "    return:\n",
    "        features:找出的features\n",
    "        names:與features對齊的名字\n",
    "        距離與否：是距離的話填'precomputed'，不是的話填'euclidean'\n",
    "    '''       \n",
    "    def getFeatures(self, NAV, names):\n",
    "        \n",
    "        return features,names,'precomputed'\n",
    "    \n",
    "    '''\n",
    "    input:\n",
    "        year:回測年\n",
    "    return:\n",
    "        names:選出來進入分群階段的基金名字\n",
    "    '''    \n",
    "    def poolDecide(self,year):\n",
    "        \n",
    "        return names"
   ]
  },
  {
   "cell_type": "markdown",
   "metadata": {},
   "source": [
    "# 範例"
   ]
  },
  {
   "cell_type": "code",
   "execution_count": 3,
   "metadata": {},
   "outputs": [],
   "source": [
    "'''\n",
    "每日漲跌幅相關係數\n",
    "'''\n",
    "class UpDownRateSimilarity(pt.ProfitVisualize):\n",
    "        \n",
    "    def getFeatures(self, NAV, names):\n",
    "        length = len(NAV[0])-1\n",
    "        rate = np.zeros((len(names),length))\n",
    "        for j in range (len(names)):\n",
    "            for i in range (length):\n",
    "                rate[j][i] = (NAV[j][i+1] - NAV[j][i]) / NAV[j][i]\n",
    "        \n",
    "        temp = []\n",
    "        for i,j in enumerate(rate):                        \n",
    "            if np.cov(j) == 0:\n",
    "                temp.append(i)                \n",
    "        rate = np.delete(rate,temp,0)\n",
    "        names = np.delete(names,temp,0)\n",
    "        \n",
    "        similarity = np.zeros((len(rate),len(rate)))\n",
    "        for i in range(len(rate)):\n",
    "            for j in range(len(rate)):\n",
    "                corr = np.corrcoef(rate[i],rate[j])[0][-1]\n",
    "                if i == j:\n",
    "                    corr = 1\n",
    "                similarity[i][j] = 1-(corr*0.5+0.5)\n",
    "                \n",
    "        return similarity,names,'precomputed'\n",
    "    \n",
    "    def poolDecide(self,year):\n",
    "        names = pd.read_sql(sql='select distinct id from price where date between ? and ? order by date asc',\n",
    "                                 con=engine, params=[year+'-01-01',year+'-01-31'])\n",
    "        names = names['id'].sample(n=300).values\n",
    "        return names"
   ]
  },
  {
   "cell_type": "code",
   "execution_count": null,
   "metadata": {},
   "outputs": [],
   "source": [
    "profitVisualize = UpDownRateSimilarity(pt.K_Means)\n",
    "profitVisualize.getProfitPicture()"
   ]
  },
  {
   "cell_type": "code",
   "execution_count": null,
   "metadata": {},
   "outputs": [],
   "source": []
  }
 ],
 "metadata": {
  "kernelspec": {
   "display_name": "Python 3",
   "language": "python",
   "name": "python3"
  },
  "language_info": {
   "codemirror_mode": {
    "name": "ipython",
    "version": 3
   },
   "file_extension": ".py",
   "mimetype": "text/x-python",
   "name": "python",
   "nbconvert_exporter": "python",
   "pygments_lexer": "ipython3",
   "version": "3.7.0"
  }
 },
 "nbformat": 4,
 "nbformat_minor": 2
}
