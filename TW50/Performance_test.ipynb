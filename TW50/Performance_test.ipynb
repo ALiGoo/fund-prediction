{
 "cells": [
  {
   "cell_type": "code",
   "execution_count": 1,
   "metadata": {},
   "outputs": [],
   "source": [
    "import sqlite3\n",
    "import numpy as np\n",
    "import pandas as pd\n",
    "import matplotlib.pyplot as plt\n",
    "import seaborn as sns\n",
    "\n",
    "from matplotlib.font_manager import FontProperties\n",
    "from sklearn import manifold\n",
    "from sklearn.cluster import KMeans\n",
    "from sqlalchemy import create_engine\n",
    "from sqlalchemy.ext.automap import automap_base\n",
    "\n",
    "myfont = FontProperties(fname= '微软正黑体.ttf')\n",
    "%matplotlib inline"
   ]
  },
  {
   "cell_type": "code",
   "execution_count": 2,
   "metadata": {},
   "outputs": [],
   "source": [
    "engine = create_engine('sqlite:///tw50.db')"
   ]
  },
  {
   "cell_type": "code",
   "execution_count": 3,
   "metadata": {
    "scrolled": true
   },
   "outputs": [],
   "source": [
    "data0 = pd.read_sql('select price_adjustment from price where (id = \"2382 廣達\" or id = \"4904 遠傳\" or id = \"3045 台灣大\") and date = \"2006-01-06\" ORDER BY date ASC',engine)"
   ]
  },
  {
   "cell_type": "code",
   "execution_count": 4,
   "metadata": {
    "scrolled": true
   },
   "outputs": [],
   "source": [
    "data0 = data0.describe().T"
   ]
  },
  {
   "cell_type": "code",
   "execution_count": 5,
   "metadata": {},
   "outputs": [],
   "source": [
    "data1 = pd.read_sql('select price_adjustment from price where (id = \"2382 廣達\" or id = \"4904 遠傳\" or id = \"3045 台灣大\") and date = \"2006-12-29\" ORDER BY date ASC',engine)"
   ]
  },
  {
   "cell_type": "code",
   "execution_count": 6,
   "metadata": {},
   "outputs": [],
   "source": [
    "data1 = data1.describe().T"
   ]
  },
  {
   "cell_type": "code",
   "execution_count": 7,
   "metadata": {},
   "outputs": [],
   "source": [
    "data1 = (data1-data0)/data0"
   ]
  },
  {
   "cell_type": "code",
   "execution_count": 8,
   "metadata": {},
   "outputs": [],
   "source": [
    "data00 = pd.read_sql('select price_adjustment from price where id = \"0050 元大台灣50\" and date = \"2006-01-06\"',engine)"
   ]
  },
  {
   "cell_type": "code",
   "execution_count": 9,
   "metadata": {},
   "outputs": [
    {
     "data": {
      "text/html": [
       "<div>\n",
       "<style scoped>\n",
       "    .dataframe tbody tr th:only-of-type {\n",
       "        vertical-align: middle;\n",
       "    }\n",
       "\n",
       "    .dataframe tbody tr th {\n",
       "        vertical-align: top;\n",
       "    }\n",
       "\n",
       "    .dataframe thead th {\n",
       "        text-align: right;\n",
       "    }\n",
       "</style>\n",
       "<table border=\"1\" class=\"dataframe\">\n",
       "  <thead>\n",
       "    <tr style=\"text-align: right;\">\n",
       "      <th></th>\n",
       "      <th>price_adjustment</th>\n",
       "    </tr>\n",
       "  </thead>\n",
       "  <tbody>\n",
       "    <tr>\n",
       "      <th>0</th>\n",
       "      <td>33.24</td>\n",
       "    </tr>\n",
       "  </tbody>\n",
       "</table>\n",
       "</div>"
      ],
      "text/plain": [
       "   price_adjustment\n",
       "0             33.24"
      ]
     },
     "execution_count": 9,
     "metadata": {},
     "output_type": "execute_result"
    }
   ],
   "source": [
    "data00"
   ]
  },
  {
   "cell_type": "code",
   "execution_count": 10,
   "metadata": {},
   "outputs": [],
   "source": [
    "data01 = pd.read_sql('select price_adjustment from price where id = \"0050 元大台灣50\" and date = \"2006-12-29\"',engine)"
   ]
  },
  {
   "cell_type": "code",
   "execution_count": 11,
   "metadata": {},
   "outputs": [
    {
     "data": {
      "text/html": [
       "<div>\n",
       "<style scoped>\n",
       "    .dataframe tbody tr th:only-of-type {\n",
       "        vertical-align: middle;\n",
       "    }\n",
       "\n",
       "    .dataframe tbody tr th {\n",
       "        vertical-align: top;\n",
       "    }\n",
       "\n",
       "    .dataframe thead th {\n",
       "        text-align: right;\n",
       "    }\n",
       "</style>\n",
       "<table border=\"1\" class=\"dataframe\">\n",
       "  <thead>\n",
       "    <tr style=\"text-align: right;\">\n",
       "      <th></th>\n",
       "      <th>price_adjustment</th>\n",
       "    </tr>\n",
       "  </thead>\n",
       "  <tbody>\n",
       "    <tr>\n",
       "      <th>0</th>\n",
       "      <td>39.45</td>\n",
       "    </tr>\n",
       "  </tbody>\n",
       "</table>\n",
       "</div>"
      ],
      "text/plain": [
       "   price_adjustment\n",
       "0             39.45"
      ]
     },
     "execution_count": 11,
     "metadata": {},
     "output_type": "execute_result"
    }
   ],
   "source": [
    "data01"
   ]
  },
  {
   "cell_type": "code",
   "execution_count": 12,
   "metadata": {},
   "outputs": [],
   "source": [
    "data1 = (data01-data00)/data00"
   ]
  },
  {
   "cell_type": "code",
   "execution_count": 13,
   "metadata": {},
   "outputs": [
    {
     "data": {
      "text/plain": [
       "0    0.186823\n",
       "Name: price_adjustment, dtype: float64"
      ]
     },
     "execution_count": 13,
     "metadata": {},
     "output_type": "execute_result"
    }
   ],
   "source": [
    "data1['price_adjustment']"
   ]
  },
  {
   "cell_type": "code",
   "execution_count": 14,
   "metadata": {},
   "outputs": [
    {
     "data": {
      "text/plain": [
       "array([0.00927622])"
      ]
     },
     "execution_count": 14,
     "metadata": {},
     "output_type": "execute_result"
    }
   ],
   "source": [
    "data1['price_adjustment'].values/data0['mean'].values"
   ]
  },
  {
   "cell_type": "code",
   "execution_count": 15,
   "metadata": {},
   "outputs": [],
   "source": [
    "target = [\"2382 廣達\",\"4904 遠傳\",\"3045 台灣大\"]"
   ]
  },
  {
   "cell_type": "code",
   "execution_count": 16,
   "metadata": {},
   "outputs": [],
   "source": [
    "year = '2006'\n",
    "remuneration0 = []\n",
    "remuneration1 = []\n",
    "\n",
    "for i in range(6):\n",
    "    temp = year+'-01-01'\n",
    "    data0 = pd.read_sql('select * from price where (id = \"2382 廣達\" or id = \"4904 遠傳\" or id = \"3045 台灣大\" or id = \"2408 南亞科\") and date > ? ORDER BY date ASC LIMIT 3',con=engine,index_col='id',params=[temp])\n",
    "    data00 = pd.read_sql('select * from price where id = \"0050 元大台灣50\" and date > ? ORDER BY date ASC LIMIT 1',con=engine,index_col='id',params=[temp])\n",
    "#     print(data00)\n",
    "    temp = year+'-12-31'\n",
    "    data1 = pd.read_sql('select * from price where (id = \"2382 廣達\" or id = \"4904 遠傳\" or id = \"3045 台灣大\" or id = \"2408 南亞科\") and date < ? ORDER BY date DESC LIMIT 3',con=engine,index_col='id',params=[temp])\n",
    "    data01 = pd.read_sql('select * from price where id = \"0050 元大台灣50\" and date < ? ORDER BY date DESC LIMIT 1',con=engine,index_col='id',params=[temp])\n",
    "#     print(data01)\n",
    "    temp = (data1['price_adjustment'] - data0['price_adjustment'])/data0['price_adjustment']\n",
    "    remuneration0.append(temp.describe()['mean']*100)\n",
    "    temp = (data01['price_adjustment'] - data00['price_adjustment'])/data00['price_adjustment']\n",
    "    remuneration1.append(temp.values[0]*100)\n",
    "    year = str(int(year)+1)"
   ]
  },
  {
   "cell_type": "code",
   "execution_count": 17,
   "metadata": {
    "scrolled": false
   },
   "outputs": [
    {
     "data": {
      "image/png": "[encoded data removed]",
      "text/plain": [
       "<Figure size 432x288 with 1 Axes>"
      ]
     },
     "metadata": {
      "needs_background": "light"
     },
     "output_type": "display_data"
    }
   ],
   "source": [
    "index = [2006,2007,2008,2009,2010,2011]\n",
    "index = np.asarray(index)\n",
    "plt.bar(index,remuneration0,.2,facecolor = 'yellowgreen', label='choose')\n",
    "plt.bar(index+0.25,remuneration1,.2,facecolor = 'lightskyblue', label='0050')\n",
    "for x,y in zip(index,remuneration0):\n",
    "    plt.text(x, y+0.08, '%.2f' % y, ha='center', va= 'bottom')\n",
    "for x,y in zip(index,remuneration1):\n",
    "    plt.text(x+0.4, y+0.05, '%.2f' % y, ha='center', va= 'bottom')\n",
    "plt.grid(True)\n",
    "plt.legend(loc=\"upper left\")\n",
    "plt.show()"
   ]
  },
  {
   "cell_type": "code",
   "execution_count": 18,
   "metadata": {},
   "outputs": [],
   "source": [
    "year = '2006'\n",
    "remuneration0 = []\n",
    "remuneration1 = []\n",
    "\n",
    "for i in range(6):\n",
    "    temp = year+'-01-01'\n",
    "    data0 = pd.read_sql('select * from price where (id = \"2382 廣達\" or id = \"3045 台灣大\" or id = \"2408 南亞科\") and date > ? ORDER BY date ASC LIMIT 3',con=engine,index_col='id',params=[temp])\n",
    "    data00 = pd.read_sql('select * from price where id = \"0050 元大台灣50\" and date > ? ORDER BY date ASC LIMIT 1',con=engine,index_col='id',params=[temp])\n",
    "#     print(data00)\n",
    "    temp = year+'-12-31'\n",
    "    data1 = pd.read_sql('select * from price where (id = \"2382 廣達\" or id = \"3045 台灣大\" or id = \"2408 南亞科\") and date < ? ORDER BY date DESC LIMIT 3',con=engine,index_col='id',params=[temp])\n",
    "    data01 = pd.read_sql('select * from price where id = \"0050 元大台灣50\" and date < ? ORDER BY date DESC LIMIT 1',con=engine,index_col='id',params=[temp])\n",
    "#     print(data01)\n",
    "    temp = (data1['price_adjustment'] - data0['price_adjustment'])/data0['price_adjustment']\n",
    "    remuneration0.append(temp.describe()['mean']*100)\n",
    "    temp = (data01['price_adjustment'] - data00['price_adjustment'])/data00['price_adjustment']\n",
    "    remuneration1.append(temp.values[0]*100)\n",
    "    year = str(int(year)+1)"
   ]
  },
  {
   "cell_type": "code",
   "execution_count": 19,
   "metadata": {},
   "outputs": [
    {
     "data": {
      "image/png": "[encoded data removed]",
      "text/plain": [
       "<Figure size 432x288 with 1 Axes>"
      ]
     },
     "metadata": {
      "needs_background": "light"
     },
     "output_type": "display_data"
    }
   ],
   "source": [
    "index = [2006,2007,2008,2009,2010,2011]\n",
    "index = np.asarray(index)\n",
    "plt.bar(index,remuneration0,.2,facecolor = 'yellowgreen', label='choose')\n",
    "plt.bar(index+0.25,remuneration1,.2,facecolor = 'lightskyblue', label='0050')\n",
    "for x,y in zip(index,remuneration0):\n",
    "    plt.text(x, y+0.08, '%.2f' % y, ha='center', va= 'bottom')\n",
    "for x,y in zip(index,remuneration1):\n",
    "    plt.text(x+0.4, y+0.05, '%.2f' % y, ha='center', va= 'bottom')\n",
    "plt.grid(True)\n",
    "plt.legend(loc=\"upper left\")\n",
    "plt.show()"
   ]
  },
  {
   "cell_type": "code",
   "execution_count": 20,
   "metadata": {},
   "outputs": [],
   "source": [
    "year = '2006'\n",
    "remuneration0 = []\n",
    "remuneration1 = []\n",
    "\n",
    "for i in range(6):\n",
    "    temp = year+'-01-01'\n",
    "    data0 = pd.read_sql('select * from price where (id = \"2382 廣達\" or id = \"4904 遠傳\" or id = \"2408 南亞科\") and date > ? ORDER BY date ASC LIMIT 3',con=engine,index_col='id',params=[temp])\n",
    "    data00 = pd.read_sql('select * from price where id = \"0050 元大台灣50\" and date > ? ORDER BY date ASC LIMIT 1',con=engine,index_col='id',params=[temp])\n",
    "#     print(data00)\n",
    "    temp = year+'-12-31'\n",
    "    data1 = pd.read_sql('select * from price where (id = \"2382 廣達\" or id = \"4904 遠傳\" or id = \"2408 南亞科\") and date < ? ORDER BY date DESC LIMIT 3',con=engine,index_col='id',params=[temp])\n",
    "    data01 = pd.read_sql('select * from price where id = \"0050 元大台灣50\" and date < ? ORDER BY date DESC LIMIT 1',con=engine,index_col='id',params=[temp])\n",
    "#     print(data01)\n",
    "    temp = (data1['price_adjustment'] - data0['price_adjustment'])/data0['price_adjustment']\n",
    "    remuneration0.append(temp.describe()['mean']*100)\n",
    "    temp = (data01['price_adjustment'] - data00['price_adjustment'])/data00['price_adjustment']\n",
    "    remuneration1.append(temp.values[0]*100)\n",
    "    year = str(int(year)+1)"
   ]
  },
  {
   "cell_type": "code",
   "execution_count": 21,
   "metadata": {},
   "outputs": [
    {
     "data": {
      "image/png": "[encoded data removed]",
      "text/plain": [
       "<Figure size 432x288 with 1 Axes>"
      ]
     },
     "metadata": {
      "needs_background": "light"
     },
     "output_type": "display_data"
    }
   ],
   "source": [
    "index = [2006,2007,2008,2009,2010,2011]\n",
    "index = np.asarray(index)\n",
    "plt.bar(index,remuneration0,.2,facecolor = 'yellowgreen', label='choose')\n",
    "plt.bar(index+0.25,remuneration1,.2,facecolor = 'lightskyblue', label='0050')\n",
    "for x,y in zip(index,remuneration0):\n",
    "    plt.text(x, y+0.08, '%.2f' % y, ha='center', va= 'bottom')\n",
    "for x,y in zip(index,remuneration1):\n",
    "    plt.text(x+0.4, y+0.05, '%.2f' % y, ha='center', va= 'bottom')\n",
    "plt.grid(True)\n",
    "plt.legend(loc=\"upper left\")\n",
    "plt.show()"
   ]
  },
  {
   "cell_type": "code",
   "execution_count": 22,
   "metadata": {},
   "outputs": [],
   "source": [
    "year = '2006'\n",
    "remuneration0 = []\n",
    "remuneration1 = []\n",
    "\n",
    "for i in range(6):\n",
    "    temp = year+'-01-01'\n",
    "    data0 = pd.read_sql('select * from price where (id = \"2382 廣達\" or id = \"4904 遠傳\" or id = \"3045 台灣大\") and date > ? ORDER BY date ASC LIMIT 3',con=engine,index_col='id',params=[temp])\n",
    "    data00 = pd.read_sql('select * from price where id = \"0050 元大台灣50\" and date > ? ORDER BY date ASC LIMIT 1',con=engine,index_col='id',params=[temp])\n",
    "#     print(data00)\n",
    "    temp = year+'-12-31'\n",
    "    data1 = pd.read_sql('select * from price where (id = \"2382 廣達\" or id = \"4904 遠傳\" or id = \"3045 台灣大\") and date < ? ORDER BY date DESC LIMIT 3',con=engine,index_col='id',params=[temp])\n",
    "    data01 = pd.read_sql('select * from price where id = \"0050 元大台灣50\" and date < ? ORDER BY date DESC LIMIT 1',con=engine,index_col='id',params=[temp])\n",
    "#     print(data01)\n",
    "    temp = (data1['price_adjustment'] - data0['price_adjustment'])/data0['price_adjustment']\n",
    "    remuneration0.append(temp.describe()['mean']*100)\n",
    "    temp = (data01['price_adjustment'] - data00['price_adjustment'])/data00['price_adjustment']\n",
    "    remuneration1.append(temp.values[0]*100)\n",
    "    year = str(int(year)+1)"
   ]
  },
  {
   "cell_type": "code",
   "execution_count": 23,
   "metadata": {},
   "outputs": [
    {
     "data": {
      "image/png": "[encoded data removed]",
      "text/plain": [
       "<Figure size 432x288 with 1 Axes>"
      ]
     },
     "metadata": {
      "needs_background": "light"
     },
     "output_type": "display_data"
    }
   ],
   "source": [
    "index = [2006,2007,2008,2009,2010,2011]\n",
    "index = np.asarray(index)\n",
    "plt.bar(index,remuneration0,.2,facecolor = 'yellowgreen', label='choose')\n",
    "plt.bar(index+0.25,remuneration1,.2,facecolor = 'lightskyblue', label='0050')\n",
    "for x,y in zip(index,remuneration0):\n",
    "    plt.text(x, y+0.08, '%.2f' % y, ha='center', va= 'bottom')\n",
    "for x,y in zip(index,remuneration1):\n",
    "    plt.text(x+0.4, y+0.05, '%.2f' % y, ha='center', va= 'bottom')\n",
    "plt.grid(True)\n",
    "plt.legend(loc=\"upper left\")\n",
    "plt.show()"
   ]
  }
 ],
 "metadata": {
  "kernelspec": {
   "display_name": "Python 3",
   "language": "python",
   "name": "python3"
  },
  "language_info": {
   "codemirror_mode": {
    "name": "ipython",
    "version": 3
   },
   "file_extension": ".py",
   "mimetype": "text/x-python",
   "name": "python",
   "nbconvert_exporter": "python",
   "pygments_lexer": "ipython3",
   "version": "3.7.0"
  }
 },
 "nbformat": 4,
 "nbformat_minor": 2
}
