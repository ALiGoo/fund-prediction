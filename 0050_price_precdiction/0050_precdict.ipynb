{
 "cells": [
  {
   "cell_type": "markdown",
   "metadata": {},
   "source": [
    "# Part 1 - Data Preprocessing"
   ]
  },
  {
   "cell_type": "markdown",
   "metadata": {},
   "source": [
    "## Importing the libraries"
   ]
  },
  {
   "cell_type": "code",
   "execution_count": 1,
   "metadata": {
    "ExecuteTime": {
     "end_time": "2019-04-14T01:04:53.545413Z",
     "start_time": "2019-04-14T01:04:53.222857Z"
    }
   },
   "outputs": [],
   "source": [
    "import numpy as np\n",
    "import matplotlib.pyplot as plt\n",
    "import pandas as pd"
   ]
  },
  {
   "cell_type": "markdown",
   "metadata": {},
   "source": [
    "## Importing the training set"
   ]
  },
  {
   "cell_type": "code",
   "execution_count": 2,
   "metadata": {
    "ExecuteTime": {
     "end_time": "2019-04-14T01:04:53.554581Z",
     "start_time": "2019-04-14T01:04:53.546856Z"
    }
   },
   "outputs": [],
   "source": [
    "dataset_train = pd.read_csv('0050_train.csv')\n",
    "training_set = dataset_train.iloc[:, 0:1].values"
   ]
  },
  {
   "cell_type": "markdown",
   "metadata": {},
   "source": [
    "## Feature Scaling"
   ]
  },
  {
   "cell_type": "code",
   "execution_count": 3,
   "metadata": {
    "ExecuteTime": {
     "end_time": "2019-04-14T01:04:53.913768Z",
     "start_time": "2019-04-14T01:04:53.556466Z"
    }
   },
   "outputs": [],
   "source": [
    "from sklearn.preprocessing import MinMaxScaler\n",
    "sc = MinMaxScaler(feature_range = (0, 1))\n",
    "training_set_scaled = sc.fit_transform(training_set)"
   ]
  },
  {
   "cell_type": "markdown",
   "metadata": {},
   "source": [
    "## Creating a data structure with 60 timesteps and 1 output"
   ]
  },
  {
   "cell_type": "code",
   "execution_count": 4,
   "metadata": {
    "ExecuteTime": {
     "end_time": "2019-04-14T01:04:53.921417Z",
     "start_time": "2019-04-14T01:04:53.915558Z"
    }
   },
   "outputs": [],
   "source": [
    "X_train = []\n",
    "y_train = []\n",
    "for i in range(60, len(training_set_scaled)):\n",
    "    X_train.append(training_set_scaled[i-60:i, 0])\n",
    "    y_train.append(training_set_scaled[i, 0])\n",
    "X_train, y_train = np.array(X_train), np.array(y_train)"
   ]
  },
  {
   "cell_type": "markdown",
   "metadata": {},
   "source": [
    "## Reshaping"
   ]
  },
  {
   "cell_type": "code",
   "execution_count": 5,
   "metadata": {
    "ExecuteTime": {
     "end_time": "2019-04-14T01:04:53.925065Z",
     "start_time": "2019-04-14T01:04:53.922783Z"
    }
   },
   "outputs": [],
   "source": [
    "X_train = np.reshape(X_train, (X_train.shape[0], X_train.shape[1], 1))"
   ]
  },
  {
   "cell_type": "markdown",
   "metadata": {},
   "source": [
    "# Part 2 - Building the RNN"
   ]
  },
  {
   "cell_type": "markdown",
   "metadata": {},
   "source": [
    "## Importing the Keras libraries and packages"
   ]
  },
  {
   "cell_type": "code",
   "execution_count": 6,
   "metadata": {
    "ExecuteTime": {
     "end_time": "2019-04-14T01:04:54.639132Z",
     "start_time": "2019-04-14T01:04:53.926146Z"
    }
   },
   "outputs": [
    {
     "name": "stderr",
     "output_type": "stream",
     "text": [
      "Using TensorFlow backend.\n"
     ]
    }
   ],
   "source": [
    "from keras.models import Sequential\n",
    "from keras.layers import Dense\n",
    "from keras.layers import LSTM\n",
    "from keras.layers import Dropout"
   ]
  },
  {
   "cell_type": "markdown",
   "metadata": {},
   "source": [
    "## Initialising the RNN"
   ]
  },
  {
   "cell_type": "code",
   "execution_count": 7,
   "metadata": {
    "ExecuteTime": {
     "end_time": "2019-04-14T01:04:54.651584Z",
     "start_time": "2019-04-14T01:04:54.640480Z"
    }
   },
   "outputs": [],
   "source": [
    "regressor = Sequential()"
   ]
  },
  {
   "cell_type": "markdown",
   "metadata": {},
   "source": [
    "## Adding  LSTM layer and some Dropout regularisation"
   ]
  },
  {
   "cell_type": "markdown",
   "metadata": {},
   "source": [
    "### Adding the first LSTM layer and some Dropout regularisation"
   ]
  },
  {
   "cell_type": "code",
   "execution_count": 8,
   "metadata": {
    "ExecuteTime": {
     "end_time": "2019-04-14T01:04:54.835497Z",
     "start_time": "2019-04-14T01:04:54.653216Z"
    }
   },
   "outputs": [
    {
     "name": "stdout",
     "output_type": "stream",
     "text": [
      "WARNING:tensorflow:From /home/xiangli/anaconda3/lib/python3.7/site-packages/tensorflow/python/framework/op_def_library.py:263: colocate_with (from tensorflow.python.framework.ops) is deprecated and will be removed in a future version.\n",
      "Instructions for updating:\n",
      "Colocations handled automatically by placer.\n",
      "WARNING:tensorflow:From /home/xiangli/anaconda3/lib/python3.7/site-packages/keras/backend/tensorflow_backend.py:3445: calling dropout (from tensorflow.python.ops.nn_ops) with keep_prob is deprecated and will be removed in a future version.\n",
      "Instructions for updating:\n",
      "Please use `rate` instead of `keep_prob`. Rate should be set to `rate = 1 - keep_prob`.\n"
     ]
    }
   ],
   "source": [
    "regressor.add(LSTM(units = 50, return_sequences = True, input_shape = (X_train.shape[1], 1)))\n",
    "regressor.add(Dropout(0.2))"
   ]
  },
  {
   "cell_type": "markdown",
   "metadata": {},
   "source": [
    "### Adding a second LSTM layer and some Dropout regularisation"
   ]
  },
  {
   "cell_type": "code",
   "execution_count": 9,
   "metadata": {
    "ExecuteTime": {
     "end_time": "2019-04-14T01:04:54.983049Z",
     "start_time": "2019-04-14T01:04:54.837328Z"
    }
   },
   "outputs": [],
   "source": [
    "regressor.add(LSTM(units = 50, return_sequences = True))\n",
    "regressor.add(Dropout(0.2))"
   ]
  },
  {
   "cell_type": "markdown",
   "metadata": {},
   "source": [
    "### Adding a third LSTM layer and some Dropout regularisation"
   ]
  },
  {
   "cell_type": "code",
   "execution_count": 10,
   "metadata": {
    "ExecuteTime": {
     "end_time": "2019-04-14T01:04:55.124841Z",
     "start_time": "2019-04-14T01:04:54.984204Z"
    }
   },
   "outputs": [],
   "source": [
    "regressor.add(LSTM(units = 50, return_sequences = True))\n",
    "regressor.add(Dropout(0.2))"
   ]
  },
  {
   "cell_type": "markdown",
   "metadata": {},
   "source": [
    "### Adding a fourth LSTM layer and some Dropout regularisation"
   ]
  },
  {
   "cell_type": "code",
   "execution_count": 11,
   "metadata": {
    "ExecuteTime": {
     "end_time": "2019-04-14T01:04:55.268718Z",
     "start_time": "2019-04-14T01:04:55.126016Z"
    }
   },
   "outputs": [],
   "source": [
    "regressor.add(LSTM(units = 50))\n",
    "regressor.add(Dropout(0.2))"
   ]
  },
  {
   "cell_type": "markdown",
   "metadata": {},
   "source": [
    "### # Adding the output layer"
   ]
  },
  {
   "cell_type": "code",
   "execution_count": 12,
   "metadata": {
    "ExecuteTime": {
     "end_time": "2019-04-14T01:04:55.345317Z",
     "start_time": "2019-04-14T01:04:55.270059Z"
    }
   },
   "outputs": [],
   "source": [
    "regressor.add(Dense(units = 1))"
   ]
  },
  {
   "cell_type": "markdown",
   "metadata": {},
   "source": [
    "## Compiling the RNN"
   ]
  },
  {
   "cell_type": "code",
   "execution_count": 13,
   "metadata": {
    "ExecuteTime": {
     "end_time": "2019-04-14T01:04:55.372485Z",
     "start_time": "2019-04-14T01:04:55.347192Z"
    }
   },
   "outputs": [],
   "source": [
    "regressor.compile(optimizer = 'adam', loss = 'mean_squared_error')"
   ]
  },
  {
   "cell_type": "markdown",
   "metadata": {},
   "source": [
    "## Fitting the RNN to the Training set"
   ]
  },
  {
   "cell_type": "code",
   "execution_count": 14,
   "metadata": {
    "ExecuteTime": {
     "end_time": "2019-04-14T01:22:42.872459Z",
     "start_time": "2019-04-14T01:05:00.625272Z"
    },
    "scrolled": true
   },
   "outputs": [
    {
     "name": "stdout",
     "output_type": "stream",
     "text": [
      "WARNING:tensorflow:From /home/xiangli/anaconda3/lib/python3.7/site-packages/tensorflow/python/ops/math_ops.py:3066: to_int32 (from tensorflow.python.ops.math_ops) is deprecated and will be removed in a future version.\n",
      "Instructions for updating:\n",
      "Use tf.cast instead.\n",
      "Epoch 1/100\n",
      "1440/1440 [==============================] - 14s 9ms/step - loss: 0.0358\n",
      "Epoch 2/100\n",
      "1440/1440 [==============================] - 11s 8ms/step - loss: 0.0050\n",
      "Epoch 3/100\n",
      "1440/1440 [==============================] - 10s 7ms/step - loss: 0.0043\n",
      "Epoch 4/100\n",
      "1440/1440 [==============================] - 10s 7ms/step - loss: 0.0042\n",
      "Epoch 5/100\n",
      "1440/1440 [==============================] - 10s 7ms/step - loss: 0.0041\n",
      "Epoch 6/100\n",
      "1440/1440 [==============================] - 10s 7ms/step - loss: 0.0037\n",
      "Epoch 7/100\n",
      "1440/1440 [==============================] - 10s 7ms/step - loss: 0.0045\n",
      "Epoch 8/100\n",
      "1440/1440 [==============================] - 10s 7ms/step - loss: 0.0042\n",
      "Epoch 9/100\n",
      "1440/1440 [==============================] - 10s 7ms/step - loss: 0.0037\n",
      "Epoch 10/100\n",
      "1440/1440 [==============================] - 10s 7ms/step - loss: 0.0029\n",
      "Epoch 11/100\n",
      "1440/1440 [==============================] - 11s 8ms/step - loss: 0.0035\n",
      "Epoch 12/100\n",
      "1440/1440 [==============================] - 10s 7ms/step - loss: 0.0032\n",
      "Epoch 13/100\n",
      "1440/1440 [==============================] - 10s 7ms/step - loss: 0.0031\n",
      "Epoch 14/100\n",
      "1440/1440 [==============================] - 10s 7ms/step - loss: 0.0028\n",
      "Epoch 15/100\n",
      "1440/1440 [==============================] - 10s 7ms/step - loss: 0.0029\n",
      "Epoch 16/100\n",
      "1440/1440 [==============================] - 10s 7ms/step - loss: 0.0029\n",
      "Epoch 17/100\n",
      "1440/1440 [==============================] - 10s 7ms/step - loss: 0.0029\n",
      "Epoch 18/100\n",
      "1440/1440 [==============================] - 10s 7ms/step - loss: 0.0027\n",
      "Epoch 19/100\n",
      "1440/1440 [==============================] - 10s 7ms/step - loss: 0.0032\n",
      "Epoch 20/100\n",
      "1440/1440 [==============================] - 10s 7ms/step - loss: 0.0025\n",
      "Epoch 21/100\n",
      "1440/1440 [==============================] - 11s 7ms/step - loss: 0.0024\n",
      "Epoch 22/100\n",
      "1440/1440 [==============================] - 10s 7ms/step - loss: 0.0026\n",
      "Epoch 23/100\n",
      "1440/1440 [==============================] - 10s 7ms/step - loss: 0.0023\n",
      "Epoch 24/100\n",
      "1440/1440 [==============================] - 10s 7ms/step - loss: 0.0024\n",
      "Epoch 25/100\n",
      "1440/1440 [==============================] - 10s 7ms/step - loss: 0.0023\n",
      "Epoch 26/100\n",
      "1440/1440 [==============================] - 10s 7ms/step - loss: 0.0024\n",
      "Epoch 27/100\n",
      "1440/1440 [==============================] - 10s 7ms/step - loss: 0.0021\n",
      "Epoch 28/100\n",
      "1440/1440 [==============================] - 11s 8ms/step - loss: 0.0023\n",
      "Epoch 29/100\n",
      "1440/1440 [==============================] - 12s 8ms/step - loss: 0.0020\n",
      "Epoch 30/100\n",
      "1440/1440 [==============================] - 11s 8ms/step - loss: 0.0023\n",
      "Epoch 31/100\n",
      "1440/1440 [==============================] - 10s 7ms/step - loss: 0.0022\n",
      "Epoch 32/100\n",
      "1440/1440 [==============================] - 10s 7ms/step - loss: 0.0021\n",
      "Epoch 33/100\n",
      "1440/1440 [==============================] - 10s 7ms/step - loss: 0.0020\n",
      "Epoch 34/100\n",
      "1440/1440 [==============================] - 10s 7ms/step - loss: 0.0020\n",
      "Epoch 35/100\n",
      "1440/1440 [==============================] - 10s 7ms/step - loss: 0.0021\n",
      "Epoch 36/100\n",
      "1440/1440 [==============================] - 11s 8ms/step - loss: 0.0018\n",
      "Epoch 37/100\n",
      "1440/1440 [==============================] - 12s 8ms/step - loss: 0.0019\n",
      "Epoch 38/100\n",
      "1440/1440 [==============================] - 12s 8ms/step - loss: 0.0019\n",
      "Epoch 39/100\n",
      "1440/1440 [==============================] - 10s 7ms/step - loss: 0.0020\n",
      "Epoch 40/100\n",
      "1440/1440 [==============================] - 10s 7ms/step - loss: 0.0020\n",
      "Epoch 41/100\n",
      "1440/1440 [==============================] - 10s 7ms/step - loss: 0.0019\n",
      "Epoch 42/100\n",
      "1440/1440 [==============================] - 9s 6ms/step - loss: 0.0018\n",
      "Epoch 43/100\n",
      "1440/1440 [==============================] - 9s 6ms/step - loss: 0.0019\n",
      "Epoch 44/100\n",
      "1440/1440 [==============================] - 10s 7ms/step - loss: 0.0018\n",
      "Epoch 45/100\n",
      "1440/1440 [==============================] - 10s 7ms/step - loss: 0.0017\n",
      "Epoch 46/100\n",
      "1440/1440 [==============================] - 11s 8ms/step - loss: 0.0018\n",
      "Epoch 47/100\n",
      "1440/1440 [==============================] - 9s 7ms/step - loss: 0.0016\n",
      "Epoch 48/100\n",
      "1440/1440 [==============================] - 9s 6ms/step - loss: 0.0017\n",
      "Epoch 49/100\n",
      "1440/1440 [==============================] - 10s 7ms/step - loss: 0.0016\n",
      "Epoch 50/100\n",
      "1440/1440 [==============================] - 9s 6ms/step - loss: 0.0017\n",
      "Epoch 51/100\n",
      "1440/1440 [==============================] - 11s 8ms/step - loss: 0.0018\n",
      "Epoch 52/100\n",
      "1440/1440 [==============================] - 11s 8ms/step - loss: 0.0017\n",
      "Epoch 53/100\n",
      "1440/1440 [==============================] - 11s 8ms/step - loss: 0.0016\n",
      "Epoch 54/100\n",
      "1440/1440 [==============================] - 10s 7ms/step - loss: 0.0015\n",
      "Epoch 55/100\n",
      "1440/1440 [==============================] - 13s 9ms/step - loss: 0.0014\n",
      "Epoch 56/100\n",
      "1440/1440 [==============================] - 9s 6ms/step - loss: 0.0016\n",
      "Epoch 57/100\n",
      "1440/1440 [==============================] - 9s 6ms/step - loss: 0.0015\n",
      "Epoch 58/100\n",
      "1440/1440 [==============================] - 9s 6ms/step - loss: 0.0014\n",
      "Epoch 59/100\n",
      "1440/1440 [==============================] - 9s 6ms/step - loss: 0.0015\n",
      "Epoch 60/100\n",
      "1440/1440 [==============================] - 13s 9ms/step - loss: 0.0014\n",
      "Epoch 61/100\n",
      "1440/1440 [==============================] - 12s 8ms/step - loss: 0.0016\n",
      "Epoch 62/100\n",
      "1440/1440 [==============================] - 12s 8ms/step - loss: 0.0014\n",
      "Epoch 63/100\n",
      "1440/1440 [==============================] - 12s 8ms/step - loss: 0.0015\n",
      "Epoch 64/100\n",
      "1440/1440 [==============================] - 11s 8ms/step - loss: 0.0015\n",
      "Epoch 65/100\n",
      "1440/1440 [==============================] - 12s 8ms/step - loss: 0.0015\n",
      "Epoch 66/100\n",
      "1440/1440 [==============================] - 12s 8ms/step - loss: 0.0014\n",
      "Epoch 67/100\n",
      "1440/1440 [==============================] - 10s 7ms/step - loss: 0.0013\n",
      "Epoch 68/100\n",
      "1440/1440 [==============================] - 10s 7ms/step - loss: 0.0012\n",
      "Epoch 69/100\n",
      "1440/1440 [==============================] - 10s 7ms/step - loss: 0.0013\n",
      "Epoch 70/100\n",
      "1440/1440 [==============================] - 10s 7ms/step - loss: 0.0012\n",
      "Epoch 71/100\n",
      "1440/1440 [==============================] - 10s 7ms/step - loss: 0.0013\n",
      "Epoch 72/100\n",
      "1440/1440 [==============================] - 10s 7ms/step - loss: 0.0012\n",
      "Epoch 73/100\n",
      "1440/1440 [==============================] - 10s 7ms/step - loss: 0.0013\n",
      "Epoch 74/100\n",
      "1440/1440 [==============================] - 11s 7ms/step - loss: 0.0012\n",
      "Epoch 75/100\n",
      "1440/1440 [==============================] - 10s 7ms/step - loss: 0.0013\n",
      "Epoch 76/100\n",
      "1440/1440 [==============================] - 10s 7ms/step - loss: 0.0011\n",
      "Epoch 77/100\n",
      "1440/1440 [==============================] - 10s 7ms/step - loss: 0.0013\n",
      "Epoch 78/100\n",
      "1440/1440 [==============================] - 10s 7ms/step - loss: 0.0011\n",
      "Epoch 79/100\n",
      "1440/1440 [==============================] - 11s 7ms/step - loss: 0.0012\n",
      "Epoch 80/100\n",
      "1440/1440 [==============================] - 11s 7ms/step - loss: 0.0012\n",
      "Epoch 81/100\n",
      "1440/1440 [==============================] - 10s 7ms/step - loss: 0.0010\n",
      "Epoch 82/100\n",
      "1440/1440 [==============================] - 12s 8ms/step - loss: 0.0012\n",
      "Epoch 83/100\n",
      "1440/1440 [==============================] - 12s 9ms/step - loss: 0.0011\n",
      "Epoch 84/100\n",
      "1440/1440 [==============================] - 11s 7ms/step - loss: 0.0013\n",
      "Epoch 85/100\n",
      "1440/1440 [==============================] - 11s 7ms/step - loss: 0.0011\n",
      "Epoch 86/100\n",
      "1440/1440 [==============================] - 11s 7ms/step - loss: 0.0010\n",
      "Epoch 87/100\n",
      "1440/1440 [==============================] - 11s 7ms/step - loss: 0.0010\n",
      "Epoch 88/100\n",
      "1440/1440 [==============================] - 13s 9ms/step - loss: 0.0010\n",
      "Epoch 89/100\n",
      "1440/1440 [==============================] - 11s 8ms/step - loss: 0.0010\n",
      "Epoch 90/100\n",
      "1440/1440 [==============================] - 11s 7ms/step - loss: 0.0010\n",
      "Epoch 91/100\n",
      "1440/1440 [==============================] - 10s 7ms/step - loss: 9.5738e-04\n",
      "Epoch 92/100\n",
      "1440/1440 [==============================] - 11s 7ms/step - loss: 9.9349e-04\n",
      "Epoch 93/100\n",
      "1440/1440 [==============================] - 12s 8ms/step - loss: 9.6664e-04\n",
      "Epoch 94/100\n",
      "1440/1440 [==============================] - 11s 8ms/step - loss: 0.0010\n",
      "Epoch 95/100\n",
      "1440/1440 [==============================] - 13s 9ms/step - loss: 9.4641e-04\n",
      "Epoch 96/100\n",
      "1440/1440 [==============================] - 13s 9ms/step - loss: 9.7330e-04\n",
      "Epoch 97/100\n",
      "1440/1440 [==============================] - 13s 9ms/step - loss: 9.8414e-04\n",
      "Epoch 98/100\n",
      "1440/1440 [==============================] - 13s 9ms/step - loss: 0.0011\n",
      "Epoch 99/100\n",
      "1440/1440 [==============================] - 13s 9ms/step - loss: 0.0011\n",
      "Epoch 100/100\n",
      "1440/1440 [==============================] - 13s 9ms/step - loss: 9.0727e-04\n"
     ]
    },
    {
     "data": {
      "text/plain": [
       "<keras.callbacks.History at 0x7fecfde2c048>"
      ]
     },
     "execution_count": 14,
     "metadata": {},
     "output_type": "execute_result"
    }
   ],
   "source": [
    "regressor.fit(X_train, y_train, epochs = 100, batch_size = 32)"
   ]
  },
  {
   "cell_type": "markdown",
   "metadata": {},
   "source": [
    "# Part 3 - Making the predictions and visualising the results"
   ]
  },
  {
   "cell_type": "markdown",
   "metadata": {},
   "source": [
    "## Importing the libraries"
   ]
  },
  {
   "cell_type": "code",
   "execution_count": 15,
   "metadata": {
    "ExecuteTime": {
     "end_time": "2019-04-14T01:23:18.483711Z",
     "start_time": "2019-04-14T01:23:18.480156Z"
    }
   },
   "outputs": [],
   "source": [
    "import matplotlib.pyplot as plt\n",
    "plt.rcParams['font.sans-serif'] = ['Microsoft JhengHei'] \n",
    "plt.rcParams['axes.unicode_minus'] = False"
   ]
  },
  {
   "cell_type": "markdown",
   "metadata": {},
   "source": [
    "## Getting the real stock price of 0050"
   ]
  },
  {
   "cell_type": "code",
   "execution_count": 16,
   "metadata": {
    "ExecuteTime": {
     "end_time": "2019-04-14T01:23:18.498070Z",
     "start_time": "2019-04-14T01:23:18.492124Z"
    }
   },
   "outputs": [],
   "source": [
    "dataset_test = pd.read_csv('0050_test.csv')\n",
    "real_stock_price = dataset_test.iloc[:, 0:1].values"
   ]
  },
  {
   "cell_type": "markdown",
   "metadata": {},
   "source": [
    "## Getting the predicted stock price of 0050"
   ]
  },
  {
   "cell_type": "code",
   "execution_count": 17,
   "metadata": {
    "ExecuteTime": {
     "end_time": "2019-04-14T01:23:19.441932Z",
     "start_time": "2019-04-14T01:23:18.500161Z"
    }
   },
   "outputs": [],
   "source": [
    "dataset_total = pd.concat((dataset_train['nav'], dataset_test['nav']), axis = 0)\n",
    "inputs = dataset_total[len(dataset_total) - len(dataset_test) - 60:].values\n",
    "inputs = inputs.reshape(-1,1)\n",
    "inputs = sc.transform(inputs)\n",
    "X_test = []\n",
    "for i in range(60, 160):\n",
    "    X_test.append(inputs[i-60:i, 0])\n",
    "X_test = np.array(X_test)\n",
    "X_test = np.reshape(X_test, (X_test.shape[0], X_test.shape[1], 1))\n",
    "predicted_stock_price = regressor.predict(X_test)\n",
    "predicted_stock_price = sc.inverse_transform(predicted_stock_price)"
   ]
  },
  {
   "cell_type": "markdown",
   "metadata": {},
   "source": [
    "## Visualising the results"
   ]
  },
  {
   "cell_type": "code",
   "execution_count": 20,
   "metadata": {
    "ExecuteTime": {
     "end_time": "2019-04-14T01:24:24.437179Z",
     "start_time": "2019-04-14T01:24:24.231923Z"
    }
   },
   "outputs": [
    {
     "data": {
      "image/png": "[encoded data removed]",
      "text/plain": [
       "<Figure size 1080x720 with 1 Axes>"
      ]
     },
     "metadata": {
      "needs_background": "light"
     },
     "output_type": "display_data"
    }
   ],
   "source": [
    "plt.figure(figsize=(15,10))\n",
    "# plt.plot(pd.DataFrame(real_stock_price).pct_change().iloc[1:].values, color = 'red', label = 'Real 0050 Stock Price')\n",
    "# plt.plot(pd.DataFrame(predicted_stock_price).pct_change().iloc[1:].values, color = 'blue', label = 'Predicted 0050 Stock Price')\n",
    "plt.plot(real_stock_price, color = 'red', label = 'Real 0050 Stock Price')\n",
    "plt.plot(predicted_stock_price, color = 'blue', label = 'Predicted 0050 Stock Price')\n",
    "plt.title('0050 Stock Price Prediction', fontsize=20)\n",
    "plt.xlabel('Time', fontsize=20)\n",
    "plt.ylabel('0050 Stock Price', fontsize=20)\n",
    "plt.legend(fontsize=20)\n",
    "plt.show()"
   ]
  }
 ],
 "metadata": {
  "kernelspec": {
   "display_name": "Python 3",
   "language": "python",
   "name": "python3"
  },
  "language_info": {
   "codemirror_mode": {
    "name": "ipython",
    "version": 3
   },
   "file_extension": ".py",
   "mimetype": "text/x-python",
   "name": "python",
   "nbconvert_exporter": "python",
   "pygments_lexer": "ipython3",
   "version": "3.7.3"
  },
  "toc": {
   "base_numbering": 1,
   "nav_menu": {},
   "number_sections": true,
   "sideBar": true,
   "skip_h1_title": false,
   "title_cell": "Table of Contents",
   "title_sidebar": "Contents",
   "toc_cell": false,
   "toc_position": {
    "height": "calc(100% - 180px)",
    "left": "10px",
    "top": "150px",
    "width": "187.333px"
   },
   "toc_section_display": true,
   "toc_window_display": true
  },
  "varInspector": {
   "cols": {
    "lenName": 16,
    "lenType": 16,
    "lenVar": 40
   },
   "kernels_config": {
    "python": {
     "delete_cmd_postfix": "",
     "delete_cmd_prefix": "del ",
     "library": "var_list.py",
     "varRefreshCmd": "print(var_dic_list())"
    },
    "r": {
     "delete_cmd_postfix": ") ",
     "delete_cmd_prefix": "rm(",
     "library": "var_list.r",
     "varRefreshCmd": "cat(var_dic_list()) "
    }
   },
   "types_to_exclude": [
    "module",
    "function",
    "builtin_function_or_method",
    "instance",
    "_Feature"
   ],
   "window_display": false
  }
 },
 "nbformat": 4,
 "nbformat_minor": 2
}
