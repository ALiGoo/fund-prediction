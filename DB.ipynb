{
 "cells": [
  {
   "cell_type": "raw",
   "metadata": {},
   "source": [
    "import sqlite3\n",
    "import csv\n",
    "from os import listdir\n",
    "import traceback"
   ]
  },
  {
   "cell_type": "raw",
   "metadata": {},
   "source": [
    "def create_connection(db_file):\n",
    "    try:\n",
    "        conn = sqlite3.connect(db_file)\n",
    "        return conn\n",
    "    except BaseException:\n",
    "        traceback.print_exc()\n",
    "        \n",
    "    return None"
   ]
  },
  {
   "cell_type": "raw",
   "metadata": {},
   "source": [
    "def create_table(c, sql):\n",
    "        try:\n",
    "            c.execute(sql)\n",
    "        except BaseException:\n",
    "            traceback.print_exc()"
   ]
  },
  {
   "cell_type": "raw",
   "metadata": {},
   "source": [
    "def insert_table(c, sql, data):\n",
    "        try:\n",
    "            c.execute(sql, data)\n",
    "        except BaseException:\n",
    "            traceback.print_exc()"
   ]
  },
  {
   "cell_type": "raw",
   "metadata": {},
   "source": [
    "def insert_date(date):\n",
    "        temp = date.split('/')\n",
    "        insert_date = temp[0]\n",
    "        if len(temp[1]) < 2:\n",
    "            insert_date += '-0' + temp[1]\n",
    "        else:\n",
    "            insert_date += '-' + temp[1]\n",
    "        if len(temp[2]) < 2:\n",
    "            insert_date += '-0' + temp[2]\n",
    "        else:\n",
    "            insert_date += '-' + temp[2]\n",
    "        return insert_date"
   ]
  },
  {
   "cell_type": "raw",
   "metadata": {},
   "source": [
    "def check_space(row):\n",
    "    for i in range(8):\n",
    "        if row[i] == '':\n",
    "            return False\n",
    "    return True"
   ]
  },
  {
   "cell_type": "raw",
   "metadata": {},
   "source": [
    "def csv_to_db(file):\n",
    "    with open(file, newline='') as csvfile:\n",
    "        rows = csv.reader(csvfile)\n",
    "        for i,row in enumerate(rows):\n",
    "            if i != 0 and row[2] != '':\n",
    "                sql = \"INSERT INTO price VALUES (?,?,?)\"\n",
    "                row[2] = row[2].split(',')\n",
    "                row[2] = ''.join(row[2])\n",
    "                data = [row[0],insert_date(row[1]), row[2]]\n",
    "                insert_table(c, sql,data)\n",
    "\n",
    "            if i != 0 and row[-1] != '':\n",
    "                sql = \"INSERT INTO interest VALUES (?,?,?)\"\n",
    "                data = [row[0],insert_date(row[1]), row[-1]]\n",
    "                insert_table(c, sql,data)"
   ]
  },
  {
   "cell_type": "raw",
   "metadata": {},
   "source": [
    "conn = create_connection(\"fund.db\")\n",
    "c = conn.cursor()"
   ]
  },
  {
   "cell_type": "raw",
   "metadata": {},
   "source": [
    "c.execute('''PRAGMA foreign_keys = ON;''')"
   ]
  },
  {
   "cell_type": "raw",
   "metadata": {},
   "source": [
    "c.execute('''CREATE TABLE basic_information(\n",
    "id TEXT NOT NULL,\n",
    "full_name TEXT NOT NULL,\n",
    "ISIN_code TEXT NOT NULL,\n",
    "entry_day TEXT NOT NULL,\n",
    "type TEXT NOT NULL,\n",
    "manager_fee REAL NOT NULL,\n",
    "custody_fee REAL NOT NULL,\n",
    "sales_fee REAL NOT NULL,\n",
    "area TEXT NOT NULL,\n",
    "PRIMARY KEY(id)\n",
    ");''')"
   ]
  },
  {
   "cell_type": "raw",
   "metadata": {},
   "source": [
    "c.execute('''CREATE TABLE price(\n",
    "id TEXT NOT NULL,\n",
    "date TEXT NOT NULL,\n",
    "NAV REAL NOT NULL,\n",
    "PRIMARY KEY(id,date)\n",
    "FOREIGN KEY(id) REFERENCES basic_information(id)\n",
    ");''')"
   ]
  },
  {
   "cell_type": "raw",
   "metadata": {},
   "source": [
    "c.execute('''CREATE TABLE interest(\n",
    "id TEXT NOT NULL,\n",
    "date TEXT NOT NULL,\n",
    "interest REAL NOT NULL,\n",
    "PRIMARY KEY(id,date)\n",
    "FOREIGN KEY(id) REFERENCES basic_information(id)\n",
    ");''')"
   ]
  },
  {
   "cell_type": "raw",
   "metadata": {},
   "source": [
    "with open('境內基本資料 utf8.csv', newline='') as csvfile:\n",
    "    \n",
    "    rows = csv.reader(csvfile)\n",
    "    for i,row in enumerate(rows):\n",
    "        if i == 0 or row[-1] !='' or check_space(row) == False:\n",
    "            continue\n",
    "        sql = \"INSERT INTO basic_information VALUES(?,?,?,?,?,?,?,?,?)\"\n",
    "        data = row[0:8]\n",
    "        data.append('境內')\n",
    "        insert_table(c, sql, data)"
   ]
  },
  {
   "cell_type": "raw",
   "metadata": {},
   "source": [
    "with open('境外基本資料 utf8.csv', newline='') as csvfile:\n",
    "    \n",
    "    rows = csv.reader(csvfile)\n",
    "    for i,row in enumerate(rows):\n",
    "        if i == 0 or row[-1] !='' or check_space(row) == False:\n",
    "            continue\n",
    "        sql = \"INSERT INTO basic_information VALUES(?,?,?,?,?,?,?,?,?)\"\n",
    "        data = row[0:8]\n",
    "        data.append('境外')\n",
    "        insert_table(c, sql, data)"
   ]
  },
  {
   "cell_type": "raw",
   "metadata": {},
   "source": [
    "my_path = '/home/xiangli/文件/programming/DB/境內 utf8'\n",
    "files = listdir(my_path)"
   ]
  },
  {
   "cell_type": "raw",
   "metadata": {},
   "source": [
    "for i,file in enumerate(files):\n",
    "    files[i] = my_path + '/' + file"
   ]
  },
  {
   "cell_type": "raw",
   "metadata": {},
   "source": [
    "for file in files:\n",
    "    csv_to_db(file)\n",
    "conn.commit()"
   ]
  },
  {
   "cell_type": "raw",
   "metadata": {},
   "source": [
    "my_path = '/home/xiangli/文件/programming/DB/境外 utf8'\n",
    "files = listdir(my_path)"
   ]
  },
  {
   "cell_type": "raw",
   "metadata": {},
   "source": [
    "for i,file in enumerate(files):\n",
    "    files[i] = my_path + '/' + file"
   ]
  },
  {
   "cell_type": "raw",
   "metadata": {},
   "source": [
    "for file in files:\n",
    "    csv_to_db(file)\n",
    "conn.commit()"
   ]
  },
  {
   "cell_type": "raw",
   "metadata": {},
   "source": [
    "conn.commit()\n",
    "conn.close()"
   ]
  }
 ],
 "metadata": {
  "kernelspec": {
   "display_name": "Python 3",
   "language": "python",
   "name": "python3"
  },
  "language_info": {
   "codemirror_mode": {
    "name": "ipython",
    "version": 3
   },
   "file_extension": ".py",
   "mimetype": "text/x-python",
   "name": "python",
   "nbconvert_exporter": "python",
   "pygments_lexer": "ipython3",
   "version": "3.7.0"
  }
 },
 "nbformat": 4,
 "nbformat_minor": 2
}
