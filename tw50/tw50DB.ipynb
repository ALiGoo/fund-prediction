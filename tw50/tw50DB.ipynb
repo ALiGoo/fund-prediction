{
 "cells": [
  {
   "cell_type": "code",
   "execution_count": 1,
   "metadata": {},
   "outputs": [],
   "source": [
    "import sqlite3\n",
    "import csv\n",
    "from os import listdir\n",
    "import traceback"
   ]
  },
  {
   "cell_type": "code",
   "execution_count": 2,
   "metadata": {},
   "outputs": [],
   "source": [
    "def create_connection(db_file):\n",
    "    try:\n",
    "        conn = sqlite3.connect(db_file)\n",
    "        return conn\n",
    "    except BaseException:\n",
    "        traceback.print_exc()\n",
    "        \n",
    "    return None"
   ]
  },
  {
   "cell_type": "code",
   "execution_count": 3,
   "metadata": {},
   "outputs": [],
   "source": [
    "def create_table(c, sql):\n",
    "        try:\n",
    "            c.execute(sql)\n",
    "        except BaseException:\n",
    "            traceback.print_exc()"
   ]
  },
  {
   "cell_type": "code",
   "execution_count": 4,
   "metadata": {},
   "outputs": [],
   "source": [
    "def insert_table(c, sql, data):\n",
    "        try:\n",
    "            c.execute(sql, data)\n",
    "        except BaseException:\n",
    "            traceback.print_exc()"
   ]
  },
  {
   "cell_type": "code",
   "execution_count": 5,
   "metadata": {},
   "outputs": [],
   "source": [
    "def insert_date(date):\n",
    "        temp = date.split('/')\n",
    "        insert_date = temp[0]\n",
    "        if len(temp[1]) < 2:\n",
    "            insert_date += '-0' + temp[1]\n",
    "        else:\n",
    "            insert_date += '-' + temp[1]\n",
    "        if len(temp[2]) < 2:\n",
    "            insert_date += '-0' + temp[2]\n",
    "        else:\n",
    "            insert_date += '-' + temp[2]\n",
    "        return insert_date"
   ]
  },
  {
   "cell_type": "code",
   "execution_count": 6,
   "metadata": {},
   "outputs": [],
   "source": [
    "def check_space(row):\n",
    "    for i in range(len(row)):\n",
    "        if row[i] == '':\n",
    "            row[i] = None\n",
    "    return row"
   ]
  },
  {
   "cell_type": "code",
   "execution_count": 7,
   "metadata": {},
   "outputs": [],
   "source": [
    "def csv_to_db(file):\n",
    "    with open(file, newline='') as csvfile:\n",
    "        rows = csv.reader(csvfile)\n",
    "        for i,row in enumerate(rows):\n",
    "            if i == 0:\n",
    "                continue\n",
    "            row[2] = row[2].split(',')\n",
    "            row[2] = ''.join(row[2])\n",
    "            row[3] = row[3].split(',')\n",
    "            row[3] = ''.join(row[3])\n",
    "            \n",
    "            sql = \"INSERT INTO price VALUES (?,?,?,?)\"\n",
    "            data = [row[0],insert_date(row[1]), row[2],row[3]]\n",
    "            insert_table(c, sql,data)"
   ]
  },
  {
   "cell_type": "code",
   "execution_count": 8,
   "metadata": {},
   "outputs": [],
   "source": [
    "conn = create_connection(\"tw50.db\")\n",
    "c = conn.cursor()"
   ]
  },
  {
   "cell_type": "code",
   "execution_count": 9,
   "metadata": {},
   "outputs": [
    {
     "data": {
      "text/plain": [
       "<sqlite3.Cursor at 0x7fe36c27b960>"
      ]
     },
     "execution_count": 9,
     "metadata": {},
     "output_type": "execute_result"
    }
   ],
   "source": [
    "c.execute('''PRAGMA foreign_keys = ON;''')"
   ]
  },
  {
   "cell_type": "code",
   "execution_count": 10,
   "metadata": {},
   "outputs": [
    {
     "data": {
      "text/plain": [
       "<sqlite3.Cursor at 0x7fe36c27b960>"
      ]
     },
     "execution_count": 10,
     "metadata": {},
     "output_type": "execute_result"
    }
   ],
   "source": [
    "c.execute('''CREATE TABLE price(\n",
    "id TEXT NOT NULL,\n",
    "date TEXT NOT NULL,\n",
    "price REAL NOT NULL,\n",
    "price_adjustment REAL NOT NULL,\n",
    "PRIMARY KEY(id,date)\n",
    ");''')"
   ]
  },
  {
   "cell_type": "code",
   "execution_count": 11,
   "metadata": {},
   "outputs": [],
   "source": [
    "my_path = '/home/xiangli/文件/programming/tw50/data'\n",
    "files = listdir(my_path)"
   ]
  },
  {
   "cell_type": "code",
   "execution_count": 12,
   "metadata": {},
   "outputs": [],
   "source": [
    "for i,file in enumerate(files):\n",
    "    files[i] = my_path + '/' + file"
   ]
  },
  {
   "cell_type": "code",
   "execution_count": 13,
   "metadata": {},
   "outputs": [],
   "source": [
    "for file in files:\n",
    "    csv_to_db(file)\n",
    "conn.commit()"
   ]
  },
  {
   "cell_type": "code",
   "execution_count": 14,
   "metadata": {},
   "outputs": [],
   "source": [
    "conn.commit()\n",
    "conn.close()"
   ]
  }
 ],
 "metadata": {
  "kernelspec": {
   "display_name": "Python 3",
   "language": "python",
   "name": "python3"
  },
  "language_info": {
   "codemirror_mode": {
    "name": "ipython",
    "version": 3
   },
   "file_extension": ".py",
   "mimetype": "text/x-python",
   "name": "python",
   "nbconvert_exporter": "python",
   "pygments_lexer": "ipython3",
   "version": "3.7.0"
  }
 },
 "nbformat": 4,
 "nbformat_minor": 2
}
