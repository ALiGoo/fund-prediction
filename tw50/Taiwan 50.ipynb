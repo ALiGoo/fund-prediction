{
 "cells": [
  {
   "cell_type": "code",
   "execution_count": 1,
   "metadata": {},
   "outputs": [],
   "source": [
    "import sqlite3\n",
    "import numpy as np\n",
    "import pandas as pd\n",
    "import matplotlib.pyplot as plt\n",
    "import seaborn as sns\n",
    "\n",
    "from matplotlib.font_manager import FontProperties\n",
    "from sklearn import manifold\n",
    "from sklearn.cluster import KMeans\n",
    "from sqlalchemy import create_engine\n",
    "from sqlalchemy.ext.automap import automap_base\n",
    "\n",
    "myfont = FontProperties(fname= '微软正黑体.ttf')\n",
    "%matplotlib inline"
   ]
  },
  {
   "cell_type": "code",
   "execution_count": 2,
   "metadata": {},
   "outputs": [],
   "source": [
    "conn = sqlite3.connect('tw50.db')"
   ]
  },
  {
   "cell_type": "code",
   "execution_count": 3,
   "metadata": {},
   "outputs": [],
   "source": [
    "c = conn.cursor()"
   ]
  },
  {
   "cell_type": "code",
   "execution_count": 4,
   "metadata": {},
   "outputs": [],
   "source": [
    "cursor = c.execute(\"SELECT price,date FROM price WHERE id = ? ORDER BY date ASC\",[\"0050 元大台灣50\"])\n",
    "rate0050 = []\n",
    "rate0050.append(0.0)\n",
    "x = []\n",
    "temp = []\n",
    "for row in cursor:\n",
    "    temp.append(row[0])\n",
    "    x.append(row[1])\n",
    "    \n",
    "for i in range(len(temp)):\n",
    "    if i == 0:\n",
    "        continue\n",
    "    rate0050.append((temp[i]-temp[i-1])/temp[i-1])"
   ]
  },
  {
   "cell_type": "code",
   "execution_count": 5,
   "metadata": {},
   "outputs": [
    {
     "name": "stdout",
     "output_type": "stream",
     "text": [
      "['2006', '01', '06']\n",
      "0106\n",
      "['2006', '01', '13']\n",
      "0113\n",
      "['2006', '01', '20']\n",
      "0120\n",
      "['2006', '01', '25']\n",
      "0125\n",
      "['2006', '02', '03']\n",
      "0203\n",
      "['2006', '02', '10']\n",
      "0210\n",
      "['2006', '02', '17']\n",
      "0217\n",
      "['2006', '02', '24']\n",
      "0224\n",
      "['2006', '03', '03']\n",
      "0303\n",
      "['2006', '03', '10']\n",
      "0310\n",
      "['2006', '03', '17']\n",
      "0317\n",
      "['2006', '03', '24']\n",
      "0324\n",
      "['2006', '03', '31']\n",
      "0331\n",
      "['2006', '04', '07']\n",
      "0407\n",
      "['2006', '04', '14']\n",
      "0414\n",
      "['2006', '04', '21']\n",
      "0421\n",
      "['2006', '04', '28']\n",
      "0428\n",
      "['2006', '05', '05']\n",
      "0505\n",
      "['2006', '05', '12']\n",
      "0512\n",
      "['2006', '05', '19']\n",
      "0519\n",
      "['2006', '05', '26']\n",
      "0526\n",
      "['2006', '06', '02']\n",
      "0602\n",
      "['2006', '06', '09']\n",
      "0609\n",
      "['2006', '06', '16']\n",
      "0616\n",
      "['2006', '06', '23']\n",
      "0623\n",
      "['2006', '06', '30']\n",
      "0630\n",
      "['2006', '07', '07']\n",
      "0707\n",
      "['2006', '07', '14']\n",
      "0714\n",
      "['2006', '07', '21']\n",
      "0721\n",
      "['2006', '07', '28']\n",
      "0728\n",
      "['2006', '08', '04']\n",
      "0804\n",
      "['2006', '08', '11']\n",
      "0811\n",
      "['2006', '08', '18']\n",
      "0818\n",
      "['2006', '08', '25']\n",
      "0825\n",
      "['2006', '09', '01']\n",
      "0901\n",
      "['2006', '09', '08']\n",
      "0908\n",
      "['2006', '09', '15']\n",
      "0915\n",
      "['2006', '09', '22']\n",
      "0922\n",
      "['2006', '09', '29']\n",
      "0929\n",
      "['2006', '10', '05']\n",
      "1005\n",
      "['2006', '10', '14']\n",
      "1014\n",
      "['2006', '10', '20']\n",
      "1020\n",
      "['2006', '10', '27']\n",
      "1027\n",
      "['2006', '11', '03']\n",
      "1103\n",
      "['2006', '11', '10']\n",
      "1110\n",
      "['2006', '11', '17']\n",
      "1117\n",
      "['2006', '11', '24']\n",
      "1124\n",
      "['2006', '12', '01']\n",
      "1201\n",
      "['2006', '12', '08']\n",
      "1208\n",
      "['2006', '12', '15']\n",
      "1215\n",
      "['2006', '12', '22']\n",
      "1222\n",
      "['2006', '12', '29']\n",
      "1229\n",
      "['2007', '01', '05']\n",
      "0105\n",
      "['2007', '01', '12']\n",
      "0112\n",
      "['2007', '01', '19']\n",
      "0119\n",
      "['2007', '01', '26']\n",
      "0126\n",
      "['2007', '02', '02']\n",
      "0202\n",
      "['2007', '02', '09']\n",
      "0209\n",
      "['2007', '02', '14']\n",
      "0214\n",
      "['2007', '03', '03']\n",
      "0303\n",
      "['2007', '03', '09']\n",
      "0309\n",
      "['2007', '03', '16']\n",
      "0316\n",
      "['2007', '03', '23']\n",
      "0323\n",
      "['2007', '03', '30']\n",
      "0330\n",
      "['2007', '04', '04']\n",
      "0404\n",
      "['2007', '04', '14']\n",
      "0414\n",
      "['2007', '04', '20']\n",
      "0420\n",
      "['2007', '04', '27']\n",
      "0427\n",
      "['2007', '05', '04']\n",
      "0504\n",
      "['2007', '05', '11']\n",
      "0511\n",
      "['2007', '05', '18']\n",
      "0518\n",
      "['2007', '05', '25']\n",
      "0525\n",
      "['2007', '06', '01']\n",
      "0601\n",
      "['2007', '06', '08']\n",
      "0608\n",
      "['2007', '06', '15']\n",
      "0615\n",
      "['2007', '06', '23']\n",
      "0623\n",
      "['2007', '06', '29']\n",
      "0629\n",
      "['2007', '07', '06']\n",
      "0706\n",
      "['2007', '07', '13']\n",
      "0713\n",
      "['2007', '07', '20']\n",
      "0720\n",
      "['2007', '07', '27']\n",
      "0727\n",
      "['2007', '08', '03']\n",
      "0803\n",
      "['2007', '08', '10']\n",
      "0810\n",
      "['2007', '08', '17']\n",
      "0817\n",
      "['2007', '08', '24']\n",
      "0824\n",
      "['2007', '08', '31']\n",
      "0831\n",
      "['2007', '09', '07']\n",
      "0907\n",
      "['2007', '09', '14']\n",
      "0914\n",
      "['2007', '09', '21']\n",
      "0921\n",
      "['2007', '09', '29']\n",
      "0929\n",
      "['2007', '10', '05']\n",
      "1005\n",
      "['2007', '10', '12']\n",
      "1012\n",
      "['2007', '10', '19']\n",
      "1019\n",
      "['2007', '10', '26']\n",
      "1026\n",
      "['2007', '11', '02']\n",
      "1102\n",
      "['2007', '11', '09']\n",
      "1109\n",
      "['2007', '11', '16']\n",
      "1116\n",
      "['2007', '11', '23']\n",
      "1123\n",
      "['2007', '11', '30']\n",
      "1130\n",
      "['2007', '12', '07']\n",
      "1207\n",
      "['2007', '12', '14']\n",
      "1214\n",
      "['2007', '12', '21']\n",
      "1221\n",
      "['2007', '12', '28']\n",
      "1228\n",
      "['2007', '12', '31']\n",
      "1231\n",
      "['2008', '01', '04']\n",
      "0104\n",
      "['2008', '01', '11']\n",
      "0111\n",
      "['2008', '01', '18']\n",
      "0118\n",
      "['2008', '01', '25']\n",
      "0125\n",
      "['2008', '02', '01']\n",
      "0201\n",
      "['2008', '02', '15']\n",
      "0215\n",
      "['2008', '02', '22']\n",
      "0222\n",
      "['2008', '02', '29']\n",
      "0229\n",
      "['2008', '03', '07']\n",
      "0307\n",
      "['2008', '03', '14']\n",
      "0314\n",
      "['2008', '03', '21']\n",
      "0321\n",
      "['2008', '03', '28']\n",
      "0328\n",
      "['2008', '04', '03']\n",
      "0403\n",
      "['2008', '04', '11']\n",
      "0411\n",
      "['2008', '04', '18']\n",
      "0418\n",
      "['2008', '04', '25']\n",
      "0425\n",
      "['2008', '05', '02']\n",
      "0502\n",
      "['2008', '05', '09']\n",
      "0509\n",
      "['2008', '05', '16']\n",
      "0516\n",
      "['2008', '05', '23']\n",
      "0523\n",
      "['2008', '05', '30']\n",
      "0530\n",
      "['2008', '06', '06']\n",
      "0606\n",
      "['2008', '06', '13']\n",
      "0613\n",
      "['2008', '06', '20']\n",
      "0620\n",
      "['2008', '06', '27']\n",
      "0627\n",
      "['2008', '07', '04']\n",
      "0704\n",
      "['2008', '07', '11']\n",
      "0711\n",
      "['2008', '07', '18']\n",
      "0718\n",
      "['2008', '07', '25']\n",
      "0725\n",
      "['2008', '08', '01']\n",
      "0801\n",
      "['2008', '08', '08']\n",
      "0808\n",
      "['2008', '08', '15']\n",
      "0815\n",
      "['2008', '08', '22']\n",
      "0822\n",
      "['2008', '08', '29']\n",
      "0829\n",
      "['2008', '09', '05']\n",
      "0905\n",
      "['2008', '09', '12']\n",
      "0912\n",
      "['2008', '09', '19']\n",
      "0919\n",
      "['2008', '09', '26']\n",
      "0926\n",
      "['2008', '10', '03']\n",
      "1003\n",
      "['2008', '10', '09']\n",
      "1009\n",
      "['2008', '10', '17']\n",
      "1017\n",
      "['2008', '10', '24']\n",
      "1024\n",
      "['2008', '10', '31']\n",
      "1031\n",
      "['2008', '11', '07']\n",
      "1107\n",
      "['2008', '11', '14']\n",
      "1114\n",
      "['2008', '11', '21']\n",
      "1121\n",
      "['2008', '11', '28']\n",
      "1128\n",
      "['2008', '12', '05']\n",
      "1205\n",
      "['2008', '12', '12']\n",
      "1212\n",
      "['2008', '12', '19']\n",
      "1219\n",
      "['2008', '12', '26']\n",
      "1226\n",
      "['2008', '12', '31']\n",
      "1231\n",
      "['2009', '01', '10']\n",
      "0110\n",
      "['2009', '01', '17']\n",
      "0117\n",
      "['2009', '01', '21']\n",
      "0121\n",
      "['2009', '02', '06']\n",
      "0206\n",
      "['2009', '02', '13']\n",
      "0213\n",
      "['2009', '02', '20']\n",
      "0220\n",
      "['2009', '02', '27']\n",
      "0227\n",
      "['2009', '03', '06']\n",
      "0306\n",
      "['2009', '03', '13']\n",
      "0313\n",
      "['2009', '03', '20']\n",
      "0320\n",
      "['2009', '03', '27']\n",
      "0327\n",
      "['2009', '04', '03']\n",
      "0403\n",
      "['2009', '04', '10']\n",
      "0410\n",
      "['2009', '04', '17']\n",
      "0417\n",
      "['2009', '04', '24']\n",
      "0424\n",
      "['2009', '04', '30']\n",
      "0430\n",
      "['2009', '05', '08']\n",
      "0508\n",
      "['2009', '05', '15']\n",
      "0515\n",
      "['2009', '05', '22']\n",
      "0522\n",
      "['2009', '05', '27']\n",
      "0527\n",
      "['2009', '06', '06']\n",
      "0606\n",
      "['2009', '06', '12']\n",
      "0612\n",
      "['2009', '06', '19']\n",
      "0619\n",
      "['2009', '06', '26']\n",
      "0626\n",
      "['2009', '07', '03']\n",
      "0703\n",
      "['2009', '07', '10']\n",
      "0710\n",
      "['2009', '07', '17']\n",
      "0717\n",
      "['2009', '07', '24']\n",
      "0724\n",
      "['2009', '07', '31']\n",
      "0731\n",
      "['2009', '08', '06']\n",
      "0806\n",
      "['2009', '08', '14']\n",
      "0814\n",
      "['2009', '08', '21']\n",
      "0821\n",
      "['2009', '08', '28']\n",
      "0828\n",
      "['2009', '09', '04']\n",
      "0904\n",
      "['2009', '09', '11']\n",
      "0911\n",
      "['2009', '09', '18']\n",
      "0918\n",
      "['2009', '09', '25']\n",
      "0925\n",
      "['2009', '10', '02']\n",
      "1002\n",
      "['2009', '10', '09']\n",
      "1009\n",
      "['2009', '10', '16']\n",
      "1016\n",
      "['2009', '10', '23']\n",
      "1023\n",
      "['2009', '10', '30']\n",
      "1030\n",
      "['2009', '11', '06']\n",
      "1106\n",
      "['2009', '11', '13']\n",
      "1113\n",
      "['2009', '11', '20']\n",
      "1120\n",
      "['2009', '11', '27']\n",
      "1127\n",
      "['2009', '12', '04']\n",
      "1204\n",
      "['2009', '12', '11']\n",
      "1211\n",
      "['2009', '12', '18']\n",
      "1218\n",
      "['2009', '12', '25']\n",
      "1225\n",
      "['2009', '12', '31']\n",
      "1231\n",
      "['2010', '01', '08']\n",
      "0108\n",
      "['2010', '01', '15']\n",
      "0115\n",
      "['2010', '01', '22']\n",
      "0122\n",
      "['2010', '01', '29']\n",
      "0129\n",
      "['2010', '02', '06']\n",
      "0206\n",
      "['2010', '02', '10']\n",
      "0210\n",
      "['2010', '02', '26']\n",
      "0226\n",
      "['2010', '03', '05']\n",
      "0305\n",
      "['2010', '03', '12']\n",
      "0312\n",
      "['2010', '03', '19']\n",
      "0319\n",
      "['2010', '03', '26']\n",
      "0326\n",
      "['2010', '04', '02']\n",
      "0402\n",
      "['2010', '04', '09']\n",
      "0409\n",
      "['2010', '04', '16']\n",
      "0416\n",
      "['2010', '04', '23']\n",
      "0423\n",
      "['2010', '04', '30']\n",
      "0430\n",
      "['2010', '05', '07']\n",
      "0507\n",
      "['2010', '05', '14']\n",
      "0514\n",
      "['2010', '05', '21']\n",
      "0521\n",
      "['2010', '05', '28']\n",
      "0528\n",
      "['2010', '06', '04']\n",
      "0604\n",
      "['2010', '06', '11']\n",
      "0611\n",
      "['2010', '06', '18']\n",
      "0618\n",
      "['2010', '06', '25']\n",
      "0625\n",
      "['2010', '07', '02']\n",
      "0702\n",
      "['2010', '07', '09']\n",
      "0709\n",
      "['2010', '07', '16']\n",
      "0716\n",
      "['2010', '07', '23']\n",
      "0723\n",
      "['2010', '07', '30']\n",
      "0730\n",
      "['2010', '08', '06']\n",
      "0806\n",
      "['2010', '08', '13']\n",
      "0813\n",
      "['2010', '08', '20']\n",
      "0820\n",
      "['2010', '08', '27']\n",
      "0827\n",
      "['2010', '09', '03']\n",
      "0903\n",
      "['2010', '09', '10']\n",
      "0910\n",
      "['2010', '09', '17']\n",
      "0917\n",
      "['2010', '09', '24']\n",
      "0924\n",
      "['2010', '10', '01']\n",
      "1001\n",
      "['2010', '10', '08']\n",
      "1008\n",
      "['2010', '10', '15']\n",
      "1015\n",
      "['2010', '10', '22']\n",
      "1022\n",
      "['2010', '10', '29']\n",
      "1029\n",
      "['2010', '11', '05']\n",
      "1105\n",
      "['2010', '11', '12']\n",
      "1112\n",
      "['2010', '11', '19']\n",
      "1119\n",
      "['2010', '11', '26']\n",
      "1126\n",
      "['2010', '12', '03']\n",
      "1203\n",
      "['2010', '12', '10']\n",
      "1210\n",
      "['2010', '12', '17']\n",
      "1217\n",
      "['2010', '12', '24']\n",
      "1224\n",
      "['2010', '12', '31']\n",
      "1231\n",
      "['2011', '01', '07']\n",
      "0107\n",
      "['2011', '01', '14']\n",
      "0114\n",
      "['2011', '01', '21']\n",
      "0121\n",
      "['2011', '01', '28']\n",
      "0128\n",
      "['2011', '02', '11']\n",
      "0211\n",
      "['2011', '02', '18']\n",
      "0218\n",
      "['2011', '02', '25']\n",
      "0225\n",
      "['2011', '03', '04']\n",
      "0304\n",
      "['2011', '03', '11']\n",
      "0311\n",
      "['2011', '03', '18']\n",
      "0318\n",
      "['2011', '03', '25']\n",
      "0325\n",
      "['2011', '04', '01']\n",
      "0401\n",
      "['2011', '04', '08']\n",
      "0408\n",
      "['2011', '04', '15']\n",
      "0415\n",
      "['2011', '04', '22']\n",
      "0422\n",
      "['2011', '04', '29']\n",
      "0429\n",
      "['2011', '05', '06']\n",
      "0506\n",
      "['2011', '05', '13']\n",
      "0513\n",
      "['2011', '05', '20']\n",
      "0520\n",
      "['2011', '05', '27']\n",
      "0527\n",
      "['2011', '06', '03']\n",
      "0603\n",
      "['2011', '06', '10']\n",
      "0610\n",
      "['2011', '06', '17']\n",
      "0617\n",
      "['2011', '06', '24']\n",
      "0624\n",
      "['2011', '07', '01']\n",
      "0701\n",
      "['2011', '07', '08']\n",
      "0708\n",
      "['2011', '07', '15']\n",
      "0715\n",
      "['2011', '07', '22']\n",
      "0722\n",
      "['2011', '07', '29']\n",
      "0729\n",
      "['2011', '08', '05']\n",
      "0805\n",
      "['2011', '08', '12']\n",
      "0812\n",
      "['2011', '08', '19']\n",
      "0819\n",
      "['2011', '08', '26']\n",
      "0826\n",
      "['2011', '09', '02']\n",
      "0902\n",
      "['2011', '09', '09']\n",
      "0909\n",
      "['2011', '09', '16']\n",
      "0916\n",
      "['2011', '09', '23']\n",
      "0923\n",
      "['2011', '09', '30']\n",
      "0930\n",
      "['2011', '10', '07']\n",
      "1007\n",
      "['2011', '10', '14']\n",
      "1014\n",
      "['2011', '10', '21']\n",
      "1021\n",
      "['2011', '10', '28']\n",
      "1028\n",
      "['2011', '11', '04']\n",
      "1104\n",
      "['2011', '11', '11']\n",
      "1111\n",
      "['2011', '11', '18']\n",
      "1118\n",
      "['2011', '11', '25']\n",
      "1125\n",
      "['2011', '12', '02']\n",
      "1202\n",
      "['2011', '12', '09']\n",
      "1209\n",
      "['2011', '12', '16']\n",
      "1216\n",
      "['2011', '12', '23']\n",
      "1223\n",
      "['2011', '12', '30']\n",
      "1230\n"
     ]
    }
   ],
   "source": [
    "for i,row in enumerate(x):\n",
    "    row = row.split('-')\n",
    "    print (row)\n",
    "    x[i] = row[1]+row[2]\n",
    "    print(x[i])"
   ]
  },
  {
   "cell_type": "code",
   "execution_count": 6,
   "metadata": {},
   "outputs": [
    {
     "data": {
      "text/plain": [
       "309"
      ]
     },
     "execution_count": 6,
     "metadata": {},
     "output_type": "execute_result"
    }
   ],
   "source": [
    "len(x)"
   ]
  },
  {
   "cell_type": "code",
   "execution_count": 7,
   "metadata": {
    "scrolled": true
   },
   "outputs": [
    {
     "data": {
      "image/png": "[encoded data removed]",
      "text/plain": [
       "<Figure size 432x288 with 1 Axes>"
      ]
     },
     "metadata": {
      "needs_background": "light"
     },
     "output_type": "display_data"
    }
   ],
   "source": [
    "plt.xlabel('月日',fontproperties=myfont)\n",
    "plt.ylabel('漲跌幅',fontproperties=myfont)\n",
    "plt.plot(rate0050[64:100],'b')\n",
    "plt.show()"
   ]
  },
  {
   "cell_type": "code",
   "execution_count": 8,
   "metadata": {},
   "outputs": [],
   "source": [
    "days_df = pd.DataFrame(\n",
    "    {\"day\": x,\n",
    "     \"漲跌幅\": rate0050\n",
    "    }\n",
    ")"
   ]
  },
  {
   "cell_type": "code",
   "execution_count": 9,
   "metadata": {},
   "outputs": [
    {
     "name": "stderr",
     "output_type": "stream",
     "text": [
      "/home/xiangli/anaconda3/lib/python3.7/site-packages/seaborn/categorical.py:3666: UserWarning: The `factorplot` function has been renamed to `catplot`. The original name will be removed in a future release. Please update your code. Note that the default `kind` in `factorplot` (`'point'`) has changed `'strip'` in `catplot`.\n",
      "  warnings.warn(msg)\n"
     ]
    },
    {
     "data": {
      "text/plain": [
       "<seaborn.axisgrid.FacetGrid at 0x7f7101722a20>"
      ]
     },
     "execution_count": 9,
     "metadata": {},
     "output_type": "execute_result"
    },
    {
     "data": {
      "image/png": "[encoded data removed]",
      "text/plain": [
       "<Figure size 360x360 with 1 Axes>"
      ]
     },
     "metadata": {
      "needs_background": "light"
     },
     "output_type": "display_data"
    }
   ],
   "source": [
    "sns.factorplot(data = days_df, x=\"day\", y=\"漲跌幅\", ci = None)"
   ]
  },
  {
   "cell_type": "code",
   "execution_count": 10,
   "metadata": {},
   "outputs": [],
   "source": [
    "names = []\n",
    "\n",
    "cursor = c.execute(\"SELECT DISTINCT id FROM price\")\n",
    "for row in cursor:\n",
    "    names.append(row[0])\n",
    "\n",
    "names.remove('0050 元大台灣50')\n",
    "names.remove('5871 中租-KY')\n",
    "names.remove('5880 合庫金')\n",
    "names.remove('2412 中華電')\n",
    "names.remove('4938 和碩')"
   ]
  },
  {
   "cell_type": "code",
   "execution_count": 11,
   "metadata": {},
   "outputs": [
    {
     "data": {
      "text/plain": [
       "43"
      ]
     },
     "execution_count": 11,
     "metadata": {},
     "output_type": "execute_result"
    }
   ],
   "source": [
    "len(names)"
   ]
  },
  {
   "cell_type": "code",
   "execution_count": 12,
   "metadata": {},
   "outputs": [],
   "source": [
    "date = ['2008-01-04','2008-02-01','2008-03-07','2008-04-03','2008-05-02','2008-06-06','2008-07-04','2008-08-01',\n",
    "        '2008-09-05','2008-10-03','2008-11-07','2008-12-05']"
   ]
  },
  {
   "cell_type": "code",
   "execution_count": 13,
   "metadata": {},
   "outputs": [],
   "source": [
    "rate = []\n",
    "for name in names:\n",
    "    cursor = c.execute(\"SELECT price FROM price WHERE id = ?  AND date >= ? ORDER BY date ASC LIMIT 53\",[name,date[0]])\n",
    "\n",
    "    price = []\n",
    "    for row in cursor:\n",
    "        price.append(row[0])\n",
    "    \n",
    "    temp = []\n",
    "    for i in range(len(price)):\n",
    "        if i == 0:\n",
    "            continue\n",
    "        temp.append((price[i]-price[i-1])/price[i-1])\n",
    "    rate.append(temp)"
   ]
  },
  {
   "cell_type": "code",
   "execution_count": 14,
   "metadata": {},
   "outputs": [],
   "source": [
    "for i in range(len(rate)):\n",
    "    if len(rate[i]) !=52:\n",
    "        print(names[i])"
   ]
  },
  {
   "cell_type": "code",
   "execution_count": 15,
   "metadata": {},
   "outputs": [],
   "source": [
    "distance = []\n",
    "for i in rate:\n",
    "    temp = []\n",
    "    for j in rate:\n",
    "        corr= np.corrcoef(i,j)\n",
    "        corr = corr[0][-1]\n",
    "        if i == j:\n",
    "            corr = 1\n",
    "        temp.append(1-(corr*0.5+0.5))\n",
    "    distance.append(temp)"
   ]
  },
  {
   "cell_type": "code",
   "execution_count": 16,
   "metadata": {
    "scrolled": true
   },
   "outputs": [
    {
     "data": {
      "image/png": "[encoded data removed]",
      "text/plain": [
       "<Figure size 432x288 with 1 Axes>"
      ]
     },
     "metadata": {
      "needs_background": "light"
     },
     "output_type": "display_data"
    }
   ],
   "source": [
    "mds = manifold.MDS(n_jobs=3,random_state=1,dissimilarity=\"precomputed\")\n",
    "pos = mds.fit(distance).embedding_\n",
    "\n",
    "clf = KMeans(n_clusters=4)\n",
    "clf.fit(pos)\n",
    "plt.scatter(pos[:, 0], pos[:, 1], c=clf.labels_)\n",
    "plt.show()"
   ]
  },
  {
   "cell_type": "code",
   "execution_count": 17,
   "metadata": {},
   "outputs": [
    {
     "name": "stdout",
     "output_type": "stream",
     "text": [
      "1301 台塑\n",
      "1303 南亞\n",
      "1402 遠東新\n",
      "2002 中鋼\n",
      "2105 正新\n",
      "2301 光寶科\n",
      "2303 聯電\n",
      "2308 台達電\n",
      "2317 鴻海\n",
      "2327 國巨\n",
      "2330 台積電\n",
      "2354 鴻準\n",
      "2357 華碩\n",
      "2382 廣達\n",
      "2395 研華\n",
      "2408 南亞科\n",
      "2409 友達\n",
      "2454 聯發科\n",
      "2474 可成\n",
      "2492 華新科\n",
      "2801 彰銀\n",
      "2823 中壽\n",
      "2880 華南金\n",
      "2881 富邦金\n",
      "2882 國泰金\n",
      "2883 開發金\n",
      "2884 玉山金\n",
      "2885 元大金\n",
      "2886 兆豐金\n",
      "2887 台新金\n",
      "2890 永豐金\n",
      "2891 中信金\n",
      "2892 第一金\n",
      "3008 大立光\n",
      "3481 群創\n",
      "6505 台塑化\n",
      "9904 寶成\n"
     ]
    }
   ],
   "source": [
    "for i in range(len(clf.labels_)):\n",
    "    if clf.labels_[i] != clf.labels_[0]:\n",
    "        print (names[i])"
   ]
  },
  {
   "cell_type": "code",
   "execution_count": 18,
   "metadata": {},
   "outputs": [],
   "source": [
    "num = []"
   ]
  },
  {
   "cell_type": "code",
   "execution_count": 19,
   "metadata": {},
   "outputs": [
    {
     "data": {
      "image/png": "[encoded data removed]",
      "text/plain": [
       "<Figure size 432x288 with 1 Axes>"
      ]
     },
     "metadata": {
      "needs_background": "light"
     },
     "output_type": "display_data"
    },
    {
     "name": "stdout",
     "output_type": "stream",
     "text": [
      "[0 0 0 2 2 3 1 2 3 2 1 1 1 1 1 1 2 1 3 1 1 1 1 3 3 3 3 3 3 3 3 3 3 3 3 3 0\n",
      " 1 0 1 0 2 2]\n"
     ]
    },
    {
     "data": {
      "image/png": "[encoded data removed]",
      "text/plain": [
       "<Figure size 432x288 with 1 Axes>"
      ]
     },
     "metadata": {
      "needs_background": "light"
     },
     "output_type": "display_data"
    },
    {
     "name": "stdout",
     "output_type": "stream",
     "text": [
      "[0 0 0 2 2 3 2 0 3 2 1 1 1 2 1 1 2 1 1 1 1 1 1 3 3 3 3 3 3 3 3 3 3 3 3 3 0\n",
      " 1 0 1 0 2 3]\n"
     ]
    },
    {
     "data": {
      "image/png": "[encoded data removed]",
      "text/plain": [
       "<Figure size 432x288 with 1 Axes>"
      ]
     },
     "metadata": {
      "needs_background": "light"
     },
     "output_type": "display_data"
    },
    {
     "name": "stdout",
     "output_type": "stream",
     "text": [
      "[0 0 3 0 0 1 0 3 1 0 2 2 1 2 2 2 0 2 2 2 2 2 2 1 1 1 1 1 1 1 1 1 1 1 1 1 3\n",
      " 2 3 2 3 0 1]\n"
     ]
    },
    {
     "data": {
      "image/png": "[encoded data removed]",
      "text/plain": [
       "<Figure size 432x288 with 1 Axes>"
      ]
     },
     "metadata": {
      "needs_background": "light"
     },
     "output_type": "display_data"
    },
    {
     "name": "stdout",
     "output_type": "stream",
     "text": [
      "[3 3 3 1 1 0 1 3 1 0 2 2 2 2 2 2 1 0 0 2 2 2 2 0 1 0 0 0 0 0 0 0 0 0 0 0 1\n",
      " 2 3 2 3 1 0]\n"
     ]
    },
    {
     "data": {
      "image/png": "[encoded data removed]",
      "text/plain": [
       "<Figure size 432x288 with 1 Axes>"
      ]
     },
     "metadata": {
      "needs_background": "light"
     },
     "output_type": "display_data"
    },
    {
     "name": "stdout",
     "output_type": "stream",
     "text": [
      "[2 2 2 0 0 1 0 1 1 0 3 3 3 0 3 3 0 3 3 3 3 3 3 1 1 1 1 1 1 1 1 1 1 1 1 1 1\n",
      " 3 2 3 2 1 1]\n"
     ]
    },
    {
     "data": {
      "image/png": "[encoded data removed]",
      "text/plain": [
       "<Figure size 432x288 with 1 Axes>"
      ]
     },
     "metadata": {
      "needs_background": "light"
     },
     "output_type": "display_data"
    },
    {
     "name": "stdout",
     "output_type": "stream",
     "text": [
      "[0 0 0 3 3 2 3 0 2 3 1 1 1 3 1 1 3 1 1 1 1 1 1 2 2 2 2 2 2 2 2 2 2 2 2 2 3\n",
      " 1 0 1 0 3 2]\n"
     ]
    },
    {
     "data": {
      "image/png": "[encoded data removed]",
      "text/plain": [
       "<Figure size 432x288 with 1 Axes>"
      ]
     },
     "metadata": {
      "needs_background": "light"
     },
     "output_type": "display_data"
    },
    {
     "name": "stdout",
     "output_type": "stream",
     "text": [
      "[0 0 0 2 2 2 2 0 3 2 1 1 3 1 1 1 2 2 3 1 1 1 1 3 2 3 3 3 3 3 3 3 3 3 3 3 2\n",
      " 1 0 1 0 2 2]\n"
     ]
    },
    {
     "data": {
      "image/png": "[encoded data removed]",
      "text/plain": [
       "<Figure size 432x288 with 1 Axes>"
      ]
     },
     "metadata": {
      "needs_background": "light"
     },
     "output_type": "display_data"
    },
    {
     "name": "stdout",
     "output_type": "stream",
     "text": [
      "[3 3 3 0 0 1 0 3 1 0 2 2 2 0 2 2 0 0 2 2 2 2 2 1 1 1 1 1 1 1 1 1 1 1 1 1 0\n",
      " 2 3 2 3 0 1]\n"
     ]
    },
    {
     "data": {
      "image/png": "[encoded data removed]",
      "text/plain": [
       "<Figure size 432x288 with 1 Axes>"
      ]
     },
     "metadata": {
      "needs_background": "light"
     },
     "output_type": "display_data"
    },
    {
     "name": "stdout",
     "output_type": "stream",
     "text": [
      "[1 1 1 2 3 0 3 3 3 3 3 2 2 3 2 2 3 3 0 2 2 2 2 0 0 0 0 0 0 0 0 0 0 0 0 0 0\n",
      " 2 1 2 1 1 3]\n"
     ]
    },
    {
     "data": {
      "image/png": "[encoded data removed]",
      "text/plain": [
       "<Figure size 432x288 with 1 Axes>"
      ]
     },
     "metadata": {
      "needs_background": "light"
     },
     "output_type": "display_data"
    },
    {
     "name": "stdout",
     "output_type": "stream",
     "text": [
      "[1 1 1 2 0 3 0 0 0 0 0 2 2 0 2 2 0 0 3 2 2 2 2 3 3 3 3 3 3 3 3 3 3 3 3 3 3\n",
      " 2 1 2 1 1 0]\n"
     ]
    },
    {
     "data": {
      "image/png": "[encoded data removed]",
      "text/plain": [
       "<Figure size 432x288 with 1 Axes>"
      ]
     },
     "metadata": {
      "needs_background": "light"
     },
     "output_type": "display_data"
    },
    {
     "name": "stdout",
     "output_type": "stream",
     "text": [
      "[3 3 3 2 1 0 0 1 1 1 0 0 0 1 0 0 1 1 2 0 0 0 0 2 2 2 2 2 2 2 2 2 2 2 2 2 2\n",
      " 0 3 0 3 2 1]\n"
     ]
    },
    {
     "data": {
      "image/png": "[encoded data removed]",
      "text/plain": [
       "<Figure size 432x288 with 1 Axes>"
      ]
     },
     "metadata": {
      "needs_background": "light"
     },
     "output_type": "display_data"
    },
    {
     "name": "stdout",
     "output_type": "stream",
     "text": [
      "[1 1 1 1 1 1 2 3 3 2 3 2 3 3 2 2 3 3 0 2 2 2 2 1 1 3 1 1 3 3 1 1 3 1 1 1 1\n",
      " 2 0 2 0 1 1]\n"
     ]
    }
   ],
   "source": [
    "for day in date:\n",
    "    rate = []\n",
    "    for name in names:\n",
    "        cursor = c.execute(\"SELECT price FROM price WHERE id = ?  AND date >= ? ORDER BY date ASC LIMIT 53\",[name,day])\n",
    "\n",
    "        price = []\n",
    "        for row in cursor:\n",
    "            price.append(row[0])\n",
    "\n",
    "        temp = []\n",
    "        for i in range(len(price)):\n",
    "            if i == 0:\n",
    "                continue\n",
    "            temp.append((price[i]-price[i-1])/price[i-1])\n",
    "        rate.append(temp)\n",
    "        \n",
    "    distance = []\n",
    "    for i in rate:\n",
    "        temp = []\n",
    "        for j in rate:\n",
    "            corr= np.corrcoef(i,j)\n",
    "            corr = corr[0][-1]\n",
    "            if i == j:\n",
    "                corr = 1\n",
    "            temp.append(1-(corr*0.5+0.5))\n",
    "        distance.append(temp)\n",
    "        \n",
    "    mds = manifold.MDS(n_jobs=3,random_state=1,dissimilarity=\"precomputed\")\n",
    "    pos = mds.fit(distance).embedding_\n",
    "\n",
    "    clf = KMeans(n_clusters=4)\n",
    "    clf.fit(pos)\n",
    "    plt.scatter(pos[:, 0], pos[:, 1], c=clf.labels_)\n",
    "    plt.show()\n",
    "    print(clf.labels_)\n",
    "    \n",
    "    for i in range(len(clf.labels_)):\n",
    "        if clf.labels_[i] == clf.labels_[-3]:\n",
    "            num.append(i)"
   ]
  },
  {
   "cell_type": "code",
   "execution_count": 20,
   "metadata": {},
   "outputs": [],
   "source": [
    "num = list(set(num))"
   ]
  },
  {
   "cell_type": "code",
   "execution_count": 21,
   "metadata": {},
   "outputs": [
    {
     "name": "stdout",
     "output_type": "stream",
     "text": [
      "[0, 1, 2, 36, 38, 7, 40, 41, 18]\n"
     ]
    }
   ],
   "source": [
    "print (num)"
   ]
  },
  {
   "cell_type": "code",
   "execution_count": 22,
   "metadata": {},
   "outputs": [
    {
     "name": "stdout",
     "output_type": "stream",
     "text": [
      "1301 台塑\n",
      "1303 南亞\n",
      "1402 遠東新\n",
      "2002 中鋼\n",
      "2301 光寶科\n",
      "2303 聯電\n",
      "2308 台達電\n",
      "2317 鴻海\n",
      "2327 國巨\n",
      "2330 台積電\n",
      "2354 鴻準\n",
      "2357 華碩\n",
      "2382 廣達\n",
      "2395 研華\n",
      "2409 友達\n",
      "2454 聯發科\n",
      "2474 可成\n",
      "2492 華新科\n",
      "2801 彰銀\n",
      "2823 中壽\n",
      "2880 華南金\n",
      "2881 富邦金\n",
      "2882 國泰金\n",
      "2883 開發金\n",
      "2884 玉山金\n",
      "2885 元大金\n",
      "2886 兆豐金\n",
      "2887 台新金\n",
      "2890 永豐金\n",
      "2891 中信金\n",
      "2892 第一金\n",
      "3008 大立光\n",
      "3481 群創\n",
      "9904 寶成\n"
     ]
    }
   ],
   "source": [
    "for i in range(len(names)):\n",
    "    if i not in num:\n",
    "        print(names[i])"
   ]
  },
  {
   "cell_type": "code",
   "execution_count": 23,
   "metadata": {},
   "outputs": [
    {
     "name": "stdout",
     "output_type": "stream",
     "text": [
      "4904 遠傳\n"
     ]
    }
   ],
   "source": [
    "print (names[-3])"
   ]
  },
  {
   "cell_type": "code",
   "execution_count": 24,
   "metadata": {},
   "outputs": [],
   "source": [
    "total_distance = np.zeros([43,43])"
   ]
  },
  {
   "cell_type": "code",
   "execution_count": 25,
   "metadata": {},
   "outputs": [],
   "source": [
    "for day in date:\n",
    "    rate = []\n",
    "    for name in names:\n",
    "        cursor = c.execute(\"SELECT price FROM price WHERE id = ?  AND date >= ? ORDER BY date ASC LIMIT 53\",[name,day])\n",
    "\n",
    "        price = []\n",
    "        for row in cursor:\n",
    "            price.append(row[0])\n",
    "\n",
    "        temp = []\n",
    "        for i in range(len(price)):\n",
    "            if i == 0:\n",
    "                continue\n",
    "            temp.append((price[i]-price[i-1])/price[i-1])\n",
    "        rate.append(temp)\n",
    "        \n",
    "    distance = []\n",
    "    for i in rate:\n",
    "        temp = []\n",
    "        for j in rate:\n",
    "            corr= np.corrcoef(i,j)\n",
    "            corr = corr[0][-1]\n",
    "            if i == j:\n",
    "                corr = 1\n",
    "            temp.append(1-(corr*0.5+0.5))\n",
    "        distance.append(temp)\n",
    "        \n",
    "    total_distance += np.asarray(distance)"
   ]
  },
  {
   "cell_type": "code",
   "execution_count": 26,
   "metadata": {},
   "outputs": [],
   "source": [
    "sr = np.argsort(total_distance)"
   ]
  },
  {
   "cell_type": "code",
   "execution_count": 27,
   "metadata": {
    "scrolled": true
   },
   "outputs": [
    {
     "name": "stdout",
     "output_type": "stream",
     "text": [
      "[ 0  1 29 31 23  2 42  5 24 16  9  7 41 28 26 13  4  6 17 25 14 33 22 19\n",
      " 32 34  8 39 27 11 10 35 30 12 38 36 40  3 15 18 37 20 21]\n",
      "[ 1  0  5 31 42 29 23  2 34 28 19  7 17 30  9 39  8 24  4 26 14 25 27 33\n",
      " 35 16 22 11 12 32 13 15 10 41 36 18  6 40 21  3 20 37 38]\n",
      "[ 2  0  1 42 31 28 23  4 27 24  5 30  7 34 29 26 36 41 32 25 35 33  9  3\n",
      "  6 17 10 40 22 16  8 38 14 12 11 13 19 39 15 18 37 21 20]\n",
      "[ 3  4 41 25 42 23  5 31 16  9 35 33 30 22 36 27 28 20 13 17 26 21 37 11\n",
      " 24 14 15  2  6 10 32  7 29  8 34 12  0 19 39  1 38 18 40]\n",
      "[ 4  3 41 42 23 28  7  5 13 31 16 17  9 30 25 22 33 26 10  2 15 37  0 27\n",
      "  1 29 19 20 21 24 35 14 12 34  8 36 39  6 32 11 38 18 40]\n",
      "[ 5 33 27 34 30 42 35 14 24 28  1 25 23 26 29 39 31 22 32 21 11  4 19 15\n",
      "  9 10 17  0 36 12  7 16 20  2 41  3  8 37 13 18  6 40 38]\n",
      "[ 6 13  9 11 31 19  0 29 17 37 25 27 10 15 23  4 14 28 20 16 26 35  5  2\n",
      " 33  3 30 34 32 39 24 41  1 22  8 42  7 12 21 36 40 38 18]\n",
      "[ 7  4 23  1 42 17  0  9  5 28 10  2 41 22 16 14 25 13 33 30 26 21 31 12\n",
      " 20 15 29  8 11 27 39 19 24  3 37 35 34 36  6 32 18 40 38]\n",
      "[ 8 31 17 28 23 42 29 32 34 22 30 19 39 33 35  1 25 27 11 13 16 12  5  9\n",
      " 14 21 36  4  0 24 26 15  7 10  6  2  3 18 20 37 41 40 38]\n",
      "[ 9 22 42 20 10 13 29 14 30 15 11 39 28 12 23 37 17  4  5 21 16 33  1  6\n",
      "  0 31 19 41 25 35  7 24 27 26  8 34  3 18 32  2 36 40 38]\n",
      "[10 20 15 13 21 23 22 14 28 25 33 11 37 12  9 17 19 30 27 35 42 39 29  5\n",
      " 26 41 24  4 34 31  7 16 32 18  6  0  1  3  2  8 36 40 38]\n",
      "[11 14 22 25 28 27 35 15 21 12 20 39 33 32 30 10 23 13 34 26 37 29 31 17\n",
      "  5 19  9 42 24  6 16  8 18 41  1  0  3  4  7  2 36 40 38]\n",
      "[12 22 39 14 11 35 28 17 21 10 25 42 30 24 15 33 27 31 23 29 20 32 34  9\n",
      " 19 37 18 13 26  5  8  4  1 16  7 41  0  3  2  6 36 40 38]\n",
      "[13 17 25 10 15 28 23 11 14 16  9 37 20 33  6 22 31  4 21 35 19 30 26 12\n",
      " 42 29 27  0  8 39 41  5 32  7 34  3 18 24  1 36  2 38 40]\n",
      "[14 11 22 21 25 35 23 37 27 33 12 39 20 15  5 30 10 26 28 17 13 34 29 19\n",
      " 42  9 31 24 32 18 16  1 41  0  8  4  7  6  3 36  2 38 40]\n",
      "[15 20 21 37 11 10 22 13 14 30 17 28 33 25 39 12 16 19 23 26  9 42 34 35\n",
      " 27 31 24  5 41  4 29 18 32  6  7  8  1  3 36  0  2 40 38]\n",
      "[16 42 13 17 15  4 30 31 28 29 37 19  9 25 39 33 41 23  0 21 14  5 35 34\n",
      " 11  8 10 26  1 32  3 36  7 22 24 27 20 12  6  2 18 38 40]\n",
      "[17 28 23 25 42 13 31 33 19 30 15 14 12 16 29 21 35  8 22 10 39 11 34 26\n",
      " 27  4  9 24  5  1  7 20 37 32  0 18  6 36  3 41  2 40 38]\n",
      "[18 12 22 14 39 24 21 28 19 17 15 23 11 10 25 35 33 30 27 31  9 29 13 26\n",
      " 32 34 20 42  5  1 41  8  0 37 36 16  7  2  4  6 38  3 40]\n",
      "[19 39 17 30 14 10 15 21 22 34 11 28 12 31  5 24 20 42 37  1 13 16 27 25\n",
      " 33  8 35 23  9 26  6 29  4 18  0 32 36  7 41  3  2 40 38]\n",
      "[20 37 21 15 10 11 14  9 22 13 39 12 25 19 33 35 30 17 42 27  5 23 28 26\n",
      " 24  4 34 29  3 16 41 18  7 31  6 32 36  8  1  0  2 40 38]\n",
      "[21 20 14 15 22 37 11 10 39 25 12 35 17 27 23 28 42 33 19 30  5 13  9 26\n",
      " 34 24 16 32 31 18 29  4  8  7 36  3 41  1  6  0  2 38 40]\n",
      "[22 12 14 11 39  9 21 42 23 15 10 30 28 24 27 20 25 17 37 35 33  5 19 26\n",
      " 29 31 13 34  4 41 18 32  8  7  0 16  1  3  2  6 36 38 40]\n",
      "[23 28 25 31 33 35 26 27 17 29 32 14 42 34 30 22 10 13  5 24 11  4 21 15\n",
      " 12  8 41  1  0  9  7  2 16 19 36  3 39 20 18 37  6 40 38]\n",
      "[24 34 27 26  5 30 23 35 22 25 29 31 39 33 36 12 28 42 14 32 41 19 15 17\n",
      " 11 10  0 21  2  1  9 20 18  4 37 16  8 13  3  7  6 40 38]\n",
      "[25 35 28 23 33 27 31 26 34 29 32 17 14 11 30 13 42  5 10 21 24 12 22 15\n",
      " 39 20 37  4 16 19 36 41  3  8  9  1  0 18  7  2  6 40 38]\n",
      "[26 27 33 34 23 35 28 31 30 25 24 32 14 29  5 11 42 22 17 15 21 10 13 41\n",
      "  4 12 19  0 36  1 20 39  2  9 16 37  7  3 18  8  6 38 40]\n",
      "[27 26 34 35 32 33 31 28 25 30 23 29  5 24 11 14 22 42 21 12 17 10 15 39\n",
      " 19 13  2 20  8  4 36  9 37  1 16  3 41 18  6  0  7 38 40]\n",
      "[28 23 25 33 35 31 27 30 34 17 26 32 42 29 11 13 14  5 10 22 12 15  8 24\n",
      " 21  4 19  9  1 16 39  2 41  0  7 20 36 18  3 37  6 40 38]\n",
      "[29 31 32 27 23 34 35 28 33 25 42 30 26 24 17  5 14  0 11  9 12 22  1  8\n",
      " 16 10 39 13 15  2  6 19  4 21 20 37 41 18  7 36  3 40 38]\n",
      "[30 34 35 27 28 26 31 25 33 23  5 42 39 22 29 14 24 19 15 17 11 12 21  9\n",
      " 32 10 16  4 36 13  8  1 20  2 37 41  3 18  7  0  6 40 38]\n",
      "[31 23 29 28 34 27 35 25 26 33 32 30 17 42  8  1 24  0  5 11 12 14 22 13\n",
      "  4 19 16 15 39  2 36 41  9 10  6 21  3 18  7 37 20 38 40]\n",
      "[32 27 29 35 33 28 31 34 25 23 26 11  5 30 24 12 14 42  8 22 21 17 39 10\n",
      " 16 13  2 15 36 41  0 19  1  9 18  4 37 20  3  6  7 40 38]\n",
      "[33 28 27 25 35 23 26 32 34 31 29  5 30 14 42 17 11 10 15 24 22 12 21 13\n",
      " 39  4 20  9 16 19  8 41 37 36  1  0  3  7 18  2  6 40 38]\n",
      "[34 30 35 27 31 26 28 33 29 25 32 23  5 24 42 39 14 11 19 17 22 12 15  1\n",
      " 36  8 21 10 16  2  9  4 20 13  0 41 18 37  6  7  3 40 38]\n",
      "[35 25 34 27 33 30 23 28 32 26 31 29 14 11  5 12 24 21 42 17 22 10 15 39\n",
      " 13 20  8 19  9 16 36 37  1  4  3 18  2 41  0  6  7 40 38]\n",
      "[36 24 34 30 42 25  5 31 23 26 27 35 33 28 39 16  2  8 32  3  4 17 41 21\n",
      " 19 15 29  1 37  0 14  7 13 22 20 11 18  9 10 12  6 40 38]\n",
      "[37 20 14 21 15 10 13 22 39 11 12  9 25 19 16 42 33 17  4 35 27 30  5 24\n",
      " 23 41 26 29  6 31  3 28 34 32  7 36 18  8  1  0  2 38 40]\n",
      "[38 40 41  0  2 23 28 31 42  7 32 10 29 25 33 26  4 13  1 34 30 27  6 11\n",
      " 22 17 16 14 15 35 36  3  5  9 18 12 20 37 24  8 19 39 21]\n",
      "[39 19 22 12 30 14 11 42 21 34  5 24 37 17 15 20  9 25 35 27 31 10 28 33\n",
      " 29  1 16  8 18 23 32 26 13 36  4  0  7 41  6  3  2 38 40]\n",
      "[40 38 28  2  1 23  0 29 34 41 25 31 10 32 33  7 42  6 11 30 17  9 35 15\n",
      " 26  5 36  8 27 13 14  4 16 20 24 12 19 22  3 18 39 21 37]\n",
      "[41  4  3 23 24 22 15 26 28 10 25 16 42 31  0 33  9  5 14  7 13 30  2 37\n",
      " 27 32 29 35 20 34 11 36 12 17 21 39  1 19 38  6 18 40  8]\n",
      "[42 28 17 23 22 31 30 29 33  5 25 39 34  4 16  9 35 27 12  1 26 14 21 24\n",
      " 15 10  0  8 11 19  2 32 36 13  7 41 37 20  3 18  6 38 40]\n"
     ]
    }
   ],
   "source": [
    "for i in sr:\n",
    "    print(i)"
   ]
  },
  {
   "cell_type": "code",
   "execution_count": 28,
   "metadata": {
    "scrolled": true
   },
   "outputs": [
    {
     "name": "stdout",
     "output_type": "stream",
     "text": [
      "1101 台泥   2474 可成   2454 聯發科   3008 大立光\n",
      "1102 亞泥   3045 台灣大   3008 大立光   2454 聯發科\n",
      "1216 統一   2454 聯發科   2474 可成   3008 大立光\n",
      "1301 台塑   4904 遠傳   2408 南亞科   3045 台灣大\n",
      "1303 南亞   4904 遠傳   2408 南亞科   3045 台灣大\n",
      "1402 遠東新   3045 台灣大   4904 遠傳   2002 中鋼\n",
      "2002 中鋼   2408 南亞科   3045 台灣大   4904 遠傳\n",
      "2105 正新   3045 台灣大   4904 遠傳   2408 南亞科\n",
      "2301 光寶科   3045 台灣大   4904 遠傳   6505 台塑化\n",
      "2303 聯電   3045 台灣大   4904 遠傳   2912 統一超\n",
      "2308 台達電   3045 台灣大   4904 遠傳   2912 統一超\n",
      "2317 鴻海   3045 台灣大   4904 遠傳   2912 統一超\n",
      "2327 國巨   3045 台灣大   4904 遠傳   2912 統一超\n",
      "2330 台積電   4904 遠傳   3045 台灣大   1216 統一\n",
      "2354 鴻準   4904 遠傳   3045 台灣大   1216 統一\n",
      "2357 華碩   3045 台灣大   4904 遠傳   1216 統一\n",
      "2382 廣達   4904 遠傳   3045 台灣大   2408 南亞科\n",
      "2395 研華   3045 台灣大   4904 遠傳   1216 統一\n",
      "2408 南亞科   4904 遠傳   1301 台塑   3045 台灣大\n",
      "2409 友達   3045 台灣大   4904 遠傳   1216 統一\n",
      "2454 聯發科   3045 台灣大   4904 遠傳   1216 統一\n",
      "2474 可成   4904 遠傳   3045 台灣大   1216 統一\n",
      "2492 華新科   4904 遠傳   3045 台灣大   2912 統一超\n",
      "2801 彰銀   3045 台灣大   4904 遠傳   2002 中鋼\n",
      "2823 中壽   3045 台灣大   4904 遠傳   2002 中鋼\n",
      "2880 華南金   3045 台灣大   4904 遠傳   2002 中鋼\n",
      "2881 富邦金   4904 遠傳   3045 台灣大   2002 中鋼\n",
      "2882 國泰金   4904 遠傳   3045 台灣大   2105 正新\n",
      "2883 開發金   3045 台灣大   4904 遠傳   2002 中鋼\n",
      "2884 玉山金   3045 台灣大   4904 遠傳   1301 台塑\n",
      "2885 元大金   3045 台灣大   4904 遠傳   2002 中鋼\n",
      "2886 兆豐金   4904 遠傳   3045 台灣大   2454 聯發科\n",
      "2887 台新金   3045 台灣大   4904 遠傳   2105 正新\n",
      "2890 永豐金   3045 台灣大   4904 遠傳   2002 中鋼\n",
      "2891 中信金   3045 台灣大   4904 遠傳   1301 台塑\n",
      "2892 第一金   3045 台灣大   4904 遠傳   2105 正新\n",
      "2912 統一超   3045 台灣大   4904 遠傳   2002 中鋼\n",
      "3008 大立光   4904 遠傳   3045 台灣大   1216 統一\n",
      "3045 台灣大   2474 可成   3481 群創   2409 友達\n",
      "3481 群創   4904 遠傳   3045 台灣大   1216 統一\n",
      "4904 遠傳   3008 大立光   2474 可成   3481 群創\n",
      "6505 台塑化   2301 光寶科   4904 遠傳   2408 南亞科\n",
      "9904 寶成   4904 遠傳   3045 台灣大   2002 中鋼\n"
     ]
    }
   ],
   "source": [
    "for i in range(len(names)):\n",
    "    print(names[i] + '   ' + names[sr[i][-1]] + '   ' + names[sr[i][-2]] + '   ' + names[sr[i][-3]])"
   ]
  },
  {
   "cell_type": "code",
   "execution_count": 29,
   "metadata": {
    "scrolled": true
   },
   "outputs": [
    {
     "name": "stdout",
     "output_type": "stream",
     "text": [
      "('2008-12-05',)\n",
      "('2008-12-12',)\n",
      "('2008-12-19',)\n",
      "('2008-12-26',)\n",
      "('2008-12-31',)\n",
      "('2009-01-10',)\n",
      "('2009-01-17',)\n",
      "('2009-01-21',)\n",
      "('2009-02-06',)\n",
      "('2009-02-13',)\n",
      "('2009-02-20',)\n",
      "('2009-02-27',)\n",
      "('2009-03-06',)\n",
      "('2009-03-13',)\n",
      "('2009-03-20',)\n",
      "('2009-03-27',)\n",
      "('2009-04-03',)\n",
      "('2009-04-10',)\n",
      "('2009-04-17',)\n",
      "('2009-04-24',)\n",
      "('2009-04-30',)\n",
      "('2009-05-08',)\n",
      "('2009-05-15',)\n",
      "('2009-05-22',)\n",
      "('2009-05-27',)\n",
      "('2009-06-06',)\n",
      "('2009-06-12',)\n",
      "('2009-06-19',)\n",
      "('2009-06-26',)\n",
      "('2009-07-03',)\n",
      "('2009-07-10',)\n",
      "('2009-07-17',)\n",
      "('2009-07-24',)\n",
      "('2009-07-31',)\n",
      "('2009-08-06',)\n",
      "('2009-08-14',)\n",
      "('2009-08-28',)\n",
      "('2009-09-04',)\n",
      "('2009-09-11',)\n",
      "('2009-09-18',)\n",
      "('2009-09-25',)\n",
      "('2009-10-02',)\n",
      "('2009-10-09',)\n",
      "('2009-10-16',)\n",
      "('2009-10-23',)\n",
      "('2009-10-30',)\n",
      "('2009-11-06',)\n",
      "('2009-11-13',)\n",
      "('2009-11-20',)\n",
      "('2009-11-27',)\n",
      "('2009-12-04',)\n",
      "('2009-12-11',)\n",
      "('2009-12-18',)\n"
     ]
    }
   ],
   "source": [
    "cursor = c.execute(\"SELECT date FROM price WHERE id = '2408 南亞科'  AND date >= '2008-12-05' ORDER BY date ASC LIMIT 53\")\n",
    "for row in cursor:\n",
    "    print(row)"
   ]
  },
  {
   "cell_type": "code",
   "execution_count": 30,
   "metadata": {},
   "outputs": [],
   "source": [
    "rate = {}\n",
    "for name in names:\n",
    "    cursor = c.execute(\"SELECT price,id FROM price WHERE id = ?  AND (date = '2008-01-04' OR date = '2009-12-18') ORDER BY date ASC\",[name])\n",
    "\n",
    "    price = []\n",
    "    for row in cursor:\n",
    "        price.append(row[0])\n",
    "        name = row[1]\n",
    "    rate[name] = (price[1]-price[0])/price[0]"
   ]
  },
  {
   "cell_type": "code",
   "execution_count": 31,
   "metadata": {},
   "outputs": [],
   "source": [
    "cursor = c.execute(\"SELECT price FROM price WHERE id = '0050 元大台灣50' AND (date = '2008-01-04' OR date = '2009-12-18') ORDER BY date ASC\")\n",
    "price = []\n",
    "for row in cursor:\n",
    "    price.append(row[0])\n",
    "rate['0050 元大台灣50'] = (price[1]-price[0])/price[0]"
   ]
  },
  {
   "cell_type": "code",
   "execution_count": 32,
   "metadata": {},
   "outputs": [
    {
     "name": "stdout",
     "output_type": "stream",
     "text": [
      "{'1101 台泥': -0.27467811158798294, '1102 亞泥': -0.2927083333333333, '1216 統一': -0.13922651933701652, '1301 台塑': -0.2722222222222222, '1303 南亞': -0.32932692307692313, '1402 遠東新': -0.012722646310432571, '2002 中鋼': -0.2779700115340254, '2105 正新': 0.4217821782178217, '2301 光寶科': -0.15384615384615385, '2303 聯電': -0.18537859007832894, '2308 台達電': -0.06268656716417907, '2317 鴻海': -0.24043715846994534, '2327 國巨': -0.06018518518518522, '2330 台積電': 0.03166666666666664, '2354 鴻準': -0.5095541401273885, '2357 華碩': -0.4085239085239086, '2382 廣達': 0.5917431192660552, '2395 研華': 0.08583690987124463, '2408 南亞科': 0.282122905027933, '2409 友達': -0.3915254237288136, '2454 聯發科': 0.44141689373297005, '2474 可成': -0.47306501547987617, '2492 華新科': -0.3672566371681416, '2801 彰銀': -0.17597765363128484, '2823 中壽': 0.24, '2880 華南金': -0.09112149532710277, '2881 富邦金': 0.2665534804753819, '2882 國泰金': -0.1693430656934307, '2883 開發金': -0.27125506072874495, '2884 玉山金': -0.24404761904761912, '2885 元大金': 0.009501187648456023, '2886 兆豐金': -0.1, '2887 台新金': -0.13653136531365323, '2890 永豐金': -0.06477732793522259, '2891 中信金': -0.18534482758620693, '2892 第一金': -0.19832985386221294, '2912 統一超': -0.11377245508982035, '3008 大立光': 0.06329113924050633, '3045 台灣大': 0.40274599542334083, '3481 群創': -0.5353121801432958, '4904 遠傳': -0.06790123456790123, '6505 台塑化': -0.11304347826086962, '9904 寶成': -0.1496598639455782, '0050 元大台灣50': -0.09898477157360408}\n"
     ]
    }
   ],
   "source": [
    "print(rate)"
   ]
  },
  {
   "cell_type": "code",
   "execution_count": 33,
   "metadata": {},
   "outputs": [],
   "source": [
    "remuneration = []\n",
    "for i in range(len(names)):\n",
    "    temp = rate[names[i]] + rate[names[sr[i][-1]]] + rate[names[sr[i][-2]]] + rate[names[sr[i][-3]]]\n",
    "    remuneration.append(temp)"
   ]
  },
  {
   "cell_type": "code",
   "execution_count": 34,
   "metadata": {},
   "outputs": [],
   "source": [
    "remuneration.append(-0.09898477157360408)"
   ]
  },
  {
   "cell_type": "code",
   "execution_count": 35,
   "metadata": {
    "scrolled": true
   },
   "outputs": [
    {
     "data": {
      "text/plain": [
       "[-0.2430350940943828,\n",
       " 0.614745695063484,\n",
       " -0.10758350184341631,\n",
       " 0.3447454436611504,\n",
       " 0.2876407428064495,\n",
       " 0.04415210301098166,\n",
       " 0.33899765434934725,\n",
       " 1.0387498441011944,\n",
       " 0.06795512874841612,\n",
       " 0.03569371568729031,\n",
       " 0.15838573860144012,\n",
       " -0.0193648527043261,\n",
       " 0.16088712058043397,\n",
       " 0.22728490818508973,\n",
       " -0.3139358986089654,\n",
       " -0.2129056670054855,\n",
       " 1.2087107851494279,\n",
       " 0.28145515138966776,\n",
       " 0.34474544366115045,\n",
       " -0.19590718221039052,\n",
       " 0.6370351352513932,\n",
       " -0.2774467739614531,\n",
       " -0.14618433140252235,\n",
       " -0.11910290430987064,\n",
       " 0.29687474932141417,\n",
       " -0.03424674600568858,\n",
       " 0.32342822979679614,\n",
       " 0.5872838733798307,\n",
       " -0.21438031140733074,\n",
       " -0.18142508041440172,\n",
       " 0.06637593696987026,\n",
       " 0.6762616545884097,\n",
       " 0.6200955737596081,\n",
       " -0.007902578613808331,\n",
       " -0.12272228895298953,\n",
       " 0.5582970852110484,\n",
       " -0.056897705768406165,\n",
       " 0.2589093807589294,\n",
       " -0.9971566239286448,\n",
       " -0.33969393862487274,\n",
       " -1.012987290950567,\n",
       " -0.05266796164699172,\n",
       " -0.092785114624164,\n",
       " -0.09898477157360408]"
      ]
     },
     "execution_count": 35,
     "metadata": {},
     "output_type": "execute_result"
    }
   ],
   "source": [
    "remuneration"
   ]
  },
  {
   "cell_type": "code",
   "execution_count": 36,
   "metadata": {},
   "outputs": [
    {
     "data": {
      "image/png": "[encoded data removed]",
      "text/plain": [
       "<Figure size 432x288 with 1 Axes>"
      ]
     },
     "metadata": {
      "needs_background": "light"
     },
     "output_type": "display_data"
    }
   ],
   "source": [
    "index = np.arange(len(remuneration))\n",
    "k = plt.bar(index,remuneration, .5)\n",
    "plt.grid(True)\n",
    "plt.show()"
   ]
  },
  {
   "cell_type": "code",
   "execution_count": 37,
   "metadata": {
    "scrolled": true
   },
   "outputs": [
    {
     "name": "stdout",
     "output_type": "stream",
     "text": [
      "0   1101 台泥   2474 可成   2454 聯發科   3008 大立光   -0.2430350940943828\n",
      "1   1102 亞泥   3045 台灣大   3008 大立光   2454 聯發科   0.614745695063484\n",
      "2   1216 統一   2454 聯發科   2474 可成   3008 大立光   -0.10758350184341631\n",
      "3   1301 台塑   4904 遠傳   2408 南亞科   3045 台灣大   0.3447454436611504\n",
      "4   1303 南亞   4904 遠傳   2408 南亞科   3045 台灣大   0.2876407428064495\n",
      "5   1402 遠東新   3045 台灣大   4904 遠傳   2002 中鋼   0.04415210301098166\n",
      "6   2002 中鋼   2408 南亞科   3045 台灣大   4904 遠傳   0.33899765434934725\n",
      "7   2105 正新   3045 台灣大   4904 遠傳   2408 南亞科   1.0387498441011944\n",
      "8   2301 光寶科   3045 台灣大   4904 遠傳   6505 台塑化   0.06795512874841612\n",
      "9   2303 聯電   3045 台灣大   4904 遠傳   2912 統一超   0.03569371568729031\n",
      "10   2308 台達電   3045 台灣大   4904 遠傳   2912 統一超   0.15838573860144012\n",
      "11   2317 鴻海   3045 台灣大   4904 遠傳   2912 統一超   -0.0193648527043261\n",
      "12   2327 國巨   3045 台灣大   4904 遠傳   2912 統一超   0.16088712058043397\n",
      "13   2330 台積電   4904 遠傳   3045 台灣大   1216 統一   0.22728490818508973\n",
      "14   2354 鴻準   4904 遠傳   3045 台灣大   1216 統一   -0.3139358986089654\n",
      "15   2357 華碩   3045 台灣大   4904 遠傳   1216 統一   -0.2129056670054855\n",
      "16   2382 廣達   4904 遠傳   3045 台灣大   2408 南亞科   1.2087107851494279\n",
      "17   2395 研華   3045 台灣大   4904 遠傳   1216 統一   0.28145515138966776\n",
      "18   2408 南亞科   4904 遠傳   1301 台塑   3045 台灣大   0.34474544366115045\n",
      "19   2409 友達   3045 台灣大   4904 遠傳   1216 統一   -0.19590718221039052\n",
      "20   2454 聯發科   3045 台灣大   4904 遠傳   1216 統一   0.6370351352513932\n",
      "21   2474 可成   4904 遠傳   3045 台灣大   1216 統一   -0.2774467739614531\n",
      "22   2492 華新科   4904 遠傳   3045 台灣大   2912 統一超   -0.14618433140252235\n",
      "23   2801 彰銀   3045 台灣大   4904 遠傳   2002 中鋼   -0.11910290430987064\n",
      "24   2823 中壽   3045 台灣大   4904 遠傳   2002 中鋼   0.29687474932141417\n",
      "25   2880 華南金   3045 台灣大   4904 遠傳   2002 中鋼   -0.03424674600568858\n",
      "26   2881 富邦金   4904 遠傳   3045 台灣大   2002 中鋼   0.32342822979679614\n",
      "27   2882 國泰金   4904 遠傳   3045 台灣大   2105 正新   0.5872838733798307\n",
      "28   2883 開發金   3045 台灣大   4904 遠傳   2002 中鋼   -0.21438031140733074\n",
      "29   2884 玉山金   3045 台灣大   4904 遠傳   1301 台塑   -0.18142508041440172\n",
      "30   2885 元大金   3045 台灣大   4904 遠傳   2002 中鋼   0.06637593696987026\n",
      "31   2886 兆豐金   4904 遠傳   3045 台灣大   2454 聯發科   0.6762616545884097\n",
      "32   2887 台新金   3045 台灣大   4904 遠傳   2105 正新   0.6200955737596081\n",
      "33   2890 永豐金   3045 台灣大   4904 遠傳   2002 中鋼   -0.007902578613808331\n",
      "34   2891 中信金   3045 台灣大   4904 遠傳   1301 台塑   -0.12272228895298953\n",
      "35   2892 第一金   3045 台灣大   4904 遠傳   2105 正新   0.5582970852110484\n",
      "36   2912 統一超   3045 台灣大   4904 遠傳   2002 中鋼   -0.056897705768406165\n",
      "37   3008 大立光   4904 遠傳   3045 台灣大   1216 統一   0.2589093807589294\n",
      "38   3045 台灣大   2474 可成   3481 群創   2409 友達   -0.9971566239286448\n",
      "39   3481 群創   4904 遠傳   3045 台灣大   1216 統一   -0.33969393862487274\n",
      "40   4904 遠傳   3008 大立光   2474 可成   3481 群創   -1.012987290950567\n",
      "41   6505 台塑化   2301 光寶科   4904 遠傳   2408 南亞科   -0.05266796164699172\n",
      "42   9904 寶成   4904 遠傳   3045 台灣大   2002 中鋼   -0.092785114624164\n"
     ]
    }
   ],
   "source": [
    "for i in range(len(names)):\n",
    "    print(str(i) + '   ' + names[i] + '   ' + names[sr[i][-1]] + '   ' + names[sr[i][-2]] + '   ' + names[sr[i][-3]]+ '   ' + str(remuneration[i]))"
   ]
  },
  {
   "cell_type": "code",
   "execution_count": 38,
   "metadata": {},
   "outputs": [],
   "source": [
    "rate = []"
   ]
  },
  {
   "cell_type": "code",
   "execution_count": 73,
   "metadata": {},
   "outputs": [],
   "source": [
    "cursor = c.execute(\"SELECT price_adjustment FROM price WHERE id = '0050 元大台灣50' AND (date = '2006-01-06' OR date = '2011-12-30') ORDER BY date ASC\")\n",
    "price = []\n",
    "for row in cursor:\n",
    "    price.append(row[0])\n",
    "rate = (price[1]-price[0])/price[0]"
   ]
  },
  {
   "cell_type": "code",
   "execution_count": 74,
   "metadata": {},
   "outputs": [
    {
     "data": {
      "text/plain": [
       "0.2367629362214199"
      ]
     },
     "execution_count": 74,
     "metadata": {},
     "output_type": "execute_result"
    }
   ],
   "source": [
    "rate"
   ]
  },
  {
   "cell_type": "code",
   "execution_count": 41,
   "metadata": {},
   "outputs": [
    {
     "data": {
      "text/plain": [
       "3.9460489370236647"
      ]
     },
     "execution_count": 41,
     "metadata": {},
     "output_type": "execute_result"
    }
   ],
   "source": [
    "rate/6*100"
   ]
  },
  {
   "cell_type": "code",
   "execution_count": 91,
   "metadata": {},
   "outputs": [
    {
     "data": {
      "text/plain": [
       "['2382 廣達', '4904 遠傳', '3045 台灣大']"
      ]
     },
     "execution_count": 91,
     "metadata": {},
     "output_type": "execute_result"
    }
   ],
   "source": [
    "earn = []\n",
    "earn.append(names[16])\n",
    "earn.append(names[sr[16][-1]])\n",
    "earn.append(names[sr[16][-2]])\n",
    "# earn.append(names[sr[16][-3]])\n",
    "earn"
   ]
  },
  {
   "cell_type": "code",
   "execution_count": 92,
   "metadata": {},
   "outputs": [],
   "source": [
    "rate = []"
   ]
  },
  {
   "cell_type": "code",
   "execution_count": 93,
   "metadata": {},
   "outputs": [],
   "source": [
    "for name in earn:\n",
    "    cursor = c.execute(\"SELECT price_adjustment FROM price WHERE id = ? AND (date = '2006-01-06' OR date = '2011-12-30') ORDER BY date ASC\",[name])\n",
    "    price = []\n",
    "    for row in cursor:\n",
    "        price.append(row[0])\n",
    "    rate.append((price[1]-price[0])/price[0])"
   ]
  },
  {
   "cell_type": "code",
   "execution_count": 94,
   "metadata": {},
   "outputs": [
    {
     "data": {
      "text/plain": [
       "[1.0239549084077033, 0.9428982725527832, 2.5828321487151453]"
      ]
     },
     "execution_count": 94,
     "metadata": {},
     "output_type": "execute_result"
    }
   ],
   "source": [
    "rate"
   ]
  },
  {
   "cell_type": "code",
   "execution_count": 95,
   "metadata": {},
   "outputs": [],
   "source": [
    "final = 0\n",
    "for i in rate:\n",
    "    final += i/4"
   ]
  },
  {
   "cell_type": "code",
   "execution_count": 96,
   "metadata": {},
   "outputs": [
    {
     "data": {
      "text/plain": [
       "1.137421332418908"
      ]
     },
     "execution_count": 96,
     "metadata": {},
     "output_type": "execute_result"
    }
   ],
   "source": [
    "final"
   ]
  },
  {
   "cell_type": "code",
   "execution_count": 97,
   "metadata": {},
   "outputs": [
    {
     "data": {
      "text/plain": [
       "18.9570222069818"
      ]
     },
     "execution_count": 97,
     "metadata": {},
     "output_type": "execute_result"
    }
   ],
   "source": [
    "final/6*100"
   ]
  },
  {
   "cell_type": "code",
   "execution_count": 75,
   "metadata": {},
   "outputs": [
    {
     "data": {
      "text/plain": [
       "4.804051472630815"
      ]
     },
     "execution_count": 75,
     "metadata": {},
     "output_type": "execute_result"
    }
   ],
   "source": [
    "final/rate"
   ]
  },
  {
   "cell_type": "code",
   "execution_count": null,
   "metadata": {},
   "outputs": [],
   "source": []
  }
 ],
 "metadata": {
  "kernelspec": {
   "display_name": "Python 3",
   "language": "python",
   "name": "python3"
  },
  "language_info": {
   "codemirror_mode": {
    "name": "ipython",
    "version": 3
   },
   "file_extension": ".py",
   "mimetype": "text/x-python",
   "name": "python",
   "nbconvert_exporter": "python",
   "pygments_lexer": "ipython3",
   "version": "3.7.0"
  }
 },
 "nbformat": 4,
 "nbformat_minor": 2
}
